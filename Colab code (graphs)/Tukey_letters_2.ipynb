{
  "nbformat": 4,
  "nbformat_minor": 0,
  "metadata": {
    "colab": {
      "provenance": [],
      "authorship_tag": "ABX9TyNWKoDMlCisn/mPgnxXFKht",
      "include_colab_link": true
    },
    "kernelspec": {
      "name": "python3",
      "display_name": "Python 3"
    },
    "language_info": {
      "name": "python"
    }
  },
  "cells": [
    {
      "cell_type": "markdown",
      "metadata": {
        "id": "view-in-github",
        "colab_type": "text"
      },
      "source": [
        "<a href=\"https://colab.research.google.com/github/MKolaksazov/Data-Science/blob/main/Tukey_letters_2.ipynb\" target=\"_parent\"><img src=\"https://colab.research.google.com/assets/colab-badge.svg\" alt=\"Open In Colab\"/></a>"
      ]
    },
    {
      "cell_type": "code",
      "execution_count": null,
      "metadata": {
        "colab": {
          "base_uri": "https://localhost:8080/",
          "height": 911
        },
        "id": "rYLO628TZ33i",
        "outputId": "50d0af86-b922-47ff-c624-02a1572c6591"
      },
      "outputs": [
        {
          "output_type": "stream",
          "name": "stdout",
          "text": [
            "[0    10\n",
            "1    12\n",
            "Name: Values, dtype: int64, 2    28\n",
            "3    21\n",
            "Name: Values, dtype: int64, 4     9\n",
            "5    14\n",
            "Name: Values, dtype: int64, 6    36\n",
            "7    30\n",
            "Name: Values, dtype: int64]\n",
            " Multiple Comparison of Means - Tukey HSD, FWER=0.05 \n",
            "=====================================================\n",
            "group1 group2 meandiff p-adj   lower    upper  reject\n",
            "-----------------------------------------------------\n",
            "     A      B     13.5 0.0749  -1.8671 28.8671  False\n",
            "     A      C      0.5  0.999 -14.8671 15.8671  False\n",
            "     A      D     22.0 0.0147   6.6329 37.3671   True\n",
            "     B      C    -13.0 0.0839 -28.3671  2.3671  False\n",
            "     B      D      8.5 0.2524  -6.8671 23.8671  False\n",
            "     C      D     21.5  0.016   6.1329 36.8671   True\n",
            "-----------------------------------------------------\n"
          ]
        },
        {
          "output_type": "display_data",
          "data": {
            "text/plain": [
              "<Figure size 1000x600 with 1 Axes>"
            ],
            "image/png": "[encoded data removed]"
          },
          "metadata": {}
        }
      ],
      "source": [
        "import numpy as np\n",
        "import pandas as pd\n",
        "import statsmodels.stats.multicomp as mc\n",
        "import scipy.stats as stats\n",
        "import matplotlib.pyplot as plt\n",
        "\n",
        "import itertools\n",
        "\n",
        "# Sample data (replace this with your data)\n",
        "data = pd.DataFrame({\n",
        "    'Group': ['A', 'A', 'B', 'B', 'C', 'C', 'D', 'D'],\n",
        "    'Values': [10, 12, 28, 21, 9, 14, 36, 30]\n",
        "})\n",
        "\n",
        "# Get unique variants from the DataFrame\n",
        "variants = data['Group'].unique()\n",
        "\n",
        "# Create all unique combinations of variants in pairs\n",
        "variant_pairs = list(itertools.combinations(variants, 2))\n",
        "\n",
        "# Print the variant pairs\n",
        "print(\"Variant Pairs:\")\n",
        "for pair in variant_pairs:\n",
        "    print(pair)\n",
        "\n",
        "# Perform one-way ANOVA to check for significant differences\n",
        "groups = [data[data['Group'] == group]['Values'] for group in data['Group'].unique()]\n",
        "f_stat, p_value = stats.f_oneway(*groups)\n",
        "print(groups)\n",
        "if p_value < 0.05:\n",
        "    # If the p-value is significant, perform Tukey's HSD test\n",
        "    mc_res = mc.MultiComparison(data['Values'], data['Group'])\n",
        "    result = mc_res.tukeyhsd()\n",
        "    print(result.summary())\n",
        "\n",
        "    # Create a plot with annotated statistically significant differences\n",
        "    fig, ax = plt.subplots()\n",
        "    result.plot_simultaneous(ax=ax, ylabel=\"Group\", xlabel=\"Mean Difference\")\n",
        "    plt.title(\"Tukey's Significant Difference Test\")\n",
        "    plt.show()\n",
        "else:\n",
        "    print(\"Tukey's HSD test is not applicable as the overall ANOVA result is not significant.\")\n"
      ]
    },
    {
      "cell_type": "code",
      "source": [],
      "metadata": {
        "id": "c5iEhAsbVCkD"
      },
      "execution_count": null,
      "outputs": []
    },
    {
      "cell_type": "code",
      "source": [
        "import numpy as np\n",
        "import pandas as pd\n",
        "import statsmodels.stats.multicomp as mc\n",
        "\n",
        "# Sample data (replace this with your data)\n",
        "data = pd.DataFrame({\n",
        "    'Group': ['A', 'A', 'B', 'B', 'C', 'C', 'D', 'D'],\n",
        "    'Values': [10, 12, 28, 21, 9, 14, 36, 30]\n",
        "})\n",
        "\n",
        "\n",
        "# Get unique variants from the DataFrame\n",
        "variants = data['Group'].unique()\n",
        "\n",
        "# Create all unique combinations of variants in pairs\n",
        "variant_pairs = list(itertools.combinations(variants, 2))\n",
        "\n",
        "# Print the variant pairs\n",
        "print(\"Variant Pairs:\")\n",
        "for pair in variant_pairs:\n",
        "    print(pair)\n",
        "\n",
        "# Perform one-way ANOVA to check for significant differences\n",
        "groups = [data[data['Group'] == group]['Values'] for group in data['Group'].unique()]\n",
        "f_stat, p_value = stats.f_oneway(*groups)\n",
        "\n",
        "if p_value < 0.05:\n",
        "    # If the p-value is significant, perform Tukey's HSD test\n",
        "    mc_res = mc.MultiComparison(data['Values'], data['Group'])\n",
        "    result = mc_res.tukeyhsd()\n",
        "\n",
        "    # Extract significant variants\n",
        "    significant_variants = []\n",
        "    for i in range(len(data['Group'].unique())):\n",
        "        for j in range(i + 1, len(data['Group'].unique())):\n",
        "            if result.reject[i]:\n",
        "                group_i, group_j = data['Group'].unique()[i], data['Group'].unique()[j]\n",
        "                mean_diff = result.meandiffs[i]\n",
        "                lower_ci, upper_ci = result.confint[i]\n",
        "                p_adj = result.pvalues[i]\n",
        "                significant_variants.append((group_i, group_j, mean_diff, lower_ci, upper_ci, p_adj))\n",
        "\n",
        "    # Create a DataFrame to store the significant variants\n",
        "    significant_variants_df = pd.DataFrame(significant_variants, columns=['Group A', 'Group B', 'Mean Difference',\n",
        "                                                                           'Lower CI', 'Upper CI', 'Adjusted P-Value'])\n",
        "\n",
        "    # Optionally, you can sort the DataFrame by the mean difference or the adjusted p-value\n",
        "    # significant_variants_df = significant_variants_df.sort_values(by='Mean Difference', ascending=False)\n",
        "    # significant_variants_df = significant_variants_df.sort_values(by='Adjusted P-Value')\n",
        "\n",
        "    # Save the results to a CSV file for reference in the paper\n",
        "    significant_variants_df.to_csv('significant_variants.csv', index=False)\n",
        "\n",
        "    # Print the significant variants for a quick overview\n",
        "    print(\"Significant Variants:\")\n",
        "    print(significant_variants_df)\n",
        "\n",
        "else:\n",
        "    print(\"Tukey's HSD test is not applicable as the overall ANOVA result is not significant.\")\n"
      ],
      "metadata": {
        "colab": {
          "base_uri": "https://localhost:8080/"
        },
        "id": "IGl1ZEETzR2K",
        "outputId": "729dffa5-605c-4dc3-d2ae-199dc705bc7f"
      },
      "execution_count": null,
      "outputs": [
        {
          "output_type": "stream",
          "name": "stdout",
          "text": [
            "Significant Variants:\n",
            "  Group A Group B  Mean Difference  Lower CI   Upper CI  Adjusted P-Value\n",
            "0       C       D             22.0  6.632854  37.367146          0.014721\n"
          ]
        }
      ]
    },
    {
      "cell_type": "code",
      "source": [
        "import itertools\n",
        "import pandas as pd\n",
        "\n",
        "# Sample data (replace this with your data)\n",
        "data = pd.DataFrame({\n",
        "    'Variant': ['A', 'B', 'C', 'D'],\n",
        "    'Value': [10, 12, 8, 11]\n",
        "})\n",
        "\n",
        "# Get unique variants from the DataFrame\n",
        "variants = data['Variant'].unique()\n",
        "\n",
        "# Create all unique combinations of variants in pairs\n",
        "variant_pairs = list(itertools.combinations(variants, 2))\n",
        "\n",
        "# Print the variant pairs\n",
        "print(\"Variant Pairs:\")\n",
        "for pair in variant_pairs:\n",
        "    print(pair)\n"
      ],
      "metadata": {
        "colab": {
          "base_uri": "https://localhost:8080/"
        },
        "id": "LXQjtb_P0Kk9",
        "outputId": "7bfa3663-6b6b-4f5d-8c9f-73dd9ef6d8b3"
      },
      "execution_count": null,
      "outputs": [
        {
          "output_type": "stream",
          "name": "stdout",
          "text": [
            "Variant Pairs:\n",
            "('A', 'B')\n",
            "('A', 'C')\n",
            "('A', 'D')\n",
            "('B', 'C')\n",
            "('B', 'D')\n",
            "('C', 'D')\n"
          ]
        }
      ]
    },
    {
      "cell_type": "markdown",
      "source": [
        "The following python code is working at identifying the statistically significant difference between grouped pairs from the experimental data variants. It uses the t-test instead of the Tukey's test."
      ],
      "metadata": {
        "id": "_WsiRvof2fq1"
      }
    },
    {
      "cell_type": "code",
      "source": [
        "import itertools\n",
        "import pandas as pd\n",
        "import statsmodels.stats.multicomp as mc\n",
        "\n",
        "# Sample data (replace this with your data)\n",
        "data = pd.DataFrame({\n",
        "    'Variant': ['A', 'A', 'B', 'B', 'C', 'C', 'D', 'D'],\n",
        "    'Value': [10, 12, 28, 21, 9, 14, 36, 30]\n",
        "})\n",
        "\n",
        "# Get unique variants from the DataFrame\n",
        "variants = data['Variant'].unique()\n",
        "\n",
        "# Create all unique combinations of variants in pairs\n",
        "variant_pairs = list(itertools.combinations(variants, 2))\n",
        "\n",
        "# Perform Tukey's test on each variant pair\n",
        "significant_pairs = []\n",
        "\n",
        "for pair in variant_pairs:\n",
        "    group1 = data[data['Variant'] == pair[0]]['Value']\n",
        "    group2 = data[data['Variant'] == pair[1]]['Value']\n",
        "    print(group1, group2)\n",
        "    _, p_value = stats.ttest_ind(group1, group2)\n",
        "\n",
        "    if p_value < 0.05:\n",
        "        significant_pairs.append((pair[0], pair[1]))\n",
        "\n",
        "# Print the significant variant pairs\n",
        "print(\"Significant Variant Pairs:\")\n",
        "for pair in significant_pairs:\n",
        "    print(pair)\n"
      ],
      "metadata": {
        "colab": {
          "base_uri": "https://localhost:8080/"
        },
        "id": "bQOPCekz2HLl",
        "outputId": "3382f98f-23f8-4d98-c6a5-bd439d6e48f6"
      },
      "execution_count": null,
      "outputs": [
        {
          "output_type": "stream",
          "name": "stdout",
          "text": [
            "0    10\n",
            "1    12\n",
            "Name: Value, dtype: int64 2    28\n",
            "3    21\n",
            "Name: Value, dtype: int64\n",
            "0    10\n",
            "1    12\n",
            "Name: Value, dtype: int64 4     9\n",
            "5    14\n",
            "Name: Value, dtype: int64\n",
            "0    10\n",
            "1    12\n",
            "Name: Value, dtype: int64 6    36\n",
            "7    30\n",
            "Name: Value, dtype: int64\n",
            "2    28\n",
            "3    21\n",
            "Name: Value, dtype: int64 4     9\n",
            "5    14\n",
            "Name: Value, dtype: int64\n",
            "2    28\n",
            "3    21\n",
            "Name: Value, dtype: int64 6    36\n",
            "7    30\n",
            "Name: Value, dtype: int64\n",
            "4     9\n",
            "5    14\n",
            "Name: Value, dtype: int64 6    36\n",
            "7    30\n",
            "Name: Value, dtype: int64\n",
            "Significant Variant Pairs:\n",
            "('A', 'D')\n",
            "('C', 'D')\n"
          ]
        }
      ]
    },
    {
      "cell_type": "code",
      "source": [
        "import itertools\n",
        "import pandas as pd\n",
        "import statsmodels.stats.multicomp as mc\n",
        "\n",
        "# Sample data (replace this with your data)\n",
        "data = pd.DataFrame({\n",
        "    'Variant': ['A', 'A', 'B', 'B', 'C', 'C', 'D', 'D'],\n",
        "    'Value': [10, 12, 28, 21, 9, 14, 36, 30]\n",
        "})\n",
        "\n",
        "# Get unique variants from the DataFrame\n",
        "variants = data['Variant'].unique()\n",
        "\n",
        "# Create all unique combinations of variants in pairs\n",
        "variant_pairs = list(itertools.combinations(variants, 2))\n",
        "\n",
        "\n",
        "\n",
        "# Perform one-way ANOVA to check for significant differences\n",
        "model = mc.MultiComparison(data['Value'], data['Variant'])\n",
        "result = model.tukeyhsd()\n",
        "\n",
        "# Extract significant variant pairs\n",
        "significant_pairs = []\n",
        "for i in range(len(data['Variant'].unique())):\n",
        "    for j in range(i + 1, len(data['Variant'].unique())):\n",
        "        if result.reject[i]:\n",
        "            significant_pairs.append((data['Variant'].unique()[i], data['Variant'].unique()[j]))\n",
        "\n",
        "# Print the significant variant pairs\n",
        "print(\"Significant Variant Pairs:\")\n",
        "for pair in significant_pairs:\n",
        "    print(pair)"
      ],
      "metadata": {
        "colab": {
          "base_uri": "https://localhost:8080/"
        },
        "id": "gtWrO34YCCBQ",
        "outputId": "5e726156-6af0-4714-b826-52e51e2ec64d"
      },
      "execution_count": null,
      "outputs": [
        {
          "output_type": "stream",
          "name": "stdout",
          "text": [
            "Significant Variant Pairs:\n",
            "('C', 'D')\n"
          ]
        }
      ]
    },
    {
      "cell_type": "code",
      "source": [
        "import numpy as np\n",
        "import pandas as pd\n",
        "import statsmodels.stats.multicomp as mc\n",
        "import scipy.stats as stats\n",
        "import matplotlib.pyplot as plt\n",
        "\n",
        "# Sample data (replace this with your data)\n",
        "data = pd.DataFrame({\n",
        "    'Group': ['A', 'A', 'B', 'B', 'C', 'C', 'D', 'D'],\n",
        "    'Values': [10, 12, 28, 21, 9, 14, 36, 30]\n",
        "})\n",
        "\n",
        "# Perform one-way ANOVA to check for significant differences\n",
        "groups = [data[data['Group'] == group]['Values'] for group in data['Group'].unique()]\n",
        "f_stat, p_value = stats.f_oneway(*groups)\n",
        "\n",
        "if p_value < 0.05:\n",
        "    # If the p-value is significant, perform Tukey's HSD test\n",
        "    mc_res = mc.MultiComparison(data['Values'], data['Group'])\n",
        "    result = mc_res.tukeyhsd() #data['Values'], data['Group'])\n",
        "\n",
        "    # Create a plot with annotated statistically significant differences\n",
        "    fig, ax = plt.subplots()\n",
        "    result.plot_simultaneous(ax=ax, ylabel=\"Group\", xlabel=\"Mean Difference\")\n",
        "\n",
        "    # Annotate the graph with letters for significant differences\n",
        "    y_ticks = ax.get_yticks()\n",
        "    sig_diff_pairs = [np.column_stack(np.where(result.reject))]\n",
        "    print(sig_diff_pairs[0])\n",
        "    p = [[0,3],[2,3]]\n",
        "    #'''\n",
        "    for pair in p:#sig_diff_pairs:\n",
        "        print(pair)\n",
        "        i, j = pair\n",
        "        mean_diff = result.meandiffs[pair]\n",
        "        x_pos = max(result.meandiffs) + 0.5\n",
        "        y_pos = (y_ticks[i] + y_ticks[j]) / 2\n",
        "        ax.annotate(\n",
        "            f'{result.groupsunique[i]}-{result.groupsunique[j]}',\n",
        "            xy=(x_pos, y_pos),\n",
        "            xytext=(x_pos + 0.5, y_pos),\n",
        "            arrowprops=dict(facecolor='black', arrowstyle='-'),\n",
        "            fontsize=12,\n",
        "            ha='left',\n",
        "            va='center'\n",
        "        )\n",
        "\n",
        "    plt.title(\"Tukey's Significant Difference Test\")\n",
        "    plt.show()\n",
        "else:\n",
        "    print(\"Tukey's HSD test is not applicable as the overall ANOVA result is not significant.\")\n",
        "#'''"
      ],
      "metadata": {
        "colab": {
          "base_uri": "https://localhost:8080/",
          "height": 633
        },
        "id": "cBYSsdvibMqc",
        "outputId": "915c8556-20e9-416e-a41d-421045aea9fc"
      },
      "execution_count": null,
      "outputs": [
        {
          "output_type": "stream",
          "name": "stdout",
          "text": [
            "[[2]\n",
            " [5]]\n",
            "[0, 3]\n",
            "[2, 3]\n"
          ]
        },
        {
          "output_type": "display_data",
          "data": {
            "text/plain": [
              "<Figure size 1000x600 with 1 Axes>"
            ],
            "image/png": "[encoded data removed]"
          },
          "metadata": {}
        }
      ]
    },
    {
      "cell_type": "code",
      "source": [
        "import numpy as np\n",
        "import pandas as pd\n",
        "import statsmodels.stats.multicomp as mc\n",
        "import scipy.stats as stats\n",
        "import matplotlib.pyplot as plt\n",
        "\n",
        "# Sample data (replace this with your data)\n",
        "data = pd.DataFrame({\n",
        "    'Group': ['A', 'A', 'B', 'B', 'C', 'C', 'D', 'D'],\n",
        "    'Values': [10, 12, 28, 21, 9, 14, 36, 30]\n",
        "})\n",
        "\n",
        "# Perform one-way ANOVA to check for significant differences\n",
        "groups = [data[data['Group'] == group]['Values'] for group in data['Group'].unique()]\n",
        "f_stat, p_value = stats.f_oneway(*groups)\n",
        "\n",
        "if p_value < 0.05:\n",
        "    # If the p-value is significant, perform Tukey's HSD test\n",
        "    mc_res = mc.MultiComparison(data['Values'], data['Group'])\n",
        "    result = mc_res.tukeyhsd()\n",
        "\n",
        "    # Create a plot with annotated statistically significant differences\n",
        "    fig, ax = plt.subplots()\n",
        "    result.plot_simultaneous(ax=ax, ylabel=\"Group\", xlabel=\"Mean Difference\")\n",
        "\n",
        "    # Annotate the graph with letters for significant differences\n",
        "    y_ticks = ax.get_yticks()\n",
        "    sig_diff_pairs = np.column_stack(np.where(result.reject))\n",
        "    letters = [chr(65 + i) for i in range(len(data['Group'].unique()))]\n",
        "    group_letters = dict(zip(data['Group'].unique(), letters))\n",
        "    p = [[0,3],[2,3]]\n",
        "    print(group_letters)\n",
        "    for pair in p:#sig_diff_pairs:\n",
        "        i, j = pair\n",
        "        mean_diff = result.meandiffs[pair]\n",
        "        x_pos = max(result.meandiffs) + 0.5\n",
        "        y_pos = (y_ticks[i] + y_ticks[j]) / 2\n",
        "\n",
        "        # Label groups with corresponding letters\n",
        "        ax.annotate(\n",
        "            f'{group_letters[result.groupsunique[i]]}',\n",
        "            xy=(x_pos, y_pos),\n",
        "            xytext=(x_pos + 0.5, y_pos),\n",
        "            arrowprops=dict(facecolor='black', arrowstyle='-'),\n",
        "            fontsize=12,\n",
        "            ha='left',\n",
        "            va='center'\n",
        "        )\n",
        "        ax.annotate(\n",
        "            f'{group_letters[result.groupsunique[j]]}',\n",
        "            xy=(x_pos, y_pos),\n",
        "            xytext=(x_pos - 0.5, y_pos),\n",
        "            arrowprops=dict(facecolor='black', arrowstyle='-'),\n",
        "            fontsize=12,\n",
        "            ha='right',\n",
        "            va='center'\n",
        "        )\n",
        "\n",
        "    plt.title(\"Tukey's Significant Difference Test\")\n",
        "    plt.show()\n",
        "else:\n",
        "    print(\"Tukey's HSD test is not applicable as the overall ANOVA result is not significant.\")\n"
      ],
      "metadata": {
        "colab": {
          "base_uri": "https://localhost:8080/",
          "height": 581
        },
        "id": "4a5n8ffOpUuZ",
        "outputId": "2246f90f-7b96-40a9-ce72-0655e2ffbef5"
      },
      "execution_count": null,
      "outputs": [
        {
          "output_type": "stream",
          "name": "stdout",
          "text": [
            "{'A': 'A', 'B': 'B', 'C': 'C', 'D': 'D'}\n"
          ]
        },
        {
          "output_type": "display_data",
          "data": {
            "text/plain": [
              "<Figure size 1000x600 with 1 Axes>"
            ],
            "image/png": "[encoded data removed]"
          },
          "metadata": {}
        }
      ]
    },
    {
      "cell_type": "code",
      "source": [
        "import numpy as np\n",
        "import pandas as pd\n",
        "import statsmodels.stats.multicomp as mc\n",
        "import scipy.stats as stats\n",
        "import matplotlib.pyplot as plt\n",
        "\n",
        "# Sample data (replace this with your data)\n",
        "data = pd.DataFrame({\n",
        "    'Group': ['A', 'A', 'B', 'B', 'C', 'C', 'D', 'D'],\n",
        "    'Values': [10, 12, 28, 21, 9, 14, 36, 30]\n",
        "})\n",
        "# Perform one-way ANOVA to check for significant differences\n",
        "groups = [data[data['Group'] == group]['Values'] for group in data['Group'].unique()]\n",
        "f_stat, p_value = stats.f_oneway(*groups)\n",
        "\n",
        "if p_value < 0.05:\n",
        "    # If the p-value is significant, perform Tukey's HSD test\n",
        "    mc_res = mc.MultiComparison(data['Values'], data['Group'])\n",
        "    result = mc_res.tukeyhsd()\n",
        "\n",
        "    # Create a plot with annotated statistically significant differences\n",
        "    fig, ax = plt.subplots()\n",
        "    result.plot_simultaneous(ax=ax, ylabel=\"Group\", xlabel=\"Mean Difference\")\n",
        "\n",
        "    # Annotate the graph with letters for significant and non-significant groups\n",
        "    y_ticks = ax.get_yticks()\n",
        "    #all_groups = data['Group'].unique()\n",
        "\n",
        "    all_groups = ['a-b', 'a-c', 'a-d', 'b-c', 'b-d', 'c-d']\n",
        "    letters = [chr(65 + i) for i in range(len(all_groups))]\n",
        "    group_letters = dict(zip(all_groups, letters))\n",
        "\n",
        "    print(all_groups, letters, group_letters)\n",
        "    pairs = np.column_stack(np.where(result.reject))\n",
        "\n",
        "    for i, group in enumerate(all_groups):\n",
        "        x_pos = max(result.meandiffs) + 0.5\n",
        "        y_pos = y_ticks[i]\n",
        "\n",
        "        # Check if the group is rejected\n",
        "        if result.reject[i]:\n",
        "            ax.annotate(\n",
        "                f'{group_letters[group]}',\n",
        "                xy=(x_pos, y_pos),\n",
        "                xytext=(x_pos + 0.5, y_pos),\n",
        "                arrowprops=dict(facecolor='black', arrowstyle='-'),\n",
        "                fontsize=12,\n",
        "                ha='left',\n",
        "                va='center'\n",
        "            )\n",
        "        else:\n",
        "            ax.annotate(\n",
        "                f'{group_letters[group]}',\n",
        "                xy=(x_pos, y_pos),\n",
        "                xytext=(x_pos - 0.5, y_pos),\n",
        "                arrowprops=dict(facecolor='black', arrowstyle='-'),\n",
        "                fontsize=12,\n",
        "                ha='right',\n",
        "                va='center'\n",
        "            )\n",
        "\n",
        "    plt.title(\"Tukey's Significant Difference Test\")\n",
        "    plt.show()\n",
        "else:\n",
        "    print(\"Tukey's HSD test is not applicable as the overall ANOVA result is not significant.\")\n"
      ],
      "metadata": {
        "colab": {
          "base_uri": "https://localhost:8080/",
          "height": 581
        },
        "id": "LTQmt1g8q6Uc",
        "outputId": "733616b4-cc5c-4d83-a08d-6c3dee895fda"
      },
      "execution_count": null,
      "outputs": [
        {
          "output_type": "stream",
          "name": "stdout",
          "text": [
            "['a-b', 'a-c', 'a-d', 'b-c', 'b-d', 'c-d'] ['A', 'B', 'C', 'D', 'E', 'F'] {'a-b': 'A', 'a-c': 'B', 'a-d': 'C', 'b-c': 'D', 'b-d': 'E', 'c-d': 'F'}\n"
          ]
        },
        {
          "output_type": "display_data",
          "data": {
            "text/plain": [
              "<Figure size 1000x600 with 1 Axes>"
            ],
            "image/png": "[encoded data removed]"
          },
          "metadata": {}
        }
      ]
    },
    {
      "cell_type": "code",
      "source": [
        "! pip install statsmodels matplotlib"
      ],
      "metadata": {
        "colab": {
          "base_uri": "https://localhost:8080/"
        },
        "id": "Fc8EgAGnaAn9",
        "outputId": "1c9e2bb4-9c64-4ca8-cb8a-0e20d62127d6"
      },
      "execution_count": null,
      "outputs": [
        {
          "output_type": "stream",
          "name": "stdout",
          "text": [
            "Requirement already satisfied: statsmodels in /usr/local/lib/python3.10/dist-packages (0.13.5)\n",
            "Requirement already satisfied: matplotlib in /usr/local/lib/python3.10/dist-packages (3.7.1)\n",
            "Requirement already satisfied: pandas>=0.25 in /usr/local/lib/python3.10/dist-packages (from statsmodels) (1.5.3)\n",
            "Requirement already satisfied: patsy>=0.5.2 in /usr/local/lib/python3.10/dist-packages (from statsmodels) (0.5.3)\n",
            "Requirement already satisfied: packaging>=21.3 in /usr/local/lib/python3.10/dist-packages (from statsmodels) (23.1)\n",
            "Requirement already satisfied: scipy>=1.3 in /usr/local/lib/python3.10/dist-packages (from statsmodels) (1.10.1)\n",
            "Requirement already satisfied: numpy>=1.17 in /usr/local/lib/python3.10/dist-packages (from statsmodels) (1.22.4)\n",
            "Requirement already satisfied: contourpy>=1.0.1 in /usr/local/lib/python3.10/dist-packages (from matplotlib) (1.1.0)\n",
            "Requirement already satisfied: cycler>=0.10 in /usr/local/lib/python3.10/dist-packages (from matplotlib) (0.11.0)\n",
            "Requirement already satisfied: fonttools>=4.22.0 in /usr/local/lib/python3.10/dist-packages (from matplotlib) (4.40.0)\n",
            "Requirement already satisfied: kiwisolver>=1.0.1 in /usr/local/lib/python3.10/dist-packages (from matplotlib) (1.4.4)\n",
            "Requirement already satisfied: pillow>=6.2.0 in /usr/local/lib/python3.10/dist-packages (from matplotlib) (8.4.0)\n",
            "Requirement already satisfied: pyparsing>=2.3.1 in /usr/local/lib/python3.10/dist-packages (from matplotlib) (3.1.0)\n",
            "Requirement already satisfied: python-dateutil>=2.7 in /usr/local/lib/python3.10/dist-packages (from matplotlib) (2.8.2)\n",
            "Requirement already satisfied: pytz>=2020.1 in /usr/local/lib/python3.10/dist-packages (from pandas>=0.25->statsmodels) (2022.7.1)\n",
            "Requirement already satisfied: six in /usr/local/lib/python3.10/dist-packages (from patsy>=0.5.2->statsmodels) (1.16.0)\n"
          ]
        }
      ]
    },
    {
      "cell_type": "code",
      "source": [
        "import pandas as pd\n",
        "import statsmodels.stats.multicomp as mc\n",
        "import matplotlib.pyplot as plt\n",
        "from string import ascii_uppercase\n",
        "\n",
        "import numpy as np\n",
        "import scipy.stats as stats\n",
        "import itertools\n",
        "\n",
        "# Sample data (replace this with your data)\n",
        "data = pd.DataFrame({\n",
        "    'Variant': ['A', 'A', 'B', 'B', 'C', 'C', 'D', 'D'],\n",
        "    'Value': [10, 12, 28, 21, 9, 14, 36, 30]\n",
        "})\n",
        "\n",
        "\n",
        "# Perform one-way ANOVA to check for significant differences\n",
        "model = mc.MultiComparison(data['Value'], data['Variant'])\n",
        "result = model.tukeyhsd()\n",
        "\n",
        "# Extract significant variant pairs and their corresponding letters\n",
        "significant_pairs = {}\n",
        "letters = iter(ascii_uppercase)\n",
        "\n",
        "for i in range(len(data['Variant'].unique())):\n",
        "    for j in range(i + 1, len(data['Variant'].unique())):\n",
        "        if result.reject[i]:\n",
        "            variant_i, variant_j = data['Variant'].unique()[i], data['Variant'].unique()[j]\n",
        "            letter_i = significant_pairs.get(variant_i, next(letters))\n",
        "            letter_j = significant_pairs.get(variant_j, next(letters))\n",
        "            significant_pairs[variant_i] = letter_i\n",
        "            significant_pairs[variant_j] = letter_j\n",
        "\n",
        "# Create a plot with stars indicating significant differences\n",
        "fig, ax = plt.subplots()\n",
        "data.boxplot(column='Value', by='Variant', ax=ax)\n",
        "\n",
        "# Add stars to indicate significant differences\n",
        "for i, group in enumerate(data['Variant'].unique()):\n",
        "    letter = significant_pairs.get(group, '')\n",
        "    y_pos = data[data['Variant'] == group]['Value'].max() + 0.5\n",
        "    ax.text(i + 1, y_pos, f\"{letter}\", ha='center', va='bottom', fontsize=12)\n",
        "\n",
        "plt.title(\"Boxplot with Stars Indicating Significant Differences\")\n",
        "plt.xlabel(\"Variant\")\n",
        "plt.ylabel(\"Value\")\n",
        "plt.show()\n"
      ],
      "metadata": {
        "colab": {
          "base_uri": "https://localhost:8080/",
          "height": 478
        },
        "id": "D3OHcOSBU_b9",
        "outputId": "0be04619-e21e-4859-f7ea-dfe909d5e918"
      },
      "execution_count": null,
      "outputs": [
        {
          "output_type": "display_data",
          "data": {
            "text/plain": [
              "<Figure size 640x480 with 1 Axes>"
            ],
            "image/png": "[encoded data removed]"
          },
          "metadata": {}
        }
      ]
    }
  ]
}
