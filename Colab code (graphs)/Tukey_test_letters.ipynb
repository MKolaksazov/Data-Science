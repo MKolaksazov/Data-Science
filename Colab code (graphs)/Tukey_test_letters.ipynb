{
  "nbformat": 4,
  "nbformat_minor": 0,
  "metadata": {
    "colab": {
      "provenance": [],
      "authorship_tag": "ABX9TyOKucXyMfcasm3lVrmcThAX",
      "include_colab_link": true
    },
    "kernelspec": {
      "name": "python3",
      "display_name": "Python 3"
    },
    "language_info": {
      "name": "python"
    }
  },
  "cells": [
    {
      "cell_type": "markdown",
      "metadata": {
        "id": "view-in-github",
        "colab_type": "text"
      },
      "source": [
        "<a href=\"https://colab.research.google.com/github/MKolaksazov/Data-Science/blob/main/Colab%20code%20(graphs)/Tukey_test_letters.ipynb\" target=\"_parent\"><img src=\"https://colab.research.google.com/assets/colab-badge.svg\" alt=\"Open In Colab\"/></a>"
      ]
    },
    {
      "cell_type": "markdown",
      "source": [
        "# Drawing a 'BOXPLOT' graph\n",
        "\n",
        "Includes letters, showing the significant differences between variants, derived by the means of the Tukey's test."
      ],
      "metadata": {
        "id": "C7JWMKLnIUEw"
      }
    },
    {
      "cell_type": "markdown",
      "source": [
        "####1) importing of the libraries and the **.csv** file\n",
        "\n",
        "The columns of this table file should containt parameters, whereas the group variants written as indexes of the rows. These indexes will be shown in the first column, named *'groups'*.\n",
        "\n",
        "the delimiter is usually a semicolon ```;```, but can be a tabulation ```\\t```\n"
      ],
      "metadata": {
        "id": "Oosa1hRlI8vI"
      }
    },
    {
      "cell_type": "code",
      "execution_count": 44,
      "metadata": {
        "id": "R3e1yglf-DMD"
      },
      "outputs": [],
      "source": [
        "import pandas as pd\n",
        "import numpy as np\n",
        "# exp_0726_OJIP_p\n",
        "df = pd.read_csv(\"/content/CCI.csv\", delimiter=';', decimal=',') # delimiter '\\t' or ';'"
      ]
    },
    {
      "cell_type": "markdown",
      "source": [
        "1.2) Popping out the labels of the variation groups in a dataframe, called *'names'*.\n",
        "Transposing the dataframe, so that it can be easily processed by the covariance test analysis and matplotlib. Converting it into numpy array."
      ],
      "metadata": {
        "id": "tgDoWouVB-Xq"
      }
    },
    {
      "cell_type": "code",
      "source": [
        "names = df.pop('groups')\n",
        "transposed_df = df.T\n",
        "named = np.array(names)\n",
        "transposed_df"
      ],
      "metadata": {
        "colab": {
          "base_uri": "https://localhost:8080/",
          "height": 110
        },
        "id": "rvq8nc8aSvWs",
        "outputId": "5acfb235-be36-4483-ab67-2e49493b31c9"
      },
      "execution_count": 45,
      "outputs": [
        {
          "output_type": "execute_result",
          "data": {
            "text/plain": [
              "       0     1     2     3     4     5     6     7     8     9   ...    58  \\\n",
              "cci  37.3  51.7  58.0  72.0  61.9  21.8  47.1  61.7  59.0  49.2  ...  54.7   \n",
              "\n",
              "       59    60    61    62    63    64    65    66    67  \n",
              "cci  60.9  51.9  37.1  28.8  63.1  18.2  40.2  54.0  35.4  \n",
              "\n",
              "[1 rows x 68 columns]"
            ],
            "text/html": [
              "\n",
              "  <div id=\"df-cf673ea0-7f85-4c42-afdf-d5d166916f3a\" class=\"colab-df-container\">\n",
              "    <div>\n",
              "<style scoped>\n",
              "    .dataframe tbody tr th:only-of-type {\n",
              "        vertical-align: middle;\n",
              "    }\n",
              "\n",
              "    .dataframe tbody tr th {\n",
              "        vertical-align: top;\n",
              "    }\n",
              "\n",
              "    .dataframe thead th {\n",
              "        text-align: right;\n",
              "    }\n",
              "</style>\n",
              "<table border=\"1\" class=\"dataframe\">\n",
              "  <thead>\n",
              "    <tr style=\"text-align: right;\">\n",
              "      <th></th>\n",
              "      <th>0</th>\n",
              "      <th>1</th>\n",
              "      <th>2</th>\n",
              "      <th>3</th>\n",
              "      <th>4</th>\n",
              "      <th>5</th>\n",
              "      <th>6</th>\n",
              "      <th>7</th>\n",
              "      <th>8</th>\n",
              "      <th>9</th>\n",
              "      <th>...</th>\n",
              "      <th>58</th>\n",
              "      <th>59</th>\n",
              "      <th>60</th>\n",
              "      <th>61</th>\n",
              "      <th>62</th>\n",
              "      <th>63</th>\n",
              "      <th>64</th>\n",
              "      <th>65</th>\n",
              "      <th>66</th>\n",
              "      <th>67</th>\n",
              "    </tr>\n",
              "  </thead>\n",
              "  <tbody>\n",
              "    <tr>\n",
              "      <th>cci</th>\n",
              "      <td>37.3</td>\n",
              "      <td>51.7</td>\n",
              "      <td>58.0</td>\n",
              "      <td>72.0</td>\n",
              "      <td>61.9</td>\n",
              "      <td>21.8</td>\n",
              "      <td>47.1</td>\n",
              "      <td>61.7</td>\n",
              "      <td>59.0</td>\n",
              "      <td>49.2</td>\n",
              "      <td>...</td>\n",
              "      <td>54.7</td>\n",
              "      <td>60.9</td>\n",
              "      <td>51.9</td>\n",
              "      <td>37.1</td>\n",
              "      <td>28.8</td>\n",
              "      <td>63.1</td>\n",
              "      <td>18.2</td>\n",
              "      <td>40.2</td>\n",
              "      <td>54.0</td>\n",
              "      <td>35.4</td>\n",
              "    </tr>\n",
              "  </tbody>\n",
              "</table>\n",
              "<p>1 rows × 68 columns</p>\n",
              "</div>\n",
              "    <div class=\"colab-df-buttons\">\n",
              "\n",
              "  <div class=\"colab-df-container\">\n",
              "    <button class=\"colab-df-convert\" onclick=\"convertToInteractive('df-cf673ea0-7f85-4c42-afdf-d5d166916f3a')\"\n",
              "            title=\"Convert this dataframe to an interactive table.\"\n",
              "            style=\"display:none;\">\n",
              "\n",
              "  <svg xmlns=\"http://www.w3.org/2000/svg\" height=\"24px\" viewBox=\"0 -960 960 960\">\n",
              "    <path d=\"M120-120v-720h720v720H120Zm60-500h600v-160H180v160Zm220 220h160v-160H400v160Zm0 220h160v-160H400v160ZM180-400h160v-160H180v160Zm440 0h160v-160H620v160ZM180-180h160v-160H180v160Zm440 0h160v-160H620v160Z\"/>\n",
              "  </svg>\n",
              "    </button>\n",
              "\n",
              "  <style>\n",
              "    .colab-df-container {\n",
              "      display:flex;\n",
              "      gap: 12px;\n",
              "    }\n",
              "\n",
              "    .colab-df-convert {\n",
              "      background-color: #E8F0FE;\n",
              "      border: none;\n",
              "      border-radius: 50%;\n",
              "      cursor: pointer;\n",
              "      display: none;\n",
              "      fill: #1967D2;\n",
              "      height: 32px;\n",
              "      padding: 0 0 0 0;\n",
              "      width: 32px;\n",
              "    }\n",
              "\n",
              "    .colab-df-convert:hover {\n",
              "      background-color: #E2EBFA;\n",
              "      box-shadow: 0px 1px 2px rgba(60, 64, 67, 0.3), 0px 1px 3px 1px rgba(60, 64, 67, 0.15);\n",
              "      fill: #174EA6;\n",
              "    }\n",
              "\n",
              "    .colab-df-buttons div {\n",
              "      margin-bottom: 4px;\n",
              "    }\n",
              "\n",
              "    [theme=dark] .colab-df-convert {\n",
              "      background-color: #3B4455;\n",
              "      fill: #D2E3FC;\n",
              "    }\n",
              "\n",
              "    [theme=dark] .colab-df-convert:hover {\n",
              "      background-color: #434B5C;\n",
              "      box-shadow: 0px 1px 3px 1px rgba(0, 0, 0, 0.15);\n",
              "      filter: drop-shadow(0px 1px 2px rgba(0, 0, 0, 0.3));\n",
              "      fill: #FFFFFF;\n",
              "    }\n",
              "  </style>\n",
              "\n",
              "    <script>\n",
              "      const buttonEl =\n",
              "        document.querySelector('#df-cf673ea0-7f85-4c42-afdf-d5d166916f3a button.colab-df-convert');\n",
              "      buttonEl.style.display =\n",
              "        google.colab.kernel.accessAllowed ? 'block' : 'none';\n",
              "\n",
              "      async function convertToInteractive(key) {\n",
              "        const element = document.querySelector('#df-cf673ea0-7f85-4c42-afdf-d5d166916f3a');\n",
              "        const dataTable =\n",
              "          await google.colab.kernel.invokeFunction('convertToInteractive',\n",
              "                                                    [key], {});\n",
              "        if (!dataTable) return;\n",
              "\n",
              "        const docLinkHtml = 'Like what you see? Visit the ' +\n",
              "          '<a target=\"_blank\" href=https://colab.research.google.com/notebooks/data_table.ipynb>data table notebook</a>'\n",
              "          + ' to learn more about interactive tables.';\n",
              "        element.innerHTML = '';\n",
              "        dataTable['output_type'] = 'display_data';\n",
              "        await google.colab.output.renderOutput(dataTable, element);\n",
              "        const docLink = document.createElement('div');\n",
              "        docLink.innerHTML = docLinkHtml;\n",
              "        element.appendChild(docLink);\n",
              "      }\n",
              "    </script>\n",
              "  </div>\n",
              "\n",
              "    </div>\n",
              "  </div>\n"
            ]
          },
          "metadata": {},
          "execution_count": 45
        }
      ]
    },
    {
      "cell_type": "markdown",
      "source": [
        "1.3) An optional step required to abbreviate the longer latin names of the crops, so that they can fit in the graph."
      ],
      "metadata": {
        "id": "HmDAiYzDFo7v"
      }
    },
    {
      "cell_type": "code",
      "source": [
        "import re\n",
        "# Abbreviating the latin names from 'Aaaaa aaaaaa (L.)' to 'A. aaaaaa (L.)'\n",
        "for i in range(len(names)):\n",
        "    c = names[i][0]\n",
        "    names[i] = re.sub(r'[A-Z]([a-z]+ )', c + '. ', names[i])\n",
        "names"
      ],
      "metadata": {
        "colab": {
          "base_uri": "https://localhost:8080/"
        },
        "id": "-6W8NK9ykOte",
        "outputId": "73c2cd3e-8e62-40a7-b540-866de8b5b88d"
      },
      "execution_count": 46,
      "outputs": [
        {
          "output_type": "execute_result",
          "data": {
            "text/plain": [
              "0     MB\n",
              "1     MB\n",
              "2     MB\n",
              "3     MB\n",
              "4     MB\n",
              "      ..\n",
              "63    MR\n",
              "64    MR\n",
              "65    MR\n",
              "66    MR\n",
              "67    MR\n",
              "Name: groups, Length: 68, dtype: object"
            ]
          },
          "metadata": {},
          "execution_count": 46
        }
      ]
    },
    {
      "cell_type": "markdown",
      "source": [
        "1.4) Popping out the column with the desired parameter by writing the name in the 'pop' function, as well as transposing it."
      ],
      "metadata": {
        "id": "rx_-ENpXF8x7"
      }
    },
    {
      "cell_type": "code",
      "source": [
        "params = df.pop('cci') #required param\n",
        "transp_df = params.T\n",
        "\n",
        "#dff = np.array(params)"
      ],
      "metadata": {
        "id": "riY59rIGgqp2"
      },
      "execution_count": 47,
      "outputs": []
    },
    {
      "cell_type": "markdown",
      "source": [
        "1.5) Converting the dataframe into a 1D numpy array"
      ],
      "metadata": {
        "id": "FhbUoeHZGg2N"
      }
    },
    {
      "cell_type": "code",
      "source": [
        "from matplotlib.patches import namedtuple\n",
        "#convert dataframe to matrix\n",
        "conv_arr= transp_df.values\n",
        "\n",
        "#split matrix into 3 columns each into 1d array\n",
        "\n",
        "#converting into 1D array\n",
        "one_D_array = conv_arr.ravel()\n",
        "\n",
        "print(one_D_array)\n",
        "\n",
        "# variants as well:\n",
        "print(names)"
      ],
      "metadata": {
        "colab": {
          "base_uri": "https://localhost:8080/"
        },
        "id": "LWXXonmvTvjI",
        "outputId": "00e39c98-2ca7-4637-835e-32ee50968a07"
      },
      "execution_count": 49,
      "outputs": [
        {
          "output_type": "stream",
          "name": "stdout",
          "text": [
            "[37.3 51.7 58.  72.  61.9 21.8 47.1 61.7 59.  49.2 64.4 50.  40.  47.1\n",
            " 35.6 38.2 28.3 43.7 45.3 59.8 33.3 58.1 77.6 64.4 64.1 72.6 75.6 50.9\n",
            " 71.6 70.2 53.1 69.4 47.  46.8 47.9 60.3 64.1 48.6 65.5 62.  48.6 60.7\n",
            " 58.1 68.1 52.4 57.5 43.2 61.6 34.8 64.8 57.8 75.3 61.2 67.  41.  53.7\n",
            " 57.5 73.3 54.7 60.9 51.9 37.1 28.8 63.1 18.2 40.2 54.  35.4]\n",
            "0     MB\n",
            "1     MB\n",
            "2     MB\n",
            "3     MB\n",
            "4     MB\n",
            "      ..\n",
            "63    MR\n",
            "64    MR\n",
            "65    MR\n",
            "66    MR\n",
            "67    MR\n",
            "Name: groups, Length: 68, dtype: object\n"
          ]
        }
      ]
    },
    {
      "cell_type": "markdown",
      "source": [
        "####2) arranging the data by samples column-wise and taking out the names of the variants in a different array"
      ],
      "metadata": {
        "id": "swp-ZiLbJIIh"
      }
    },
    {
      "cell_type": "markdown",
      "source": [
        "Converting the 2-D pandas dataframe into a 1-D numpy array. ```numpy.append(array1, array2) ``` can be used to append two arrays.\n",
        "\n",
        "Probably ```pandas.dataframe.pop()``` can be used as well."
      ],
      "metadata": {
        "id": "DVlS-hBPJjVS"
      }
    },
    {
      "cell_type": "code",
      "source": [
        "# Sample data (replace this with your data)\n",
        "data = pd.DataFrame({\n",
        "    'Variant': names,\n",
        "    'Value': one_D_array\n",
        "})"
      ],
      "metadata": {
        "id": "WP0rCaFCJ3aC"
      },
      "execution_count": 50,
      "outputs": []
    },
    {
      "cell_type": "markdown",
      "source": [
        "3) performing the co-variance test\n",
        "(the following is a variant, showing the t-test)\n",
        "(currently not shown)"
      ],
      "metadata": {
        "id": "NWmrSR9_Jnbr"
      }
    },
    {
      "cell_type": "markdown",
      "source": [
        "4) This is a very simple code, showing a Tukey's test analysis and printing the summarized data"
      ],
      "metadata": {
        "id": "QHDE8lztKewK"
      }
    },
    {
      "cell_type": "code",
      "source": [
        "import statsmodels.stats.multicomp as mc\n",
        "\n",
        "# Perform one-way ANOVA to check for significant differences\n",
        "model = mc.MultiComparison(data['Value'], data['Variant'])\n",
        "result = model.tukeyhsd()\n",
        "\n",
        "print(result.summary(), len(result.reject))"
      ],
      "metadata": {
        "colab": {
          "base_uri": "https://localhost:8080/"
        },
        "id": "P-o5rG0hKOgv",
        "outputId": "b282e690-1f2d-471a-9a62-9fd25ee2f914"
      },
      "execution_count": 51,
      "outputs": [
        {
          "output_type": "stream",
          "name": "stdout",
          "text": [
            " Multiple Comparison of Means - Tukey HSD, FWER=0.05 \n",
            "=====================================================\n",
            "group1 group2 meandiff p-adj   lower    upper  reject\n",
            "-----------------------------------------------------\n",
            "    B1     B2    24.01 0.0003   8.5359 39.4841   True\n",
            "    B1     B3  11.5933 0.2986  -4.3048 27.4914  False\n",
            "    B1    Ch1    12.89 0.1636  -2.5841 28.3641  False\n",
            "    B1    Ch2  14.7236 0.0611  -0.3947 29.8419  False\n",
            "    B1     MB   9.9017 0.4024  -4.9136  24.717  False\n",
            "    B1     MR    -2.99 0.9986 -20.8579 14.8779  False\n",
            "    B2     B3 -12.4167 0.2243 -28.3148  3.4814  False\n",
            "    B2    Ch1   -11.12 0.3155 -26.5941  4.3541  False\n",
            "    B2    Ch2  -9.2864 0.5058 -24.4047  5.8319  False\n",
            "    B2     MB -14.1083 0.0719 -28.9236   0.707  False\n",
            "    B2     MR    -27.0 0.0004 -44.8679 -9.1321   True\n",
            "    B3    Ch1   1.2967    1.0 -14.6014 17.1948  False\n",
            "    B3    Ch2   3.1303 0.9961 -12.4217 18.6823  False\n",
            "    B3     MB  -1.6917 0.9999 -16.9493  13.566  False\n",
            "    B3     MR -14.5833 0.2009 -32.8197  3.6531  False\n",
            "   Ch1    Ch2   1.8336 0.9998 -13.2847 16.9519  False\n",
            "   Ch1     MB  -2.9883 0.9961 -17.8036  11.827  False\n",
            "   Ch1     MR   -15.88 0.1132 -33.7479  1.9879  False\n",
            "   Ch2     MB   -4.822 0.9479 -19.2653  9.6213  False\n",
            "   Ch2     MR -17.7136 0.0467 -35.2744 -0.1529   True\n",
            "    MB     MR -12.8917 0.2743 -30.1922  4.4089  False\n",
            "----------------------------------------------------- 21\n"
          ]
        }
      ]
    },
    {
      "cell_type": "code",
      "source": [
        "import scipy.stats as stats\n",
        "import matplotlib.pyplot as plt"
      ],
      "metadata": {
        "id": "XWqL6nNh1TX1"
      },
      "execution_count": 52,
      "outputs": []
    },
    {
      "cell_type": "code",
      "source": [
        "# define columns for data and then grouping\n",
        "col_to_group='Variant'\n",
        "col_for_data='Value'\n",
        "\n",
        "#Now take teh data and regroup for anova\n",
        "samples = [cols[1] for cols in data.groupby('Variant')['Value']]\n",
        "#I am not sure how this works but it makes an numpy array for each group\n",
        "f_val, p_val = stats.f_oneway(*samples)\n",
        "# I am not sure what this star does but this passes all the numpy arrays correctly\n",
        "\n",
        "# this if statement can be uncommmented if you don't won't to go furhter with out p<0.05\n",
        "#if p_val<0.05:    #If the p value is less than 0.05 it then does the tukey\n",
        "mod = mc.MultiComparison(data['Value'], data['Variant'])\n",
        "thsd=mod.tukeyhsd()\n",
        "\n",
        "#this is a function to do Piepho method.\n",
        "#AN Alogrithm for a letter based representation of al-pairwise comparisons.\n",
        "tot=len(thsd.groupsunique)\n",
        "#make an empty dataframe that is a square matrix of size of the groups. #set first column to 1\n",
        "df_ltr=pd.DataFrame(np.nan, index=np.arange(tot),columns=np.arange(tot))\n",
        "#df_ltr.iloc[:,0]=1\n",
        "df_ltr[df_ltr.columns[0]] = 1\n",
        "#df[df.columns[i]] = newvals` or, if columns are non-unique, `df.isetitem(i, newvals)\n",
        "\n",
        "count=0\n",
        "df_nms = pd.DataFrame('', index=np.arange(tot), columns=['names'])\n",
        "# I make a dummy dataframe to put axis labels into.  sd stands for signifcant difference\n",
        "\n",
        "for i in np.arange(tot):   #I loop through and make all pairwise comparisons.\n",
        "    for j in np.arange(i+1,tot):\n",
        "        #print('i=',i,'j=',j,thsd.reject[count])\n",
        "        if thsd.reject[count]==True:\n",
        "            for cn in np.arange(tot):\n",
        "                if df_ltr.iloc[i,cn]==1 and df_ltr.iloc[j,cn]==1:\n",
        "                  #If the column contains both i and j shift and duplicat\n",
        "                    df_ltr=pd.concat([df_ltr.iloc[:,:cn+1],df_ltr.iloc[:,cn+1:].T.shift().T],axis=1)\n",
        "                    df_ltr[df_ltr.columns[cn+1]]=df_ltr[df_ltr.columns[cn]]\n",
        "                    df_ltr.iloc[i,cn]=0\n",
        "                    df_ltr.iloc[j,cn+1]=0\n",
        "                #Now we need to check all columns for abosortpion.\n",
        "                for cleft in np.arange(len(df_ltr.columns)-1):\n",
        "                    for cright in np.arange(cleft+1,len(df_ltr.columns)):\n",
        "                        if (df_ltr[df_ltr.columns[cleft]].isna()).all()==False and (df_ltr[df_ltr.columns[cright]].isna()).all()==False:\n",
        "                            if (df_ltr[df_ltr.columns[cleft]]>=df_ltr[df_ltr.columns[cright]]).all()==True:\n",
        "                                df_ltr[df_ltr.columns[cright]]=0\n",
        "                                df_ltr=pd.concat([df_ltr[df_ltr.columns[:cright]],df_ltr[df_ltr.columns[cright:]].T.shift(-1).T],axis=1)\n",
        "                            if (df_ltr[df_ltr.columns[cleft]]<=df_ltr[df_ltr.columns[cright]]).all()==True:\n",
        "                                df_ltr[df_ltr.columns[cleft]]=0\n",
        "                                df_ltr=pd.concat([df_ltr[df_ltr.columns[:cleft]],df_ltr[df_ltr.columns[cleft:]].T.shift(-1).T],axis=1)\n",
        "\n",
        "        count+=1\n",
        "\n",
        "#I sort so that the first column becomes A\n",
        "df_ltr=df_ltr.sort_values(by=list(df_ltr.columns),axis=1,ascending=False)\n",
        "\n",
        "# I assign letters to each column\n",
        "for cn in np.arange(len(df_ltr.columns)):\n",
        "    df_ltr[df_ltr.columns[cn]]=df_ltr[df_ltr.columns[cn]].replace(1,chr(97+cn))\n",
        "    df_ltr[df_ltr.columns[cn]]=df_ltr[df_ltr.columns[cn]].replace(0,'')\n",
        "    df_ltr[df_ltr.columns[cn]]=df_ltr[df_ltr.columns[cn]].replace(np.nan,'')\n",
        "\n",
        "#I put all the letters into one string\n",
        "df_ltr=df_ltr.astype(str)\n",
        "df_ltr.sum(axis=1)\n"
      ],
      "metadata": {
        "colab": {
          "base_uri": "https://localhost:8080/"
        },
        "id": "q1iiUvP25_C7",
        "outputId": "13457403-bb4e-487f-846e-4a00ade5d95b"
      },
      "execution_count": 53,
      "outputs": [
        {
          "output_type": "execute_result",
          "data": {
            "text/plain": [
              "0     ab\n",
              "1      c\n",
              "2    abc\n",
              "3    abc\n",
              "4     ac\n",
              "5    abc\n",
              "6      b\n",
              "dtype: object"
            ]
          },
          "metadata": {},
          "execution_count": 53
        }
      ]
    },
    {
      "cell_type": "code",
      "source": [
        "\n",
        "#Now to plot like R with a violing plot\n",
        "fig,ax=plt.subplots()\n",
        "data.boxplot(column=col_for_data, by=col_to_group,ax=ax,fontsize=14, color='black')\n",
        "\n",
        "#,showmeans=True\n",
        "#,boxprops=dict(linewidth=2.0),whiskerprops=dict(linewidth=2.0))  #This makes the boxplot\n",
        "\n",
        "grps=pd.unique(data[col_to_group].values)   #Finds the group names\n",
        "grps.sort() # This is critical!  Puts the groups in alphabeical order to make it match the plotting\n",
        "\n",
        "#props=dict(facecolor='white',alpha=1)\n",
        "''''''\n",
        "for i,grp in enumerate(grps):   #I loop through the groups to make the scatters and figure out the axis labels.\n",
        "    y_pos = data[data['Variant'] == grp]['Value'].max() + 3.4\n",
        "    #y_pos = ax.get_ylim()[1]*1\n",
        "    ax.text(i+1,y_pos,df_ltr.sum(axis=1)[i],rotation=0,fontsize=10,verticalalignment='top',horizontalalignment='center')\n",
        "\n",
        "ax.set_xticklabels(grps,rotation=0,fontsize=12)\n",
        "#ax.set_xticks()\n",
        "ax.set_ylim([0, 85])\n",
        "ax.set(title='Concentration of chlorophyll (CCi)', ylabel=r'$\\mu$mol m$^{-2}$ chl', xlabel=\"Sorghum variants\")\n",
        "fig.suptitle('')\n",
        "\n",
        "# PI $_{ABS}$ (performance index)\n",
        "#\n",
        "\n",
        "# CO$_2$ uptake (A$_{n}$)\n",
        "# r'$\\mu$mol m$^{-2}$s$^{-1}$ CO$_2$'\n",
        "\n",
        "# Concentration of chlorophyll (CCi)\n",
        "# $\\mu$mol m$^{-2}$ chl\n",
        "\n",
        "# TAC - water extracts\n",
        "# mM AAE g${^-1}$\n",
        "\n",
        "# PI $_{ABS}$\n",
        "# (a.u.)\n",
        "\n",
        "plt.grid(False)\n",
        "#fig.savefig('anovatest.jpg',dpi=600,bbox_inches='tight')"
      ],
      "metadata": {
        "colab": {
          "base_uri": "https://localhost:8080/",
          "height": 466
        },
        "id": "pgvR10gb8nio",
        "outputId": "9eafe2a4-966a-464d-dc8a-c68633c1ab7d"
      },
      "execution_count": 55,
      "outputs": [
        {
          "output_type": "display_data",
          "data": {
            "text/plain": [
              "<Figure size 640x480 with 1 Axes>"
            ],
            "image/png": "[encoded data removed]"
          },
          "metadata": {}
        }
      ]
    }
  ]
}