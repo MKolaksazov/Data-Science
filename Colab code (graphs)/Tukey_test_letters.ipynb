{
  "nbformat": 4,
  "nbformat_minor": 0,
  "metadata": {
    "colab": {
      "provenance": [],
      "authorship_tag": "ABX9TyNH0WumrCnEkEvF6lY4IeGA",
      "include_colab_link": true
    },
    "kernelspec": {
      "name": "python3",
      "display_name": "Python 3"
    },
    "language_info": {
      "name": "python"
    }
  },
  "cells": [
    {
      "cell_type": "markdown",
      "metadata": {
        "id": "view-in-github",
        "colab_type": "text"
      },
      "source": [
        "<a href=\"https://colab.research.google.com/github/MKolaksazov/Data-Science/blob/main/Colab%20code%20(graphs)/Tukey_test_letters.ipynb\" target=\"_parent\"><img src=\"https://colab.research.google.com/assets/colab-badge.svg\" alt=\"Open In Colab\"/></a>"
      ]
    },
    {
      "cell_type": "markdown",
      "source": [
        "# Drawing a 'BOXPLOT' graph\n",
        "\n",
        "Includes letters, showing the significant differences between variants, derived by the means of the Tukey's test."
      ],
      "metadata": {
        "id": "C7JWMKLnIUEw"
      }
    },
    {
      "cell_type": "markdown",
      "source": [
        "####1) importing of the libraries and the **.csv** file\n",
        "\n",
        "The columns of this table file should containt parameters, whereas the group variants written as indexes of the rows. These indexes will be shown in the first column, named *'groups'*.\n",
        "\n",
        "the delimiter is usually a semicolon ```;```, but can be a tabulation ```\\t```\n"
      ],
      "metadata": {
        "id": "Oosa1hRlI8vI"
      }
    },
    {
      "cell_type": "code",
      "source": [
        "# PARAMETERS\n",
        "\n",
        "file = 'CCI-2-stat.csv'\n",
        "y_height = 88 # height of the graph\n",
        "y_dist = 20 # distance between labels\n",
        "parameter = 'cci_c' # required column\n",
        "\n",
        "x_label = 'Sorghum cultivars'\n",
        "'''\n",
        "title_main = 'CO$_2$ uptake (A$_{n}$)'\n",
        "y_label = r'$\\mu$mol m$^{-2}$s$^{-1}$ CO$_2$'\n",
        "\n",
        "'''\n",
        "title_main = 'Concentration of chlorophyll'\n",
        "y_label = 'cci'\n",
        "# $\\mu$g m$^{-2}$ chl (cci)\n",
        "\n",
        "# PI $_{ABS}$ (performance index)\n",
        "# (a.u.)\n",
        "\n",
        "# TAC - water extracts\n",
        "# mM AAE g${^-1}$"
      ],
      "metadata": {
        "id": "uSUU6kTvr0e1"
      },
      "execution_count": 184,
      "outputs": []
    },
    {
      "cell_type": "code",
      "execution_count": 185,
      "metadata": {
        "id": "R3e1yglf-DMD"
      },
      "outputs": [],
      "source": [
        "import pandas as pd\n",
        "import numpy as np\n",
        "# exp_0726_OJIP_p\n",
        "df = pd.read_csv(\"/content/CCI-2-stat.csv\", delimiter='\\t', decimal=',') # delimiter '\\t' or ';'"
      ]
    },
    {
      "cell_type": "markdown",
      "source": [
        "1.2) Popping out the labels of the variation groups in a dataframe, called *'names'*.\n",
        "Transposing the dataframe, so that it can be easily processed by the covariance test analysis and matplotlib. Converting it into numpy array."
      ],
      "metadata": {
        "id": "tgDoWouVB-Xq"
      }
    },
    {
      "cell_type": "code",
      "source": [
        "names = df.pop('groups')\n",
        "transposed_df = df.T\n",
        "named = np.array(names)\n",
        "transposed_df"
      ],
      "metadata": {
        "colab": {
          "base_uri": "https://localhost:8080/",
          "height": 179
        },
        "id": "rvq8nc8aSvWs",
        "outputId": "9f37becd-f883-4dd0-8cad-b72f53a595db"
      },
      "execution_count": 186,
      "outputs": [
        {
          "output_type": "execute_result",
          "data": {
            "text/plain": [
              "              0     1     2     3     4     5     6     7     8     9   ...  \\\n",
              "Unnamed: 1   NaN   NaN   NaN   NaN   NaN   NaN   NaN   NaN   NaN   NaN  ...   \n",
              "cci_c       51.7  58.0  72.0  61.9  47.1  61.7  59.0  49.2  64.4  50.0  ...   \n",
              "\n",
              "              49    50    51    52    53    54    55    56    57    58  \n",
              "Unnamed: 1   NaN   NaN   NaN   NaN   NaN   NaN   NaN   NaN   NaN   NaN  \n",
              "cci_c       57.5  54.7  60.9  51.9  28.8  63.1  18.2  40.2  54.0  35.4  \n",
              "\n",
              "[2 rows x 59 columns]"
            ],
            "text/html": [
              "\n",
              "  <div id=\"df-d0d20eee-6eb5-4638-b128-ffb2c51d5387\" class=\"colab-df-container\">\n",
              "    <div>\n",
              "<style scoped>\n",
              "    .dataframe tbody tr th:only-of-type {\n",
              "        vertical-align: middle;\n",
              "    }\n",
              "\n",
              "    .dataframe tbody tr th {\n",
              "        vertical-align: top;\n",
              "    }\n",
              "\n",
              "    .dataframe thead th {\n",
              "        text-align: right;\n",
              "    }\n",
              "</style>\n",
              "<table border=\"1\" class=\"dataframe\">\n",
              "  <thead>\n",
              "    <tr style=\"text-align: right;\">\n",
              "      <th></th>\n",
              "      <th>0</th>\n",
              "      <th>1</th>\n",
              "      <th>2</th>\n",
              "      <th>3</th>\n",
              "      <th>4</th>\n",
              "      <th>5</th>\n",
              "      <th>6</th>\n",
              "      <th>7</th>\n",
              "      <th>8</th>\n",
              "      <th>9</th>\n",
              "      <th>...</th>\n",
              "      <th>49</th>\n",
              "      <th>50</th>\n",
              "      <th>51</th>\n",
              "      <th>52</th>\n",
              "      <th>53</th>\n",
              "      <th>54</th>\n",
              "      <th>55</th>\n",
              "      <th>56</th>\n",
              "      <th>57</th>\n",
              "      <th>58</th>\n",
              "    </tr>\n",
              "  </thead>\n",
              "  <tbody>\n",
              "    <tr>\n",
              "      <th>Unnamed: 1</th>\n",
              "      <td>NaN</td>\n",
              "      <td>NaN</td>\n",
              "      <td>NaN</td>\n",
              "      <td>NaN</td>\n",
              "      <td>NaN</td>\n",
              "      <td>NaN</td>\n",
              "      <td>NaN</td>\n",
              "      <td>NaN</td>\n",
              "      <td>NaN</td>\n",
              "      <td>NaN</td>\n",
              "      <td>...</td>\n",
              "      <td>NaN</td>\n",
              "      <td>NaN</td>\n",
              "      <td>NaN</td>\n",
              "      <td>NaN</td>\n",
              "      <td>NaN</td>\n",
              "      <td>NaN</td>\n",
              "      <td>NaN</td>\n",
              "      <td>NaN</td>\n",
              "      <td>NaN</td>\n",
              "      <td>NaN</td>\n",
              "    </tr>\n",
              "    <tr>\n",
              "      <th>cci_c</th>\n",
              "      <td>51.7</td>\n",
              "      <td>58.0</td>\n",
              "      <td>72.0</td>\n",
              "      <td>61.9</td>\n",
              "      <td>47.1</td>\n",
              "      <td>61.7</td>\n",
              "      <td>59.0</td>\n",
              "      <td>49.2</td>\n",
              "      <td>64.4</td>\n",
              "      <td>50.0</td>\n",
              "      <td>...</td>\n",
              "      <td>57.5</td>\n",
              "      <td>54.7</td>\n",
              "      <td>60.9</td>\n",
              "      <td>51.9</td>\n",
              "      <td>28.8</td>\n",
              "      <td>63.1</td>\n",
              "      <td>18.2</td>\n",
              "      <td>40.2</td>\n",
              "      <td>54.0</td>\n",
              "      <td>35.4</td>\n",
              "    </tr>\n",
              "  </tbody>\n",
              "</table>\n",
              "<p>2 rows × 59 columns</p>\n",
              "</div>\n",
              "    <div class=\"colab-df-buttons\">\n",
              "\n",
              "  <div class=\"colab-df-container\">\n",
              "    <button class=\"colab-df-convert\" onclick=\"convertToInteractive('df-d0d20eee-6eb5-4638-b128-ffb2c51d5387')\"\n",
              "            title=\"Convert this dataframe to an interactive table.\"\n",
              "            style=\"display:none;\">\n",
              "\n",
              "  <svg xmlns=\"http://www.w3.org/2000/svg\" height=\"24px\" viewBox=\"0 -960 960 960\">\n",
              "    <path d=\"M120-120v-720h720v720H120Zm60-500h600v-160H180v160Zm220 220h160v-160H400v160Zm0 220h160v-160H400v160ZM180-400h160v-160H180v160Zm440 0h160v-160H620v160ZM180-180h160v-160H180v160Zm440 0h160v-160H620v160Z\"/>\n",
              "  </svg>\n",
              "    </button>\n",
              "\n",
              "  <style>\n",
              "    .colab-df-container {\n",
              "      display:flex;\n",
              "      gap: 12px;\n",
              "    }\n",
              "\n",
              "    .colab-df-convert {\n",
              "      background-color: #E8F0FE;\n",
              "      border: none;\n",
              "      border-radius: 50%;\n",
              "      cursor: pointer;\n",
              "      display: none;\n",
              "      fill: #1967D2;\n",
              "      height: 32px;\n",
              "      padding: 0 0 0 0;\n",
              "      width: 32px;\n",
              "    }\n",
              "\n",
              "    .colab-df-convert:hover {\n",
              "      background-color: #E2EBFA;\n",
              "      box-shadow: 0px 1px 2px rgba(60, 64, 67, 0.3), 0px 1px 3px 1px rgba(60, 64, 67, 0.15);\n",
              "      fill: #174EA6;\n",
              "    }\n",
              "\n",
              "    .colab-df-buttons div {\n",
              "      margin-bottom: 4px;\n",
              "    }\n",
              "\n",
              "    [theme=dark] .colab-df-convert {\n",
              "      background-color: #3B4455;\n",
              "      fill: #D2E3FC;\n",
              "    }\n",
              "\n",
              "    [theme=dark] .colab-df-convert:hover {\n",
              "      background-color: #434B5C;\n",
              "      box-shadow: 0px 1px 3px 1px rgba(0, 0, 0, 0.15);\n",
              "      filter: drop-shadow(0px 1px 2px rgba(0, 0, 0, 0.3));\n",
              "      fill: #FFFFFF;\n",
              "    }\n",
              "  </style>\n",
              "\n",
              "    <script>\n",
              "      const buttonEl =\n",
              "        document.querySelector('#df-d0d20eee-6eb5-4638-b128-ffb2c51d5387 button.colab-df-convert');\n",
              "      buttonEl.style.display =\n",
              "        google.colab.kernel.accessAllowed ? 'block' : 'none';\n",
              "\n",
              "      async function convertToInteractive(key) {\n",
              "        const element = document.querySelector('#df-d0d20eee-6eb5-4638-b128-ffb2c51d5387');\n",
              "        const dataTable =\n",
              "          await google.colab.kernel.invokeFunction('convertToInteractive',\n",
              "                                                    [key], {});\n",
              "        if (!dataTable) return;\n",
              "\n",
              "        const docLinkHtml = 'Like what you see? Visit the ' +\n",
              "          '<a target=\"_blank\" href=https://colab.research.google.com/notebooks/data_table.ipynb>data table notebook</a>'\n",
              "          + ' to learn more about interactive tables.';\n",
              "        element.innerHTML = '';\n",
              "        dataTable['output_type'] = 'display_data';\n",
              "        await google.colab.output.renderOutput(dataTable, element);\n",
              "        const docLink = document.createElement('div');\n",
              "        docLink.innerHTML = docLinkHtml;\n",
              "        element.appendChild(docLink);\n",
              "      }\n",
              "    </script>\n",
              "  </div>\n",
              "\n",
              "\n",
              "<div id=\"df-867610e7-2c50-4aaa-9e96-7094fe7f7dfc\">\n",
              "  <button class=\"colab-df-quickchart\" onclick=\"quickchart('df-867610e7-2c50-4aaa-9e96-7094fe7f7dfc')\"\n",
              "            title=\"Suggest charts.\"\n",
              "            style=\"display:none;\">\n",
              "\n",
              "<svg xmlns=\"http://www.w3.org/2000/svg\" height=\"24px\"viewBox=\"0 0 24 24\"\n",
              "     width=\"24px\">\n",
              "    <g>\n",
              "        <path d=\"M19 3H5c-1.1 0-2 .9-2 2v14c0 1.1.9 2 2 2h14c1.1 0 2-.9 2-2V5c0-1.1-.9-2-2-2zM9 17H7v-7h2v7zm4 0h-2V7h2v10zm4 0h-2v-4h2v4z\"/>\n",
              "    </g>\n",
              "</svg>\n",
              "  </button>\n",
              "\n",
              "<style>\n",
              "  .colab-df-quickchart {\n",
              "      --bg-color: #E8F0FE;\n",
              "      --fill-color: #1967D2;\n",
              "      --hover-bg-color: #E2EBFA;\n",
              "      --hover-fill-color: #174EA6;\n",
              "      --disabled-fill-color: #AAA;\n",
              "      --disabled-bg-color: #DDD;\n",
              "  }\n",
              "\n",
              "  [theme=dark] .colab-df-quickchart {\n",
              "      --bg-color: #3B4455;\n",
              "      --fill-color: #D2E3FC;\n",
              "      --hover-bg-color: #434B5C;\n",
              "      --hover-fill-color: #FFFFFF;\n",
              "      --disabled-bg-color: #3B4455;\n",
              "      --disabled-fill-color: #666;\n",
              "  }\n",
              "\n",
              "  .colab-df-quickchart {\n",
              "    background-color: var(--bg-color);\n",
              "    border: none;\n",
              "    border-radius: 50%;\n",
              "    cursor: pointer;\n",
              "    display: none;\n",
              "    fill: var(--fill-color);\n",
              "    height: 32px;\n",
              "    padding: 0;\n",
              "    width: 32px;\n",
              "  }\n",
              "\n",
              "  .colab-df-quickchart:hover {\n",
              "    background-color: var(--hover-bg-color);\n",
              "    box-shadow: 0 1px 2px rgba(60, 64, 67, 0.3), 0 1px 3px 1px rgba(60, 64, 67, 0.15);\n",
              "    fill: var(--button-hover-fill-color);\n",
              "  }\n",
              "\n",
              "  .colab-df-quickchart-complete:disabled,\n",
              "  .colab-df-quickchart-complete:disabled:hover {\n",
              "    background-color: var(--disabled-bg-color);\n",
              "    fill: var(--disabled-fill-color);\n",
              "    box-shadow: none;\n",
              "  }\n",
              "\n",
              "  .colab-df-spinner {\n",
              "    border: 2px solid var(--fill-color);\n",
              "    border-color: transparent;\n",
              "    border-bottom-color: var(--fill-color);\n",
              "    animation:\n",
              "      spin 1s steps(1) infinite;\n",
              "  }\n",
              "\n",
              "  @keyframes spin {\n",
              "    0% {\n",
              "      border-color: transparent;\n",
              "      border-bottom-color: var(--fill-color);\n",
              "      border-left-color: var(--fill-color);\n",
              "    }\n",
              "    20% {\n",
              "      border-color: transparent;\n",
              "      border-left-color: var(--fill-color);\n",
              "      border-top-color: var(--fill-color);\n",
              "    }\n",
              "    30% {\n",
              "      border-color: transparent;\n",
              "      border-left-color: var(--fill-color);\n",
              "      border-top-color: var(--fill-color);\n",
              "      border-right-color: var(--fill-color);\n",
              "    }\n",
              "    40% {\n",
              "      border-color: transparent;\n",
              "      border-right-color: var(--fill-color);\n",
              "      border-top-color: var(--fill-color);\n",
              "    }\n",
              "    60% {\n",
              "      border-color: transparent;\n",
              "      border-right-color: var(--fill-color);\n",
              "    }\n",
              "    80% {\n",
              "      border-color: transparent;\n",
              "      border-right-color: var(--fill-color);\n",
              "      border-bottom-color: var(--fill-color);\n",
              "    }\n",
              "    90% {\n",
              "      border-color: transparent;\n",
              "      border-bottom-color: var(--fill-color);\n",
              "    }\n",
              "  }\n",
              "</style>\n",
              "\n",
              "  <script>\n",
              "    async function quickchart(key) {\n",
              "      const quickchartButtonEl =\n",
              "        document.querySelector('#' + key + ' button');\n",
              "      quickchartButtonEl.disabled = true;  // To prevent multiple clicks.\n",
              "      quickchartButtonEl.classList.add('colab-df-spinner');\n",
              "      try {\n",
              "        const charts = await google.colab.kernel.invokeFunction(\n",
              "            'suggestCharts', [key], {});\n",
              "      } catch (error) {\n",
              "        console.error('Error during call to suggestCharts:', error);\n",
              "      }\n",
              "      quickchartButtonEl.classList.remove('colab-df-spinner');\n",
              "      quickchartButtonEl.classList.add('colab-df-quickchart-complete');\n",
              "    }\n",
              "    (() => {\n",
              "      let quickchartButtonEl =\n",
              "        document.querySelector('#df-867610e7-2c50-4aaa-9e96-7094fe7f7dfc button');\n",
              "      quickchartButtonEl.style.display =\n",
              "        google.colab.kernel.accessAllowed ? 'block' : 'none';\n",
              "    })();\n",
              "  </script>\n",
              "</div>\n",
              "    </div>\n",
              "  </div>\n"
            ]
          },
          "metadata": {},
          "execution_count": 186
        }
      ]
    },
    {
      "cell_type": "markdown",
      "source": [
        "1.3) An optional step required to abbreviate the longer latin names of the crops, so that they can fit in the graph."
      ],
      "metadata": {
        "id": "HmDAiYzDFo7v"
      }
    },
    {
      "cell_type": "code",
      "source": [
        "import re\n",
        "# Abbreviating the latin names from 'Aaaaa aaaaaa (L.)' to 'A. aaaaaa (L.)'\n",
        "for i in range(len(names)):\n",
        "    c = names[i][0]\n",
        "    names[i] = re.sub(r'[A-Z]([a-z]+ )', c + '. ', names[i])\n",
        "names"
      ],
      "metadata": {
        "colab": {
          "base_uri": "https://localhost:8080/"
        },
        "id": "-6W8NK9ykOte",
        "outputId": "5981aa6e-f797-4634-9a77-ca38e23952d1"
      },
      "execution_count": 187,
      "outputs": [
        {
          "output_type": "execute_result",
          "data": {
            "text/plain": [
              "0      MB\n",
              "1      MB\n",
              "2      MB\n",
              "3      MB\n",
              "4      MB\n",
              "5      MB\n",
              "6      MB\n",
              "7      MB\n",
              "8      MB\n",
              "9      MB\n",
              "10     B1\n",
              "11     B1\n",
              "12     B1\n",
              "13     B1\n",
              "14     B1\n",
              "15     B1\n",
              "16     B1\n",
              "17     B1\n",
              "18     B1\n",
              "19     B1\n",
              "20     B2\n",
              "21     B2\n",
              "22     B2\n",
              "23     B2\n",
              "24     B2\n",
              "25     B2\n",
              "26     B2\n",
              "27     B2\n",
              "28     B2\n",
              "29     B3\n",
              "30     B3\n",
              "31     B3\n",
              "32     B3\n",
              "33     B3\n",
              "34     B3\n",
              "35     B3\n",
              "36     B3\n",
              "37     B3\n",
              "38    Ch2\n",
              "39    Ch2\n",
              "40    Ch2\n",
              "41    Ch2\n",
              "42    Ch2\n",
              "43    Ch2\n",
              "44    Ch2\n",
              "45    Ch2\n",
              "46    Ch1\n",
              "47    Ch1\n",
              "48    Ch1\n",
              "49    Ch1\n",
              "50    Ch1\n",
              "51    Ch1\n",
              "52    Ch1\n",
              "53     MR\n",
              "54     MR\n",
              "55     MR\n",
              "56     MR\n",
              "57     MR\n",
              "58     MR\n",
              "Name: groups, dtype: object"
            ]
          },
          "metadata": {},
          "execution_count": 187
        }
      ]
    },
    {
      "cell_type": "markdown",
      "source": [
        "1.4) Popping out the column with the desired parameter by writing the name in the 'pop' function, as well as transposing it."
      ],
      "metadata": {
        "id": "rx_-ENpXF8x7"
      }
    },
    {
      "cell_type": "code",
      "source": [
        "params = df.pop(parameter) #required param\n",
        "transp_df = params.T\n",
        "\n",
        "#dff = np.array(params)"
      ],
      "metadata": {
        "id": "riY59rIGgqp2"
      },
      "execution_count": 188,
      "outputs": []
    },
    {
      "cell_type": "markdown",
      "source": [
        "1.5) Converting the dataframe into a 1D numpy array"
      ],
      "metadata": {
        "id": "FhbUoeHZGg2N"
      }
    },
    {
      "cell_type": "code",
      "source": [
        "from matplotlib.patches import namedtuple\n",
        "#convert dataframe to matrix\n",
        "conv_arr= transp_df.values\n",
        "\n",
        "#split matrix into 3 columns each into 1d array\n",
        "\n",
        "#converting into 1D array\n",
        "one_D_array = conv_arr.ravel()\n",
        "\n",
        "print(one_D_array)\n",
        "\n",
        "# variants as well:\n",
        "print(names)"
      ],
      "metadata": {
        "colab": {
          "base_uri": "https://localhost:8080/"
        },
        "id": "LWXXonmvTvjI",
        "outputId": "ed5a14d2-d445-4ab0-c99f-86b71f467ffe"
      },
      "execution_count": 189,
      "outputs": [
        {
          "output_type": "stream",
          "name": "stdout",
          "text": [
            "[51.7 58.  72.  61.9 47.1 61.7 59.  49.2 64.4 50.  40.  47.1 35.6 38.2\n",
            " 28.3 43.7 45.3 59.8 33.3 58.1 77.6 64.4 64.1 72.6 75.6 71.6 70.2 53.1\n",
            " 69.4 47.  46.8 47.9 60.3 64.1 48.6 65.5 62.  48.6 60.7 58.1 68.1 52.4\n",
            " 57.5 61.6 64.8 57.8 61.2 67.  53.7 57.5 54.7 60.9 51.9 28.8 63.1 18.2\n",
            " 40.2 54.  35.4]\n",
            "0      MB\n",
            "1      MB\n",
            "2      MB\n",
            "3      MB\n",
            "4      MB\n",
            "5      MB\n",
            "6      MB\n",
            "7      MB\n",
            "8      MB\n",
            "9      MB\n",
            "10     B1\n",
            "11     B1\n",
            "12     B1\n",
            "13     B1\n",
            "14     B1\n",
            "15     B1\n",
            "16     B1\n",
            "17     B1\n",
            "18     B1\n",
            "19     B1\n",
            "20     B2\n",
            "21     B2\n",
            "22     B2\n",
            "23     B2\n",
            "24     B2\n",
            "25     B2\n",
            "26     B2\n",
            "27     B2\n",
            "28     B2\n",
            "29     B3\n",
            "30     B3\n",
            "31     B3\n",
            "32     B3\n",
            "33     B3\n",
            "34     B3\n",
            "35     B3\n",
            "36     B3\n",
            "37     B3\n",
            "38    Ch2\n",
            "39    Ch2\n",
            "40    Ch2\n",
            "41    Ch2\n",
            "42    Ch2\n",
            "43    Ch2\n",
            "44    Ch2\n",
            "45    Ch2\n",
            "46    Ch1\n",
            "47    Ch1\n",
            "48    Ch1\n",
            "49    Ch1\n",
            "50    Ch1\n",
            "51    Ch1\n",
            "52    Ch1\n",
            "53     MR\n",
            "54     MR\n",
            "55     MR\n",
            "56     MR\n",
            "57     MR\n",
            "58     MR\n",
            "Name: groups, dtype: object\n"
          ]
        }
      ]
    },
    {
      "cell_type": "markdown",
      "source": [
        "####2) arranging the data by samples column-wise and taking out the names of the variants in a different array"
      ],
      "metadata": {
        "id": "swp-ZiLbJIIh"
      }
    },
    {
      "cell_type": "markdown",
      "source": [
        "Converting the 2-D pandas dataframe into a 1-D numpy array. ```numpy.append(array1, array2) ``` can be used to append two arrays.\n",
        "\n",
        "Probably ```pandas.dataframe.pop()``` can be used as well."
      ],
      "metadata": {
        "id": "DVlS-hBPJjVS"
      }
    },
    {
      "cell_type": "code",
      "source": [
        "# Sample data (replace this with your data)\n",
        "data = pd.DataFrame({\n",
        "    'Variant': names,\n",
        "    'Value': one_D_array\n",
        "})"
      ],
      "metadata": {
        "id": "WP0rCaFCJ3aC"
      },
      "execution_count": 190,
      "outputs": []
    },
    {
      "cell_type": "markdown",
      "source": [
        "3) performing the co-variance test\n",
        "(the following is a variant, showing the t-test)\n",
        "(currently not shown)"
      ],
      "metadata": {
        "id": "NWmrSR9_Jnbr"
      }
    },
    {
      "cell_type": "markdown",
      "source": [
        "4) This is a very simple code, showing a Tukey's test analysis and printing the summarized data"
      ],
      "metadata": {
        "id": "QHDE8lztKewK"
      }
    },
    {
      "cell_type": "code",
      "source": [
        "import statsmodels.stats.multicomp as mc\n",
        "\n",
        "# Perform one-way ANOVA to check for significant differences\n",
        "model = mc.MultiComparison(data['Value'], data['Variant'])\n",
        "result = model.tukeyhsd()\n",
        "\n",
        "print(result.summary(), len(result.reject))"
      ],
      "metadata": {
        "colab": {
          "base_uri": "https://localhost:8080/"
        },
        "id": "P-o5rG0hKOgv",
        "outputId": "df2fd3c7-3054-4645-cac9-20be16a7fecc"
      },
      "execution_count": 191,
      "outputs": [
        {
          "output_type": "stream",
          "name": "stdout",
          "text": [
            " Multiple Comparison of Means - Tukey HSD, FWER=0.05  \n",
            "======================================================\n",
            "group1 group2 meandiff p-adj   lower    upper   reject\n",
            "------------------------------------------------------\n",
            "    B1     B2  25.7933    0.0  13.2151  38.3716   True\n",
            "    B1     B3  11.5933 0.0893  -0.9849  24.1716  False\n",
            "    B1    Ch1  15.1886  0.018   1.6977  28.6794   True\n",
            "    B1    Ch2   17.185  0.003   4.1996  30.1704   True\n",
            "    B1     MB    14.56 0.0103   2.3172  26.8028   True\n",
            "    B1     MR    -2.99 0.9947 -17.1267  11.1467  False\n",
            "    B2     B3    -14.2 0.0223  -27.105   -1.295   True\n",
            "    B2    Ch1 -10.6048 0.2376 -24.4008   3.1913  False\n",
            "    B2    Ch2  -8.6083 0.4365 -21.9105   4.6938  False\n",
            "    B2     MB -11.2333 0.1089 -23.8116   1.3449  False\n",
            "    B2     MR -28.7833    0.0 -43.2116 -14.3551   True\n",
            "    B3    Ch1   3.5952  0.984 -10.2008  17.3913  False\n",
            "    B3    Ch2   5.5917 0.8538  -7.7105  18.8938  False\n",
            "    B3     MB   2.9667 0.9905  -9.6116  15.5449  False\n",
            "    B3     MR -14.5833  0.046 -29.0116  -0.1551   True\n",
            "   Ch1    Ch2   1.9964 0.9995 -12.1718  16.1647  False\n",
            "   Ch1     MB  -0.6286    1.0 -14.1194  12.8623  False\n",
            "   Ch1     MR -18.1786 0.0099  -33.409  -2.9482   True\n",
            "   Ch2     MB   -2.625 0.9959 -15.6104  10.3604  False\n",
            "   Ch2     MR  -20.175  0.002 -34.9595  -5.3905   True\n",
            "    MB     MR   -17.55 0.0064 -31.6867  -3.4133   True\n",
            "------------------------------------------------------ 21\n"
          ]
        }
      ]
    },
    {
      "cell_type": "code",
      "source": [
        "import scipy.stats as stats\n",
        "import matplotlib.pyplot as plt\n",
        "\n",
        "y_ticks = range(0, y_height, y_dist)"
      ],
      "metadata": {
        "id": "XWqL6nNh1TX1"
      },
      "execution_count": 192,
      "outputs": []
    },
    {
      "cell_type": "code",
      "source": [
        "# define columns for data and then grouping\n",
        "col_to_group='Variant'\n",
        "col_for_data='Value'\n",
        "\n",
        "#Now take teh data and regroup for anova\n",
        "samples = [cols[1] for cols in data.groupby('Variant')['Value']]\n",
        "#I am not sure how this works but it makes an numpy array for each group\n",
        "f_val, p_val = stats.f_oneway(*samples)\n",
        "# I am not sure what this star does but this passes all the numpy arrays correctly\n",
        "\n",
        "# this if statement can be uncommmented if you don't won't to go furhter with out p<0.05\n",
        "#if p_val<0.05:    #If the p value is less than 0.05 it then does the tukey\n",
        "mod = mc.MultiComparison(data['Value'], data['Variant'])\n",
        "thsd=mod.tukeyhsd()\n",
        "\n",
        "#this is a function to do Piepho method.\n",
        "#AN Alogrithm for a letter based representation of al-pairwise comparisons.\n",
        "tot=len(thsd.groupsunique)\n",
        "#make an empty dataframe that is a square matrix of size of the groups. #set first column to 1\n",
        "df_ltr=pd.DataFrame(np.nan, index=np.arange(tot),columns=np.arange(tot))\n",
        "#df_ltr.iloc[:,0]=1\n",
        "df_ltr[df_ltr.columns[0]] = 1\n",
        "#df[df.columns[i]] = newvals` or, if columns are non-unique, `df.isetitem(i, newvals)\n",
        "\n",
        "count=0\n",
        "df_nms = pd.DataFrame('', index=np.arange(tot), columns=['names'])\n",
        "# I make a dummy dataframe to put axis labels into.  sd stands for signifcant difference\n",
        "\n",
        "for i in np.arange(tot):   #I loop through and make all pairwise comparisons.\n",
        "    for j in np.arange(i+1,tot):\n",
        "        #print('i=',i,'j=',j,thsd.reject[count])\n",
        "        if thsd.reject[count]==True:\n",
        "            for cn in np.arange(tot):\n",
        "                if df_ltr.iloc[i,cn]==1 and df_ltr.iloc[j,cn]==1:\n",
        "                  #If the column contains both i and j shift and duplicat\n",
        "                    df_ltr=pd.concat([df_ltr.iloc[:,:cn+1],df_ltr.iloc[:,cn+1:].T.shift().T],axis=1)\n",
        "                    df_ltr[df_ltr.columns[cn+1]]=df_ltr[df_ltr.columns[cn]]\n",
        "                    df_ltr.iloc[i,cn]=0\n",
        "                    df_ltr.iloc[j,cn+1]=0\n",
        "                #Now we need to check all columns for abosortpion.\n",
        "                for cleft in np.arange(len(df_ltr.columns)-1):\n",
        "                    for cright in np.arange(cleft+1,len(df_ltr.columns)):\n",
        "                        if (df_ltr[df_ltr.columns[cleft]].isna()).all()==False and (df_ltr[df_ltr.columns[cright]].isna()).all()==False:\n",
        "                            if (df_ltr[df_ltr.columns[cleft]]>=df_ltr[df_ltr.columns[cright]]).all()==True:\n",
        "                                df_ltr[df_ltr.columns[cright]]=0\n",
        "                                df_ltr=pd.concat([df_ltr[df_ltr.columns[:cright]],df_ltr[df_ltr.columns[cright:]].T.shift(-1).T],axis=1)\n",
        "                            if (df_ltr[df_ltr.columns[cleft]]<=df_ltr[df_ltr.columns[cright]]).all()==True:\n",
        "                                df_ltr[df_ltr.columns[cleft]]=0\n",
        "                                df_ltr=pd.concat([df_ltr[df_ltr.columns[:cleft]],df_ltr[df_ltr.columns[cleft:]].T.shift(-1).T],axis=1)\n",
        "\n",
        "        count+=1\n",
        "\n",
        "#I sort so that the first column becomes A\n",
        "df_ltr=df_ltr.sort_values(by=list(df_ltr.columns),axis=1,ascending=False)\n",
        "\n",
        "# I assign letters to each column\n",
        "for cn in np.arange(len(df_ltr.columns)):\n",
        "    df_ltr[df_ltr.columns[cn]]=df_ltr[df_ltr.columns[cn]].replace(1,chr(97+cn))\n",
        "    df_ltr[df_ltr.columns[cn]]=df_ltr[df_ltr.columns[cn]].replace(0,'')\n",
        "    df_ltr[df_ltr.columns[cn]]=df_ltr[df_ltr.columns[cn]].replace(np.nan,'')\n",
        "\n",
        "#I put all the letters into one string\n",
        "df_ltr=df_ltr.astype(str)\n",
        "df_ltr.sum(axis=1)\n"
      ],
      "metadata": {
        "colab": {
          "base_uri": "https://localhost:8080/"
        },
        "id": "q1iiUvP25_C7",
        "outputId": "c0cf6573-c625-40e4-8655-4ed3be5e8e53"
      },
      "execution_count": 193,
      "outputs": [
        {
          "output_type": "execute_result",
          "data": {
            "text/plain": [
              "0    ab\n",
              "1     c\n",
              "2    ad\n",
              "3    cd\n",
              "4    cd\n",
              "5    cd\n",
              "6     b\n",
              "dtype: object"
            ]
          },
          "metadata": {},
          "execution_count": 193
        }
      ]
    },
    {
      "cell_type": "code",
      "source": [
        "def draw_letters(y, follow_bars):\n",
        "\n",
        "  for i,grp in enumerate(grps):   #I loop through the groups to make the scatters and figure out the axis labels.\n",
        "      if follow_bars:\n",
        "        plt = 1\n",
        "        y_pos = data[data['Variant'] == grp]['Value'].max() + y * 0.05\n",
        "      else:\n",
        "        plt = 0\n",
        "        y_pos = y - y * 0.05 #y_pos = ax.get_ylim()[1]*1\n",
        "      ax.text(i+plt,y_pos,df_ltr.sum(axis=1)[i],\n",
        "              rotation=0,fontsize=10,verticalalignment='top',horizontalalignment='center')\n"
      ],
      "metadata": {
        "id": "ChOnKZpljoXG"
      },
      "execution_count": 194,
      "outputs": []
    },
    {
      "cell_type": "code",
      "source": [
        "\n",
        "#Now to plot like R with a violing plot\n",
        "fig,ax=plt.subplots()\n",
        "data.boxplot(column=col_for_data, by=col_to_group,ax=ax,fontsize=14,\n",
        "             medianprops=dict(color='red'),\n",
        "             boxprops=dict(color='black'),\n",
        "             whiskerprops=dict(color='black')\n",
        "             )\n",
        "#, #patch_artist=True)\n",
        "\n",
        "#,showmeans=True\n",
        "#,boxprops=dict(linewidth=2.0),whiskerprops=dict(linewidth=2.0))  #This makes the boxplot\n",
        "\n",
        "grps=pd.unique(data[col_to_group].values)   #Finds the group names\n",
        "grps.sort() # This is critical!  Puts the groups in alphabeical order to make it match the plotting\n",
        "\n",
        "#props=dict(facecolor='white',alpha=1)\n",
        "\n",
        "draw_letters(y_height, True)\n",
        "\n",
        "plt.ylim(ymax=y_height)\n",
        "ax.set_yticks(y_ticks)\n",
        "\n",
        "ax.set_xticklabels(grps,rotation=0,fontsize=12)\n",
        "\n",
        "ax.set(title=title_main, ylabel=y_label, xlabel=x_label)\n",
        "fig.suptitle('')\n",
        "\n",
        "plt.grid(False)\n",
        "#fig.savefig('anovatest.jpg',dpi=600,bbox_inches='tight')"
      ],
      "metadata": {
        "colab": {
          "base_uri": "https://localhost:8080/",
          "height": 466
        },
        "id": "pgvR10gb8nio",
        "outputId": "7fde3593-d764-413a-842e-82fa0009927d"
      },
      "execution_count": 199,
      "outputs": [
        {
          "output_type": "display_data",
          "data": {
            "text/plain": [
              "<Figure size 640x480 with 1 Axes>"
            ],
            "image/png": "[encoded data removed]"
          },
          "metadata": {}
        }
      ]
    },
    {
      "cell_type": "code",
      "source": [
        "stat_result = data.groupby(['Variant'], as_index=False).agg(\n",
        "                      {'Value':['mean','std']})\n",
        "stat_result['Value']['std']"
      ],
      "metadata": {
        "colab": {
          "base_uri": "https://localhost:8080/"
        },
        "id": "ajZyKoGJD7oU",
        "outputId": "35a183ee-9aaa-4dc7-bfe7-e3d648b777b7"
      },
      "execution_count": 196,
      "outputs": [
        {
          "output_type": "execute_result",
          "data": {
            "text/plain": [
              "0    10.164120\n",
              "1     7.383935\n",
              "2     8.152914\n",
              "3     5.265838\n",
              "4     4.840823\n",
              "5     7.918333\n",
              "6    16.440651\n",
              "Name: std, dtype: float64"
            ]
          },
          "metadata": {},
          "execution_count": 196
        }
      ]
    },
    {
      "cell_type": "code",
      "source": [
        "menMeans = stat_result['Value']['mean']\n",
        "menStd = stat_result['Value']['std']\n",
        "labels = stat_result['Variant']\n",
        "\n",
        "ind  = np.arange(7)    # the x locations for the groups\n",
        "width= 0.7\n",
        "# Pull the formatting out here\n",
        "bar_kwargs = {'width':width,'color':'white','linewidth':1,'zorder':5,'edgecolor':'black'}\n",
        "err_kwargs = {'linewidth':1,'ecolor':'black','capsize':5, 'capthick':1}\n",
        "#'zorder':0, - only up err bars\n",
        "#for matplotlib >= v1.4 use 'fmt':'none' instead\n",
        "\n",
        "fig, ax = plt.subplots()\n",
        "\n",
        "ax.p1 = plt.bar(ind, menMeans, yerr=menStd, error_kw=err_kwargs, **bar_kwargs)\n",
        "#ax.errs = plt.errorbar(ind, menMeans, yerr=menStd, **err_kwargs)\n",
        "\n",
        "draw_letters(y_height, False)\n",
        "\n",
        "ax.set(title=title_main, ylabel=y_label, xlabel=x_label)\n",
        "\n",
        "plt.xticks(ind, labels, color='k')\n",
        "ax.set_xticklabels(grps, rotation=0, fontsize=12)\n",
        "\n",
        "plt.ylim(ymax=y_height)\n",
        "ax.set_yticks(y_ticks)\n",
        "ax.set_yticklabels(y_ticks, fontsize=12)\n",
        "\n",
        "fig.suptitle('')\n",
        "plt.show()"
      ],
      "metadata": {
        "colab": {
          "base_uri": "https://localhost:8080/",
          "height": 476
        },
        "id": "Ejt3pb0XDM36",
        "outputId": "23061839-c68c-4648-8a4d-77fca1595544"
      },
      "execution_count": 197,
      "outputs": [
        {
          "output_type": "display_data",
          "data": {
            "text/plain": [
              "<Figure size 640x480 with 1 Axes>"
            ],
            "image/png": "[encoded data removed]"
          },
          "metadata": {}
        }
      ]
    },
    {
      "cell_type": "code",
      "source": [
        "# Custom function to draw the diff bars\n",
        "'''\n",
        "def label_diff(i,j,text,X,Y):\n",
        "    x = (X[i]+X[j])/2\n",
        "    y = 1.1*max(Y[i], Y[j])\n",
        "    dx = abs(X[i]-X[j])\n",
        "\n",
        "    props = {'connectionstyle':'bar','arrowstyle':'-',\\\n",
        "                 'shrinkA':20,'shrinkB':20,'linewidth':2}\n",
        "    ax.annotate(text, xy=(X[i],y+7), zorder=10)\n",
        "    ax.annotate('', xy=(X[i],y), xytext=(X[j],y), arrowprops=props)\n",
        "\n",
        "# Call the function\n",
        "label_diff(0,1,'p=0.0370',ind,menMeans)\n",
        "label_diff(1,2,'p<0.0001',ind,menMeans)\n",
        "label_diff(2,3,'p=0.0025',ind,menMeans)\n",
        "'''"
      ],
      "metadata": {
        "colab": {
          "base_uri": "https://localhost:8080/",
          "height": 87
        },
        "id": "OTIlXSKcm78u",
        "outputId": "43a73d45-3faf-4828-89cf-9d724a4e5c09"
      },
      "execution_count": 198,
      "outputs": [
        {
          "output_type": "execute_result",
          "data": {
            "text/plain": [
              "\"\\ndef label_diff(i,j,text,X,Y):\\n    x = (X[i]+X[j])/2\\n    y = 1.1*max(Y[i], Y[j])\\n    dx = abs(X[i]-X[j])\\n\\n    props = {'connectionstyle':'bar','arrowstyle':'-',                 'shrinkA':20,'shrinkB':20,'linewidth':2}\\n    ax.annotate(text, xy=(X[i],y+7), zorder=10)\\n    ax.annotate('', xy=(X[i],y), xytext=(X[j],y), arrowprops=props)\\n\\n# Call the function\\nlabel_diff(0,1,'p=0.0370',ind,menMeans)\\nlabel_diff(1,2,'p<0.0001',ind,menMeans)\\nlabel_diff(2,3,'p=0.0025',ind,menMeans)\\n\""
            ],
            "application/vnd.google.colaboratory.intrinsic+json": {
              "type": "string"
            }
          },
          "metadata": {},
          "execution_count": 198
        }
      ]
    }
  ]
}