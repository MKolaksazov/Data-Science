{
  "nbformat": 4,
  "nbformat_minor": 0,
  "metadata": {
    "colab": {
      "provenance": [],
      "authorship_tag": "ABX9TyN46F8eIT5W37PNVnNFhM0n",
      "include_colab_link": true
    },
    "kernelspec": {
      "name": "python3",
      "display_name": "Python 3"
    },
    "language_info": {
      "name": "python"
    }
  },
  "cells": [
    {
      "cell_type": "markdown",
      "metadata": {
        "id": "view-in-github",
        "colab_type": "text"
      },
      "source": [
        "<a href=\"https://colab.research.google.com/github/MKolaksazov/Data-Science/blob/main/Colab%20code%20(graphs)/Tukey_test_letters_0925_2.ipynb\" target=\"_parent\"><img src=\"https://colab.research.google.com/assets/colab-badge.svg\" alt=\"Open In Colab\"/></a>"
      ]
    },
    {
      "cell_type": "markdown",
      "source": [
        "# Drawing a 'BOXPLOT' graph\n",
        "\n",
        "Includes letters, showing the significant differences between variants, derived by the means of the Tukey's test."
      ],
      "metadata": {
        "id": "C7JWMKLnIUEw"
      }
    },
    {
      "cell_type": "markdown",
      "source": [
        "####1) importing of the libraries and the **.csv** file\n",
        "\n",
        "The columns of this table file should containt parameters, whereas the group variants written as indexes of the rows. These indexes will be shown in the first column, named *'groups'*.\n",
        "\n",
        "the delimiter is usually a semicolon ```;```, but can be a tabulation ```\\t```\n"
      ],
      "metadata": {
        "id": "Oosa1hRlI8vI"
      }
    },
    {
      "cell_type": "code",
      "source": [
        "# PARAMETERS\n",
        "\n",
        "csv_file = \"/content/LCpro-220701-2.csv\"\n",
        "#csv_file = \"/content/CCI-2-stat.csv\"\n",
        "y_height = 45 # height of the graph\n",
        "y_dist = 10 # distance between labels\n",
        "parameter = 'A' # required column\n",
        "\n",
        "#x_label = 'grass forage species'\n",
        "x_label = 'Sorghum cultivars'\n",
        "\n",
        "title_main = 'Concentration of chlorophyll'\n",
        "y_label = 'cci'\n",
        "\n",
        "# $\\mu$g m$^{-2}$ chl (cci)\n",
        "\n",
        "title_main =  'PI $_{ABS}$ (performance index)'\n",
        "y_label = '(a.u.)'\n",
        "\n",
        "title_main = 'CO$_2$ uptake (A$_{n}$)'\n",
        "y_label = r'$\\mu$mol m$^{-2}$s$^{-1}$' # CO$_2$'\n",
        "\n",
        "# TAC - water extracts\n",
        "# mM AAE g${^-1}$"
      ],
      "metadata": {
        "id": "uSUU6kTvr0e1"
      },
      "execution_count": 1,
      "outputs": []
    },
    {
      "cell_type": "code",
      "source": [
        "title_main = 'CO$_2$ uptake (A$_{n}$)'\n",
        "y_label = r'$\\mu$mol m$^{-2}$s$^{-1}$' # CO$_2$'"
      ],
      "metadata": {
        "id": "1MnRLR9J5-tt"
      },
      "execution_count": 2,
      "outputs": []
    },
    {
      "cell_type": "markdown",
      "source": [
        "PARAMETERS - how to represent them as special characters\n",
        "```\n",
        "file = 'CCI-2-stat.csv'\n",
        "y_height = 88 # height of the graph\n",
        "y_dist = 20 # distance between labels\n",
        "parameter = 'cci_c' # required column\n",
        "\n",
        "x_label = 'Sorghum cultivars'\n",
        "\n",
        "title_main = 'CO$_2$ uptake (A$_{n}$)'\n",
        "y_label = r'$\\mu$mol m$^{-2}$s$^{-1}$ CO$_2$'\n",
        "\n",
        "\n",
        "title_main = 'Concentration of chlorophyll'\n",
        "y_label = 'cci'\n",
        "# $\\mu$g m$^{-2}$ chl (cci)\n",
        "\n",
        "# PI $_{ABS}$ (performance index)\n",
        "# (a.u.)\n",
        "\n",
        "# TAC - water extracts\n",
        "mM AAE g${^-1}$\n",
        "```"
      ],
      "metadata": {
        "id": "LFi55eHFwaqa"
      }
    },
    {
      "cell_type": "code",
      "execution_count": 3,
      "metadata": {
        "id": "R3e1yglf-DMD"
      },
      "outputs": [],
      "source": [
        "import pandas as pd\n",
        "import numpy as np\n",
        "# exp_0726_OJIP_p\n",
        "df = pd.read_csv(csv_file, delimiter='\\t', decimal=',') # delimiter '\\t' or ';'"
      ]
    },
    {
      "cell_type": "markdown",
      "source": [
        "1.2) Popping out the labels of the variation groups in a dataframe, called *'names'*.\n",
        "Transposing the dataframe, so that it can be easily processed by the covariance test analysis and matplotlib. Converting it into numpy array."
      ],
      "metadata": {
        "id": "tgDoWouVB-Xq"
      }
    },
    {
      "cell_type": "code",
      "source": [
        "names = df.pop('groups')\n",
        "transposed_df = df.T\n",
        "named = np.array(names)\n",
        "transposed_df"
      ],
      "metadata": {
        "colab": {
          "base_uri": "https://localhost:8080/",
          "height": 179
        },
        "id": "rvq8nc8aSvWs",
        "outputId": "e3d10db8-5740-4e92-dfbf-f0f6833ace58"
      },
      "execution_count": 4,
      "outputs": [
        {
          "output_type": "execute_result",
          "data": {
            "text/plain": [
              "              0      1      2      3      4      5      6      7      8   \\\n",
              "Unnamed: 0   NaN    NaN    NaN    NaN    NaN    NaN    NaN    NaN    NaN   \n",
              "A           34.1  34.27  32.48  30.51  30.74  32.32  23.51  27.28  26.84   \n",
              "\n",
              "               9   ...     63     64     65     66     67     68     69  \\\n",
              "Unnamed: 0    NaN  ...    NaN    NaN    NaN    NaN    NaN    NaN    NaN   \n",
              "A           25.28  ...  26.02  28.83  27.24  28.92  30.08  32.95  20.93   \n",
              "\n",
              "               70     71     72  \n",
              "Unnamed: 0    NaN    NaN    NaN  \n",
              "A           21.35  20.27  18.05  \n",
              "\n",
              "[2 rows x 73 columns]"
            ],
            "text/html": [
              "\n",
              "  <div id=\"df-1d42fb82-0899-4692-a633-7f2367913d10\" class=\"colab-df-container\">\n",
              "    <div>\n",
              "<style scoped>\n",
              "    .dataframe tbody tr th:only-of-type {\n",
              "        vertical-align: middle;\n",
              "    }\n",
              "\n",
              "    .dataframe tbody tr th {\n",
              "        vertical-align: top;\n",
              "    }\n",
              "\n",
              "    .dataframe thead th {\n",
              "        text-align: right;\n",
              "    }\n",
              "</style>\n",
              "<table border=\"1\" class=\"dataframe\">\n",
              "  <thead>\n",
              "    <tr style=\"text-align: right;\">\n",
              "      <th></th>\n",
              "      <th>0</th>\n",
              "      <th>1</th>\n",
              "      <th>2</th>\n",
              "      <th>3</th>\n",
              "      <th>4</th>\n",
              "      <th>5</th>\n",
              "      <th>6</th>\n",
              "      <th>7</th>\n",
              "      <th>8</th>\n",
              "      <th>9</th>\n",
              "      <th>...</th>\n",
              "      <th>63</th>\n",
              "      <th>64</th>\n",
              "      <th>65</th>\n",
              "      <th>66</th>\n",
              "      <th>67</th>\n",
              "      <th>68</th>\n",
              "      <th>69</th>\n",
              "      <th>70</th>\n",
              "      <th>71</th>\n",
              "      <th>72</th>\n",
              "    </tr>\n",
              "  </thead>\n",
              "  <tbody>\n",
              "    <tr>\n",
              "      <th>Unnamed: 0</th>\n",
              "      <td>NaN</td>\n",
              "      <td>NaN</td>\n",
              "      <td>NaN</td>\n",
              "      <td>NaN</td>\n",
              "      <td>NaN</td>\n",
              "      <td>NaN</td>\n",
              "      <td>NaN</td>\n",
              "      <td>NaN</td>\n",
              "      <td>NaN</td>\n",
              "      <td>NaN</td>\n",
              "      <td>...</td>\n",
              "      <td>NaN</td>\n",
              "      <td>NaN</td>\n",
              "      <td>NaN</td>\n",
              "      <td>NaN</td>\n",
              "      <td>NaN</td>\n",
              "      <td>NaN</td>\n",
              "      <td>NaN</td>\n",
              "      <td>NaN</td>\n",
              "      <td>NaN</td>\n",
              "      <td>NaN</td>\n",
              "    </tr>\n",
              "    <tr>\n",
              "      <th>A</th>\n",
              "      <td>34.1</td>\n",
              "      <td>34.27</td>\n",
              "      <td>32.48</td>\n",
              "      <td>30.51</td>\n",
              "      <td>30.74</td>\n",
              "      <td>32.32</td>\n",
              "      <td>23.51</td>\n",
              "      <td>27.28</td>\n",
              "      <td>26.84</td>\n",
              "      <td>25.28</td>\n",
              "      <td>...</td>\n",
              "      <td>26.02</td>\n",
              "      <td>28.83</td>\n",
              "      <td>27.24</td>\n",
              "      <td>28.92</td>\n",
              "      <td>30.08</td>\n",
              "      <td>32.95</td>\n",
              "      <td>20.93</td>\n",
              "      <td>21.35</td>\n",
              "      <td>20.27</td>\n",
              "      <td>18.05</td>\n",
              "    </tr>\n",
              "  </tbody>\n",
              "</table>\n",
              "<p>2 rows × 73 columns</p>\n",
              "</div>\n",
              "    <div class=\"colab-df-buttons\">\n",
              "\n",
              "  <div class=\"colab-df-container\">\n",
              "    <button class=\"colab-df-convert\" onclick=\"convertToInteractive('df-1d42fb82-0899-4692-a633-7f2367913d10')\"\n",
              "            title=\"Convert this dataframe to an interactive table.\"\n",
              "            style=\"display:none;\">\n",
              "\n",
              "  <svg xmlns=\"http://www.w3.org/2000/svg\" height=\"24px\" viewBox=\"0 -960 960 960\">\n",
              "    <path d=\"M120-120v-720h720v720H120Zm60-500h600v-160H180v160Zm220 220h160v-160H400v160Zm0 220h160v-160H400v160ZM180-400h160v-160H180v160Zm440 0h160v-160H620v160ZM180-180h160v-160H180v160Zm440 0h160v-160H620v160Z\"/>\n",
              "  </svg>\n",
              "    </button>\n",
              "\n",
              "  <style>\n",
              "    .colab-df-container {\n",
              "      display:flex;\n",
              "      gap: 12px;\n",
              "    }\n",
              "\n",
              "    .colab-df-convert {\n",
              "      background-color: #E8F0FE;\n",
              "      border: none;\n",
              "      border-radius: 50%;\n",
              "      cursor: pointer;\n",
              "      display: none;\n",
              "      fill: #1967D2;\n",
              "      height: 32px;\n",
              "      padding: 0 0 0 0;\n",
              "      width: 32px;\n",
              "    }\n",
              "\n",
              "    .colab-df-convert:hover {\n",
              "      background-color: #E2EBFA;\n",
              "      box-shadow: 0px 1px 2px rgba(60, 64, 67, 0.3), 0px 1px 3px 1px rgba(60, 64, 67, 0.15);\n",
              "      fill: #174EA6;\n",
              "    }\n",
              "\n",
              "    .colab-df-buttons div {\n",
              "      margin-bottom: 4px;\n",
              "    }\n",
              "\n",
              "    [theme=dark] .colab-df-convert {\n",
              "      background-color: #3B4455;\n",
              "      fill: #D2E3FC;\n",
              "    }\n",
              "\n",
              "    [theme=dark] .colab-df-convert:hover {\n",
              "      background-color: #434B5C;\n",
              "      box-shadow: 0px 1px 3px 1px rgba(0, 0, 0, 0.15);\n",
              "      filter: drop-shadow(0px 1px 2px rgba(0, 0, 0, 0.3));\n",
              "      fill: #FFFFFF;\n",
              "    }\n",
              "  </style>\n",
              "\n",
              "    <script>\n",
              "      const buttonEl =\n",
              "        document.querySelector('#df-1d42fb82-0899-4692-a633-7f2367913d10 button.colab-df-convert');\n",
              "      buttonEl.style.display =\n",
              "        google.colab.kernel.accessAllowed ? 'block' : 'none';\n",
              "\n",
              "      async function convertToInteractive(key) {\n",
              "        const element = document.querySelector('#df-1d42fb82-0899-4692-a633-7f2367913d10');\n",
              "        const dataTable =\n",
              "          await google.colab.kernel.invokeFunction('convertToInteractive',\n",
              "                                                    [key], {});\n",
              "        if (!dataTable) return;\n",
              "\n",
              "        const docLinkHtml = 'Like what you see? Visit the ' +\n",
              "          '<a target=\"_blank\" href=https://colab.research.google.com/notebooks/data_table.ipynb>data table notebook</a>'\n",
              "          + ' to learn more about interactive tables.';\n",
              "        element.innerHTML = '';\n",
              "        dataTable['output_type'] = 'display_data';\n",
              "        await google.colab.output.renderOutput(dataTable, element);\n",
              "        const docLink = document.createElement('div');\n",
              "        docLink.innerHTML = docLinkHtml;\n",
              "        element.appendChild(docLink);\n",
              "      }\n",
              "    </script>\n",
              "  </div>\n",
              "\n",
              "\n",
              "<div id=\"df-e3c96a8a-85ba-44d6-bb7b-dfcfa5af27ed\">\n",
              "  <button class=\"colab-df-quickchart\" onclick=\"quickchart('df-e3c96a8a-85ba-44d6-bb7b-dfcfa5af27ed')\"\n",
              "            title=\"Suggest charts.\"\n",
              "            style=\"display:none;\">\n",
              "\n",
              "<svg xmlns=\"http://www.w3.org/2000/svg\" height=\"24px\"viewBox=\"0 0 24 24\"\n",
              "     width=\"24px\">\n",
              "    <g>\n",
              "        <path d=\"M19 3H5c-1.1 0-2 .9-2 2v14c0 1.1.9 2 2 2h14c1.1 0 2-.9 2-2V5c0-1.1-.9-2-2-2zM9 17H7v-7h2v7zm4 0h-2V7h2v10zm4 0h-2v-4h2v4z\"/>\n",
              "    </g>\n",
              "</svg>\n",
              "  </button>\n",
              "\n",
              "<style>\n",
              "  .colab-df-quickchart {\n",
              "      --bg-color: #E8F0FE;\n",
              "      --fill-color: #1967D2;\n",
              "      --hover-bg-color: #E2EBFA;\n",
              "      --hover-fill-color: #174EA6;\n",
              "      --disabled-fill-color: #AAA;\n",
              "      --disabled-bg-color: #DDD;\n",
              "  }\n",
              "\n",
              "  [theme=dark] .colab-df-quickchart {\n",
              "      --bg-color: #3B4455;\n",
              "      --fill-color: #D2E3FC;\n",
              "      --hover-bg-color: #434B5C;\n",
              "      --hover-fill-color: #FFFFFF;\n",
              "      --disabled-bg-color: #3B4455;\n",
              "      --disabled-fill-color: #666;\n",
              "  }\n",
              "\n",
              "  .colab-df-quickchart {\n",
              "    background-color: var(--bg-color);\n",
              "    border: none;\n",
              "    border-radius: 50%;\n",
              "    cursor: pointer;\n",
              "    display: none;\n",
              "    fill: var(--fill-color);\n",
              "    height: 32px;\n",
              "    padding: 0;\n",
              "    width: 32px;\n",
              "  }\n",
              "\n",
              "  .colab-df-quickchart:hover {\n",
              "    background-color: var(--hover-bg-color);\n",
              "    box-shadow: 0 1px 2px rgba(60, 64, 67, 0.3), 0 1px 3px 1px rgba(60, 64, 67, 0.15);\n",
              "    fill: var(--button-hover-fill-color);\n",
              "  }\n",
              "\n",
              "  .colab-df-quickchart-complete:disabled,\n",
              "  .colab-df-quickchart-complete:disabled:hover {\n",
              "    background-color: var(--disabled-bg-color);\n",
              "    fill: var(--disabled-fill-color);\n",
              "    box-shadow: none;\n",
              "  }\n",
              "\n",
              "  .colab-df-spinner {\n",
              "    border: 2px solid var(--fill-color);\n",
              "    border-color: transparent;\n",
              "    border-bottom-color: var(--fill-color);\n",
              "    animation:\n",
              "      spin 1s steps(1) infinite;\n",
              "  }\n",
              "\n",
              "  @keyframes spin {\n",
              "    0% {\n",
              "      border-color: transparent;\n",
              "      border-bottom-color: var(--fill-color);\n",
              "      border-left-color: var(--fill-color);\n",
              "    }\n",
              "    20% {\n",
              "      border-color: transparent;\n",
              "      border-left-color: var(--fill-color);\n",
              "      border-top-color: var(--fill-color);\n",
              "    }\n",
              "    30% {\n",
              "      border-color: transparent;\n",
              "      border-left-color: var(--fill-color);\n",
              "      border-top-color: var(--fill-color);\n",
              "      border-right-color: var(--fill-color);\n",
              "    }\n",
              "    40% {\n",
              "      border-color: transparent;\n",
              "      border-right-color: var(--fill-color);\n",
              "      border-top-color: var(--fill-color);\n",
              "    }\n",
              "    60% {\n",
              "      border-color: transparent;\n",
              "      border-right-color: var(--fill-color);\n",
              "    }\n",
              "    80% {\n",
              "      border-color: transparent;\n",
              "      border-right-color: var(--fill-color);\n",
              "      border-bottom-color: var(--fill-color);\n",
              "    }\n",
              "    90% {\n",
              "      border-color: transparent;\n",
              "      border-bottom-color: var(--fill-color);\n",
              "    }\n",
              "  }\n",
              "</style>\n",
              "\n",
              "  <script>\n",
              "    async function quickchart(key) {\n",
              "      const quickchartButtonEl =\n",
              "        document.querySelector('#' + key + ' button');\n",
              "      quickchartButtonEl.disabled = true;  // To prevent multiple clicks.\n",
              "      quickchartButtonEl.classList.add('colab-df-spinner');\n",
              "      try {\n",
              "        const charts = await google.colab.kernel.invokeFunction(\n",
              "            'suggestCharts', [key], {});\n",
              "      } catch (error) {\n",
              "        console.error('Error during call to suggestCharts:', error);\n",
              "      }\n",
              "      quickchartButtonEl.classList.remove('colab-df-spinner');\n",
              "      quickchartButtonEl.classList.add('colab-df-quickchart-complete');\n",
              "    }\n",
              "    (() => {\n",
              "      let quickchartButtonEl =\n",
              "        document.querySelector('#df-e3c96a8a-85ba-44d6-bb7b-dfcfa5af27ed button');\n",
              "      quickchartButtonEl.style.display =\n",
              "        google.colab.kernel.accessAllowed ? 'block' : 'none';\n",
              "    })();\n",
              "  </script>\n",
              "</div>\n",
              "    </div>\n",
              "  </div>\n"
            ]
          },
          "metadata": {},
          "execution_count": 4
        }
      ]
    },
    {
      "cell_type": "markdown",
      "source": [
        "1.3) An optional step required to abbreviate the longer latin names of the crops, so that they can fit in the graph."
      ],
      "metadata": {
        "id": "HmDAiYzDFo7v"
      }
    },
    {
      "cell_type": "code",
      "source": [
        "import re\n",
        "# Abbreviating the latin names from 'Aaaaa aaaaaa (L.)' to 'A. aaaaaa (L.)'\n",
        "for i in range(len(names)):\n",
        "    c = names[i][0]\n",
        "    names[i] = re.sub(r'[A-Z]([a-z]+ )', c + '. ', names[i])\n",
        "names"
      ],
      "metadata": {
        "colab": {
          "base_uri": "https://localhost:8080/"
        },
        "id": "-6W8NK9ykOte",
        "outputId": "dd48383b-3494-462b-f5a2-19f994fb52a0"
      },
      "execution_count": 5,
      "outputs": [
        {
          "output_type": "execute_result",
          "data": {
            "text/plain": [
              "0     `1\n",
              "1     `1\n",
              "2     `1\n",
              "3     `1\n",
              "4     `1\n",
              "      ..\n",
              "68    `6\n",
              "69    `7\n",
              "70    `7\n",
              "71    `7\n",
              "72    `7\n",
              "Name: groups, Length: 73, dtype: object"
            ]
          },
          "metadata": {},
          "execution_count": 5
        }
      ]
    },
    {
      "cell_type": "markdown",
      "source": [
        "1.4) Popping out the column with the desired parameter by writing the name in the 'pop' function, as well as transposing it."
      ],
      "metadata": {
        "id": "rx_-ENpXF8x7"
      }
    },
    {
      "cell_type": "code",
      "source": [
        "params = df.pop(parameter) #required param\n",
        "transp_df = pd.to_numeric(params.T)\n",
        "\n",
        "#dff = np.array(params)"
      ],
      "metadata": {
        "id": "riY59rIGgqp2"
      },
      "execution_count": 6,
      "outputs": []
    },
    {
      "cell_type": "markdown",
      "source": [
        "1.5) Converting the dataframe into a 1D numpy array"
      ],
      "metadata": {
        "id": "FhbUoeHZGg2N"
      }
    },
    {
      "cell_type": "code",
      "source": [
        "from matplotlib.patches import namedtuple\n",
        "#convert dataframe to matrix\n",
        "conv_arr= transp_df.values\n",
        "\n",
        "#split matrix into 3 columns each into 1d array\n",
        "\n",
        "#converting into 1D array\n",
        "one_D_array = conv_arr.ravel()\n",
        "\n",
        "print(one_D_array)\n",
        "\n",
        "# variants as well:\n",
        "print(names)"
      ],
      "metadata": {
        "colab": {
          "base_uri": "https://localhost:8080/"
        },
        "id": "LWXXonmvTvjI",
        "outputId": "21bf36ef-be1a-4eca-c39f-dd50f545c40d"
      },
      "execution_count": 7,
      "outputs": [
        {
          "output_type": "stream",
          "name": "stdout",
          "text": [
            "[34.1  34.27 32.48 30.51 30.74 32.32 23.51 27.28 26.84 25.28 33.69 33.44\n",
            " 18.98 23.31 22.98 26.34 25.15 32.35 29.28 23.01 28.65 28.48 17.74 17.89\n",
            " 18.83 28.96 27.51 28.46 29.54 29.51 29.78 30.07 22.37 20.41 16.   16.57\n",
            " 22.73 21.14 23.32 19.86 26.58 23.59 22.59 29.4  28.37 29.41 33.79 33.23\n",
            " 31.92 33.64 34.64 34.36 34.63 35.46 24.23 27.33 27.21 26.76 20.91 26.08\n",
            " 27.77 27.77 26.34 26.02 28.83 27.24 28.92 30.08 32.95 20.93 21.35 20.27\n",
            " 18.05]\n",
            "0     `1\n",
            "1     `1\n",
            "2     `1\n",
            "3     `1\n",
            "4     `1\n",
            "      ..\n",
            "68    `6\n",
            "69    `7\n",
            "70    `7\n",
            "71    `7\n",
            "72    `7\n",
            "Name: groups, Length: 73, dtype: object\n"
          ]
        }
      ]
    },
    {
      "cell_type": "markdown",
      "source": [
        "####2) arranging the data by samples column-wise and taking out the names of the variants in a different array"
      ],
      "metadata": {
        "id": "swp-ZiLbJIIh"
      }
    },
    {
      "cell_type": "markdown",
      "source": [
        "Converting the 2-D pandas dataframe into a 1-D numpy array. ```numpy.append(array1, array2) ``` can be used to append two arrays.\n",
        "\n",
        "Probably ```pandas.dataframe.pop()``` can be used as well."
      ],
      "metadata": {
        "id": "DVlS-hBPJjVS"
      }
    },
    {
      "cell_type": "code",
      "source": [
        "# Sample data (replace this with your data)\n",
        "data = pd.DataFrame({\n",
        "    'Variant': names,\n",
        "    'Value': one_D_array\n",
        "})"
      ],
      "metadata": {
        "id": "WP0rCaFCJ3aC"
      },
      "execution_count": 8,
      "outputs": []
    },
    {
      "cell_type": "markdown",
      "source": [
        "3) performing the co-variance test\n",
        "(the following is a variant, showing the t-test)\n",
        "(currently not shown)"
      ],
      "metadata": {
        "id": "NWmrSR9_Jnbr"
      }
    },
    {
      "cell_type": "markdown",
      "source": [
        "4) This is a very simple code, showing a Tukey's test analysis and printing the summarized data"
      ],
      "metadata": {
        "id": "QHDE8lztKewK"
      }
    },
    {
      "cell_type": "code",
      "source": [
        "import statsmodels.stats.multicomp as mc\n",
        "\n",
        "# Perform one-way ANOVA to check for significant differences\n",
        "model = mc.MultiComparison(data['Value'], data['Variant'])\n",
        "result = model.tukeyhsd()\n",
        "\n",
        "print(result.summary(), len(result.reject))\n",
        "\n",
        "result.pvalues[result.pvalues < 0.05]\n",
        "result.reject\n",
        "result_list = result.groupsunique.tolist()\n",
        "\n",
        "while result_list:\n",
        "  for n in result_list:\n",
        "    if result_list[0] != n:\n",
        "      print(result_list[0], n)\n",
        "  result_list.pop(0)"
      ],
      "metadata": {
        "colab": {
          "base_uri": "https://localhost:8080/"
        },
        "id": "P-o5rG0hKOgv",
        "outputId": "7fd78605-00a5-4632-c130-cfcffd9fec8c"
      },
      "execution_count": 9,
      "outputs": [
        {
          "output_type": "stream",
          "name": "stdout",
          "text": [
            " Multiple Comparison of Means - Tukey HSD, FWER=0.05 \n",
            "=====================================================\n",
            "group1 group2 meandiff p-adj   lower    upper  reject\n",
            "-----------------------------------------------------\n",
            "    `1     `2   -1.787 0.9461  -7.0838  3.5098  False\n",
            "    `1     `3  -6.8891 0.0025 -12.0641 -1.7141   True\n",
            "    `1     `4   -8.987    0.0 -14.2838 -3.6902   True\n",
            "    `1     `5   -4.198 0.2108  -9.4948  1.0988  False\n",
            "    `1     `6  -8.9064    0.0 -14.0814 -3.7313   True\n",
            "    `1     `7  -9.0273    0.0 -14.2023 -3.8523   True\n",
            "    `2     `3  -5.1021 0.0558 -10.2771  0.0729  False\n",
            "    `2     `4     -7.2 0.0019 -12.4968 -1.9032   True\n",
            "    `2     `5   -2.411 0.8082  -7.7078  2.8858  False\n",
            "    `2     `6  -7.1194 0.0016 -12.2944 -1.9443   True\n",
            "    `2     `7  -7.2403 0.0013 -12.4153 -2.0653   True\n",
            "    `3     `4  -2.0979 0.8787  -7.2729  3.0771  False\n",
            "    `3     `5   2.6911 0.6944  -2.4839  7.8661  False\n",
            "    `3     `6  -2.0173  0.886  -7.0676   3.033  False\n",
            "    `3     `7  -2.1382 0.8552  -7.1885  2.9121  False\n",
            "    `4     `5    4.789 0.1022  -0.5078 10.0858  False\n",
            "    `4     `6   0.0806    1.0  -5.0944  5.2557  False\n",
            "    `4     `7  -0.0403    1.0  -5.2153  5.1347  False\n",
            "    `5     `6  -4.7084 0.0981  -9.8834  0.4667  False\n",
            "    `5     `7  -4.8293  0.083 -10.0043  0.3457  False\n",
            "    `6     `7  -0.1209    1.0  -5.1712  4.9294  False\n",
            "----------------------------------------------------- 21\n",
            "`1 `2\n",
            "`1 `3\n",
            "`1 `4\n",
            "`1 `5\n",
            "`1 `6\n",
            "`1 `7\n",
            "`2 `3\n",
            "`2 `4\n",
            "`2 `5\n",
            "`2 `6\n",
            "`2 `7\n",
            "`3 `4\n",
            "`3 `5\n",
            "`3 `6\n",
            "`3 `7\n",
            "`4 `5\n",
            "`4 `6\n",
            "`4 `7\n",
            "`5 `6\n",
            "`5 `7\n",
            "`6 `7\n"
          ]
        }
      ]
    },
    {
      "cell_type": "code",
      "source": [
        "import scipy.stats as stats\n",
        "import matplotlib.pyplot as plt\n",
        "\n",
        "y_ticks = np.round(np.arange(0, y_height, y_dist), 1)"
      ],
      "metadata": {
        "id": "XWqL6nNh1TX1"
      },
      "execution_count": 10,
      "outputs": []
    },
    {
      "cell_type": "code",
      "source": [
        "# define columns for data and then grouping\n",
        "col_to_group='Variant'\n",
        "col_for_data='Value'\n",
        "\n",
        "#Now take teh data and regroup for anova\n",
        "samples = [cols[1] for cols in data.groupby('Variant')['Value']]\n",
        "#I am not sure how this works but it makes an numpy array for each group\n",
        "f_val, p_val = stats.f_oneway(*samples)\n",
        "# I am not sure what this star does but this passes all the numpy arrays correctly\n",
        "\n",
        "# this if statement can be uncommmented if you don't won't to go furhter with out p<0.05\n",
        "#if p_val<0.05:    #If the p value is less than 0.05 it then does the tukey\n",
        "mod = mc.MultiComparison(data['Value'], data['Variant'])\n",
        "thsd=mod.tukeyhsd()\n",
        "\n",
        "#this is a function to do Piepho method.\n",
        "#AN Alogrithm for a letter based representation of al-pairwise comparisons.\n",
        "tot=len(thsd.groupsunique)\n",
        "#make an empty dataframe that is a square matrix of size of the groups. #set first column to 1\n",
        "df_ltr=pd.DataFrame(np.nan, index=np.arange(tot),columns=np.arange(tot))\n",
        "#df_ltr.iloc[:,0]=1\n",
        "df_ltr[df_ltr.columns[0]] = 1\n",
        "#df[df.columns[i]] = newvals` or, if columns are non-unique, `df.isetitem(i, newvals)\n",
        "\n",
        "count=0\n",
        "df_nms = pd.DataFrame('', index=np.arange(tot), columns=['names'])\n",
        "# I make a dummy dataframe to put axis labels into.  sd stands for signifcant difference\n",
        "\n",
        "for i in np.arange(tot):   #I loop through and make all pairwise comparisons.\n",
        "    for j in np.arange(i+1,tot):\n",
        "        #print('i=',i,'j=',j,thsd.reject[count])\n",
        "        if thsd.reject[count]==True:\n",
        "            for cn in np.arange(tot):\n",
        "                if df_ltr.iloc[i,cn]==1 and df_ltr.iloc[j,cn]==1:\n",
        "                  #If the column contains both i and j shift and duplicat\n",
        "                    df_ltr=pd.concat([df_ltr.iloc[:,:cn+1],df_ltr.iloc[:,cn+1:].T.shift().T],axis=1)\n",
        "                    df_ltr[df_ltr.columns[cn+1]]=df_ltr[df_ltr.columns[cn]]\n",
        "                    df_ltr.iloc[i,cn]=0\n",
        "                    df_ltr.iloc[j,cn+1]=0\n",
        "                #Now we need to check all columns for abosortpion.\n",
        "                for cleft in np.arange(len(df_ltr.columns)-1):\n",
        "                    for cright in np.arange(cleft+1,len(df_ltr.columns)):\n",
        "                        if (df_ltr[df_ltr.columns[cleft]].isna()).all()==False and (df_ltr[df_ltr.columns[cright]].isna()).all()==False:\n",
        "                            if (df_ltr[df_ltr.columns[cleft]]>=df_ltr[df_ltr.columns[cright]]).all()==True:\n",
        "                                df_ltr[df_ltr.columns[cright]]=0\n",
        "                                df_ltr=pd.concat([df_ltr[df_ltr.columns[:cright]],df_ltr[df_ltr.columns[cright:]].T.shift(-1).T],axis=1)\n",
        "                            if (df_ltr[df_ltr.columns[cleft]]<=df_ltr[df_ltr.columns[cright]]).all()==True:\n",
        "                                df_ltr[df_ltr.columns[cleft]]=0\n",
        "                                df_ltr=pd.concat([df_ltr[df_ltr.columns[:cleft]],df_ltr[df_ltr.columns[cleft:]].T.shift(-1).T],axis=1)\n",
        "\n",
        "        count+=1\n",
        "\n",
        "#I sort so that the first column becomes A\n",
        "df_ltr=df_ltr.sort_values(by=list(df_ltr.columns),axis=1,ascending=False)\n",
        "\n",
        "# I assign letters to each column\n",
        "for cn in np.arange(len(df_ltr.columns)):\n",
        "    df_ltr[df_ltr.columns[cn]]=df_ltr[df_ltr.columns[cn]].replace(1,chr(97+cn))\n",
        "    df_ltr[df_ltr.columns[cn]]=df_ltr[df_ltr.columns[cn]].replace(0,'')\n",
        "    df_ltr[df_ltr.columns[cn]]=df_ltr[df_ltr.columns[cn]].replace(np.nan,'')\n",
        "\n",
        "#I put all the letters into one string\n",
        "df_ltr=df_ltr.astype(str)\n",
        "df_ltr.sum(axis=1)\n"
      ],
      "metadata": {
        "colab": {
          "base_uri": "https://localhost:8080/"
        },
        "id": "q1iiUvP25_C7",
        "outputId": "fa489f72-d018-4b27-91a5-20147a273ee2"
      },
      "execution_count": 11,
      "outputs": [
        {
          "output_type": "execute_result",
          "data": {
            "text/plain": [
              "0      a\n",
              "1     ab\n",
              "2     bc\n",
              "3      c\n",
              "4    abc\n",
              "5      c\n",
              "6      c\n",
              "dtype: object"
            ]
          },
          "metadata": {},
          "execution_count": 11
        }
      ]
    },
    {
      "cell_type": "code",
      "source": [
        "def draw_letters(y, follow_bars=False, bplt=0):\n",
        "\n",
        "  for i,grp in enumerate(grps):   #I loop through the groups to make the scatters and figure out the axis labels.\n",
        "      if follow_bars:\n",
        "        y_pos = data[data['Variant'] == grp]['Value'].max() + y * 0.05\n",
        "      else:\n",
        "        y_pos = y * 0.98 #y_pos = ax.get_ylim()[1]*1\n",
        "      ax.text(i+bplt,y_pos,df_ltr.sum(axis=1)[i],\n",
        "              rotation=0,fontsize=10,verticalalignment='top',horizontalalignment='center')"
      ],
      "metadata": {
        "id": "ChOnKZpljoXG"
      },
      "execution_count": 12,
      "outputs": []
    },
    {
      "cell_type": "code",
      "source": [
        "# Variant 1\n",
        "def label_diff(i, j, text, X, Y, bplt=0):\n",
        "    y = 1.15*max(Y[i], Y[j])\n",
        "    y1 = Y[i]\n",
        "    y2 = Y[j]\n",
        "\n",
        "    props = {'connectionstyle':'bar, angle=180, fraction=0.1','arrowstyle':'-',\\\n",
        "                 'shrinkA':y_height*0.1,'shrinkB':y_height*0.1,'linewidth':1}\n",
        "    ax.annotate(' ** (p = ' + str(text) + ')', xy=(X[j]+bplt,y1 + y_height*0.13), zorder=10)\n",
        "    ax.annotate('', xy=(X[i]+bplt,y1 + y_height*0.1), xytext=(X[j]+bplt,y2 + y_height*0.1), arrowprops=props)"
      ],
      "metadata": {
        "id": "kHLfQCaRp9SE"
      },
      "execution_count": 133,
      "outputs": []
    },
    {
      "cell_type": "code",
      "source": [
        "stat_result = data.groupby(['Variant'], as_index=False).agg({'Value':['mean','std']})\n",
        "stat_result['Value']['std']\n",
        "\n",
        "menMeans = stat_result['Value']['mean']\n",
        "menStd = stat_result['Value']['std']\n",
        "labels = stat_result['Variant']\n",
        "\n",
        "ind  = np.arange(len(stat_result['Value']['std']))    # the x locations for the groups\n",
        "width= 0.7"
      ],
      "metadata": {
        "id": "ajZyKoGJD7oU"
      },
      "execution_count": 16,
      "outputs": []
    },
    {
      "cell_type": "code",
      "source": [
        "\n",
        "#Now to plot like R with a violing plot\n",
        "fig,ax=plt.subplots()\n",
        "data.boxplot(column=col_for_data, by=col_to_group,ax=ax,fontsize=14,\n",
        "             medianprops=dict(color='red'),\n",
        "             boxprops=dict(color='black'),\n",
        "             whiskerprops=dict(color='black')\n",
        "             )\n",
        "#, #patch_artist=True)\n",
        "\n",
        "#,showmeans=True\n",
        "#,boxprops=dict(linewidth=2.0),whiskerprops=dict(linewidth=2.0))  #This makes the boxplot\n",
        "\n",
        "grps=pd.unique(data[col_to_group].values)   #Finds the group names\n",
        "grps.sort() # This is critical!  Puts the groups in alphabeical order to make it match the plotting\n",
        "\n",
        "#props=dict(facecolor='white',alpha=1)\n",
        "\n",
        "label_diff(2,6,np.round(result.pvalues[14], 4),ind,menMeans,1)\n",
        "#label_diff(4,6,np.round(result.pvalues[19], 4),ind,menMeans)\n",
        "\n",
        "draw_letters(y_height, True, 1)\n",
        "\n",
        "plt.ylim(ymax=y_height)\n",
        "ax.set_yticks(y_ticks)\n",
        "\n",
        "ax.set_xticklabels(grps, fontsize=12)\n",
        "                   #, style='italic', rotation=90)\n",
        "\n",
        "ax.set(title=title_main, ylabel=y_label, xlabel=x_label)\n",
        "fig.suptitle('')\n",
        "\n",
        "plt.grid(False)\n",
        "#fig.savefig('anovatest.jpg',dpi=600,bbox_inches='tight')"
      ],
      "metadata": {
        "colab": {
          "base_uri": "https://localhost:8080/",
          "height": 468
        },
        "id": "pgvR10gb8nio",
        "outputId": "df79345b-0a9d-419e-da07-4fe7e678d855"
      },
      "execution_count": 17,
      "outputs": [
        {
          "output_type": "display_data",
          "data": {
            "text/plain": [
              "<Figure size 640x480 with 1 Axes>"
            ],
            "image/png": "[encoded data removed]"
          },
          "metadata": {}
        }
      ]
    },
    {
      "cell_type": "code",
      "source": [
        "# Pull the formatting out here\n",
        "bar_kwargs = {'width':width,'color':'white','linewidth':1,'zorder':5,'edgecolor':'black'}\n",
        "err_kwargs = {'linewidth':1,'ecolor':'black','capsize':5, 'capthick':1}\n",
        "#'zorder':0, - only up err bars\n",
        "#for matplotlib >= v1.4 use 'fmt':'none' instead\n",
        "\n",
        "fig, ax = plt.subplots()\n",
        "\n",
        "ax.p1 = plt.bar(ind, menMeans, yerr=menStd, error_kw=err_kwargs, **bar_kwargs)\n",
        "#ax.errs = plt.errorbar(ind, menMeans, yerr=menStd, **err_kwargs)\n",
        "\n",
        "#label_diff(4,5,np.round(result.pvalues[0], 4),ind,menMeans)\n",
        "\n",
        "label_diff(0,2,np.round(result.pvalues[1], 4),ind,menMeans)\n",
        "label_diff(1,3,np.round(result.pvalues[7], 4),ind,menMeans)\n",
        "'''\n",
        "label_diff(0,1,np.round(result.pvalues[0], 4),ind,menMeans)\n",
        "label_diff(1,2,np.round(result.pvalues[6], 4),ind,menMeans)\n",
        "label_diff(3,4,np.round(result.pvalues[15], 4),ind,menMeans)\n",
        "'''\n",
        "draw_letters(y_height)\n",
        "\n",
        "ax.set(title=title_main, ylabel=y_label, xlabel=x_label)\n",
        "\n",
        "plt.xticks(ind, labels, color='k')\n",
        "ax.set_xticklabels(grps, fontsize=12)\n",
        "                   #, style='italic', rotation=90)\n",
        "\n",
        "plt.ylim(ymax=y_height)\n",
        "ax.set_yticks(y_ticks)\n",
        "ax.set_yticklabels(y_ticks, fontsize=12)\n",
        "\n",
        "fig.suptitle('')\n",
        "plt.show()"
      ],
      "metadata": {
        "colab": {
          "base_uri": "https://localhost:8080/",
          "height": 478
        },
        "id": "Ejt3pb0XDM36",
        "outputId": "efad0d50-2533-41af-be83-971a037234cf"
      },
      "execution_count": 134,
      "outputs": [
        {
          "output_type": "display_data",
          "data": {
            "text/plain": [
              "<Figure size 640x480 with 1 Axes>"
            ],
            "image/png": "[encoded data removed]"
          },
          "metadata": {}
        }
      ]
    },
    {
      "cell_type": "code",
      "source": [
        "# Variant 2\n",
        "def label_diff(i,j,text,X,Y):\n",
        "    y = 1.15*max(Y[i], Y[j])\n",
        "    props = {'connectionstyle':'bar','arrowstyle':'-',\\\n",
        "                 'shrinkA':10,'shrinkB':10,'linewidth':1}\n",
        "    ax.annotate(' ns (p=' + str(text) + ')', xy=(X[i],y + y_height*0.07), zorder=10)\n",
        "    ax.annotate('', xy=(X[i],y), xytext=(X[j],y), arrowprops=props)"
      ],
      "metadata": {
        "id": "Qd3mY5RxO2Cx"
      },
      "execution_count": 131,
      "outputs": []
    }
  ]
}