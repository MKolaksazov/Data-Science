{
  "nbformat": 4,
  "nbformat_minor": 0,
  "metadata": {
    "colab": {
      "provenance": [],
      "authorship_tag": "ABX9TyP7bSE4Xrz3+u1zzd8UgRNQ",
      "include_colab_link": true
    },
    "kernelspec": {
      "name": "python3",
      "display_name": "Python 3"
    },
    "language_info": {
      "name": "python"
    }
  },
  "cells": [
    {
      "cell_type": "markdown",
      "metadata": {
        "id": "view-in-github",
        "colab_type": "text"
      },
      "source": [
        "<a href=\"https://colab.research.google.com/github/MKolaksazov/Data-Science/blob/main/Colab%20code%20(graphs)/Simple_bar_graph_Tukey_test_letters.ipynb\" target=\"_parent\"><img src=\"https://colab.research.google.com/assets/colab-badge.svg\" alt=\"Open In Colab\"/></a>"
      ]
    },
    {
      "cell_type": "markdown",
      "source": [
        "# Drawing a 'BOXPLOT' graph\n",
        "\n",
        "Includes letters, showing the significant differences between variants, derived by the means of the Tukey's test."
      ],
      "metadata": {
        "id": "C7JWMKLnIUEw"
      }
    },
    {
      "cell_type": "markdown",
      "source": [
        "Before everything else, parameters used inside this code should be defined. This is done to make corrections easier and avoid setting them inside the code."
      ],
      "metadata": {
        "id": "KLabpQhvJeKm"
      }
    },
    {
      "cell_type": "code",
      "source": [
        "# THIS COLAB NOTEBOOK SHOULD BE USED TO CALCULATE AND DRAW SIMPLE GRAPHS WITH (AND WITHOUT) TUKEY LETTER TEST\n",
        "\n",
        "#!sudo locale-gen en_US.UTF-8\n",
        "#!sudo update-locale"
      ],
      "metadata": {
        "id": "Dw6AZPBHBQv3"
      },
      "execution_count": 43,
      "outputs": []
    },
    {
      "cell_type": "code",
      "source": [
        "# PARAMETERS\n",
        "csv_file = '/content/gr_bca_0816_mda_gox.csv'\n",
        "\n",
        "stacked = False\n",
        "sorting = True\n",
        "abbreviations = False\n",
        "parameter = 'MDA' # required column\n",
        "x_label = '' #grass forage species' #'$\\it{L.}$ $\\it{albus}$ cultivars' # 'Chickpea ($\\mathit{Cicer}$ $\\it{arietinum}$) cultivars' # 'grass forage species' # 'L. albus cultivars' # 'Sorghum cultivars' # 'grass forage species' #\n",
        "\n",
        "y_height = 10.5 # height of the graph\n",
        "y_dist = 2 # distance between labels\n",
        "title_main =  '' #'GOX activity (Production of glyoxylate)' #\n",
        "y_label = '[a.u.]'\n",
        "#y_label = 'mM Gly g$^{-1}$ FW h$^{-1}$'\n",
        "#y_label = '\\u03BCM MDA g$^{-1}$ FW' #"
      ],
      "metadata": {
        "id": "uSUU6kTvr0e1"
      },
      "execution_count": 44,
      "outputs": []
    },
    {
      "cell_type": "code",
      "source": [
        "group_order = [\n",
        "    'Lp', 'Lp N',\n",
        "    'Ac', 'Ac N', 'Ad', 'Ad N',\n",
        "    'Fa', 'Fa N', 'Fp', 'Fp N', 'Fr', 'Fr N', 'Bi', 'Bi N',\n",
        "]\n",
        "\n",
        "'''\n",
        "group_order = ['n1', 'n2', 'n3', 'n4', 'n5', 'n6', 'n7', 'n8', 'n9', 'n10',\n",
        "               'n11', 'n12', 'n13', 'n14', 'n15', 'n16', 'n17', 'n18', 'n19',\n",
        "                'n20', 'n21', 'n22', 'xA', 'xB', 'xC', 'xD', 'xF', 'xG']\n",
        "'''"
      ],
      "metadata": {
        "colab": {
          "base_uri": "https://localhost:8080/",
          "height": 72
        },
        "id": "DhNlwIq7MyR_",
        "outputId": "e714cefd-c37a-42e3-f535-e0be06005ef3"
      },
      "execution_count": 45,
      "outputs": [
        {
          "output_type": "execute_result",
          "data": {
            "text/plain": [
              "\"\\ngroup_order = ['n1', 'n2', 'n3', 'n4', 'n5', 'n6', 'n7', 'n8', 'n9', 'n10',\\n               'n11', 'n12', 'n13', 'n14', 'n15', 'n16', 'n17', 'n18', 'n19',\\n                'n20', 'n21', 'n22', 'xA', 'xB', 'xC', 'xD', 'xF', 'xG']\\n\""
            ],
            "application/vnd.google.colaboratory.intrinsic+json": {
              "type": "string"
            }
          },
          "metadata": {},
          "execution_count": 45
        }
      ]
    },
    {
      "cell_type": "code",
      "source": [
        "\n",
        "\n",
        "'''\n",
        "group_order = [\n",
        "    'Lp M', 'Lp N',\n",
        "    #'Ac M', 'Ac N', 'Ad M', 'Ad N',\n",
        "    'Fa M', 'Fa N', 'Fp M', 'Fp N', 'Fr M', 'Fr N', 'Bi M', 'Bi N',\n",
        "]\n",
        "\n",
        "#group_order = ['La ed', 'La sm', 'Hv ed', 'Hv sm']\n",
        "group_order = [\n",
        "    'Lp', 'Lp  N', 'Ac', 'Ac N', 'Ad', 'Ad N',\n",
        "    'Fa', 'Fa N', 'Fp', 'Fp N', 'Fr', 'Fr N', 'Bi', 'Bi N',\n",
        "]\n",
        "group_order = [\n",
        "    'Lp M', 'Lp  N', 'Ac M', 'Ac N', 'Ad M', 'Ad N',\n",
        "    'Fa M', 'Fa N', 'Fp M', 'Fp N', 'Fr M', 'Fr N', 'Bi M', 'Bi N',\n",
        "]\n",
        "\n",
        "\n",
        "\n",
        "title_main = 'CO$_2$ uptake (A$_{n}$)'\n",
        "y_label = r'$\\mu$mol m$^{-2}$s$^{-1}$' # CO$_2$'\n",
        "\n",
        "title_main = 'Concentration of chlorophyll'\n",
        "y_label = 'cci'\n",
        "\n",
        "# $\\mu$g m$^{-2}$ chl (cci)\n",
        "\n",
        "title_main =  'PI $_{ABS}$ (performance index)'\n",
        "y_label = '(a.u.)'\n",
        "\n",
        "title_main =  '$\\it{\\u03C6}\\mathsf{_{Ro}}$' \\u03C8\n",
        "y_label = '(a.u.)'\n",
        "\n",
        "# TAC - water extracts\n",
        "# mM AAE g${^-1}$ '[mg L${^-1}$] AAE'\n",
        "\n",
        "group_order = [\n",
        "'Lolium perenne','Festuca arundinacea','Festuca pratensis','Festuca rubra','Bromus inermis'\n",
        "]\n",
        "\n",
        "group_order = ['La ed21.05', 'La sm21.05', 'Hv ed21.05', 'Hv sm21.05',\n",
        "               'La ed28.05', 'La sm28.05', 'Hv ed28.05', 'Hv sm28.05',\n",
        "               'La ed14.06', 'La sm14.06', 'Hv ed14.06', 'Hv sm14.06']\n",
        "\n",
        "group_order = [\n",
        "                'La s Apr 26','La s May 21','La s May 28','La s Jun 14',\n",
        "                'La m Apr 26','La m May 21','La m May 28','La m Jun 14',\n",
        "                'Hv s Apr 26','Hv s May 21','Hv s May 28','Hv s Jun 14',\n",
        "                'Hv m Apr 26','Hv m May 21','Hv m May 28','Hv m Jun 14',\n",
        "]\n",
        "\n",
        "group_order = [\n",
        "                'La s Apr 26','La m Apr 26','Hv s Apr 26','Hv m Apr 26',\n",
        "                'La s May 21','La m May 21','Hv s May 21','Hv m May 21',\n",
        "                'La s May 28','La m May 28','Hv s May 28','Hv m May 28',\n",
        "                'La s Jun 14','La m Jun 14','Hv s Jun 14','Hv m Jun 14',\n",
        "]\n",
        "\n",
        "group_order = [\n",
        "' `1',' `4',' `6',' `25', ' `25`15', ' `28`1',' `28`15',' `125`16',' `125`20',' `251`3b',' `251`3p',' `251`8', ' `251`18', ' `254`4', ' `254`11',' `254`17',' `254`18',' `425`12',' `425`18',' `425`25'\n",
        "]\n",
        "\n",
        "'''\n"
      ],
      "metadata": {
        "colab": {
          "base_uri": "https://localhost:8080/",
          "height": 181
        },
        "id": "7sZNt8vS_lks",
        "outputId": "59902301-c277-45c9-cf78-1e65aab8b811"
      },
      "execution_count": 46,
      "outputs": [
        {
          "output_type": "execute_result",
          "data": {
            "text/plain": [
              "\"\\ngroup_order = [\\n    'Lp M', 'Lp N',\\n    #'Ac M', 'Ac N', 'Ad M', 'Ad N',\\n    'Fa M', 'Fa N', 'Fp M', 'Fp N', 'Fr M', 'Fr N', 'Bi M', 'Bi N',\\n]\\n\\n#group_order = ['La ed', 'La sm', 'Hv ed', 'Hv sm']\\ngroup_order = [\\n    'Lp', 'Lp  N', 'Ac', 'Ac N', 'Ad', 'Ad N',\\n    'Fa', 'Fa N', 'Fp', 'Fp N', 'Fr', 'Fr N', 'Bi', 'Bi N',\\n]\\ngroup_order = [\\n    'Lp M', 'Lp  N', 'Ac M', 'Ac N', 'Ad M', 'Ad N',\\n    'Fa M', 'Fa N', 'Fp M', 'Fp N', 'Fr M', 'Fr N', 'Bi M', 'Bi N',\\n]\\n\\n\\n\\ntitle_main = 'CO$_2$ uptake (A$_{n}$)'\\ny_label = r'$\\\\mu$mol m$^{-2}$s$^{-1}$' # CO$_2$'\\n\\ntitle_main = 'Concentration of chlorophyll'\\ny_label = 'cci'\\n\\n# $\\\\mu$g m$^{-2}$ chl (cci)\\n\\ntitle_main =  'PI $_{ABS}$ (performance index)'\\ny_label = '(a.u.)'\\n\\ntitle_main =  '$\\\\it{φ}\\\\mathsf{_{Ro}}$' ψ\\ny_label = '(a.u.)'\\n\\n# TAC - water extracts\\n# mM AAE g${^-1}$ '[mg L${^-1}$] AAE'\\n\\ngroup_order = [\\n'Lolium perenne','Festuca arundinacea','Festuca pratensis','Festuca rubra','Bromus inermis'\\n]\\n\\ngroup_order = ['La ed21.05', 'La sm21.05', 'Hv ed21.05', 'Hv sm21.05',\\n               'La ed28.05', 'La sm28.05', 'Hv ed28.05', 'Hv sm28.05',\\n               'La ed14.06', 'La sm14.06', 'Hv ed14.06', 'Hv sm14.06']\\n\\ngroup_order = [\\n                'La s Apr 26','La s May 21','La s May 28','La s Jun 14',\\n                'La m Apr 26','La m May 21','La m May 28','La m Jun 14',\\n                'Hv s Apr 26','Hv s May 21','Hv s May 28','Hv s Jun 14',\\n                'Hv m Apr 26','Hv m May 21','Hv m May 28','Hv m Jun 14',\\n]\\n\\ngroup_order = [\\n                'La s Apr 26','La m Apr 26','Hv s Apr 26','Hv m Apr 26',\\n                'La s May 21','La m May 21','Hv s May 21','Hv m May 21',\\n                'La s May 28','La m May 28','Hv s May 28','Hv m May 28',\\n                'La s Jun 14','La m Jun 14','Hv s Jun 14','Hv m Jun 14',\\n]\\n\\ngroup_order = [\\n' `1',' `4',' `6',' `25', ' `25`15', ' `28`1',' `28`15',' `125`16',' `125`20',' `251`3b',' `251`3p',' `251`8', ' `251`18', ' `254`4', ' `254`11',' `254`17',' `254`18',' `425`12',' `425`18',' `425`25'\\n]\\n\\n\""
            ],
            "application/vnd.google.colaboratory.intrinsic+json": {
              "type": "string"
            }
          },
          "metadata": {},
          "execution_count": 46
        }
      ]
    },
    {
      "cell_type": "markdown",
      "source": [
        "PARAMETERS - how to represent them as special characters\n",
        "\n",
        "```'CO$_2$ uptake (A$_{n}$)'```\n",
        "\n",
        "CO$_2$ uptake (A$_{n}$)\n",
        "\n",
        "```r'$\\mu$mol m$^{-2}$s$^{-1}$' # CO$_2$'```\n",
        "\n",
        "[$\\mu$mol m$^{-2}$s$^{-1}$] CO$_2$\n",
        "\n",
        "Concentration of chlorophyll\n",
        "\n",
        "```'$\\mu$g m$^{-2}$ chl (cci)'```\n",
        "\n",
        "$\\mu$g m$^{-2}$ chl (cci)\n",
        "\n",
        "```'PI $_{ABS}$ (performance index)'```\n",
        "\n",
        "PI $_{ABS}$ (performance index)\n",
        "\n",
        "```'\\u03C6 $_{Ro}$'```\n",
        "\\u03C6 \\phi $_{Ro}$\n",
        "(a.u.)\n",
        "\n",
        "TAC - water extracts\n",
        "\n",
        "```'[mM g${^-1}$] AAE'``` [mM g${^-1}$] AAE"
      ],
      "metadata": {
        "id": "LFi55eHFwaqa"
      }
    },
    {
      "cell_type": "markdown",
      "source": [
        "####1) importing of the libraries and the **.csv** file\n",
        "\n",
        "The columns of this table file should containt parameters, whereas the group variants written as indexes of the rows. These indexes will be shown in the first column, named *'groups'*.\n",
        "\n",
        "the delimiter is usually a semicolon ```;```, but can be a tabulation ```\\t```\n"
      ],
      "metadata": {
        "id": "Oosa1hRlI8vI"
      }
    },
    {
      "cell_type": "code",
      "execution_count": 47,
      "metadata": {
        "id": "R3e1yglf-DMD"
      },
      "outputs": [],
      "source": [
        "import pandas as pd\n",
        "import numpy as np\n",
        "\n",
        "df = pd.read_csv(csv_file, delimiter='\\t', decimal='.') # delimiter '\\t' or ';'"
      ]
    },
    {
      "cell_type": "code",
      "source": [
        "df = df.dropna()\n",
        "if (sorting):\n",
        "  df.sort_values(by=\"groups\", key=lambda column: column.map(lambda e: group_order.index(e)), inplace=True)"
      ],
      "metadata": {
        "id": "1a1Cvjs9u-Rd"
      },
      "execution_count": 48,
      "outputs": []
    },
    {
      "cell_type": "markdown",
      "source": [
        "1.2) Popping out the labels of the variation groups in a dataframe, called *'names'*.\n",
        "Transposing the dataframe, so that it can be easily processed by the covariance test analysis and matplotlib. Converting it into numpy array."
      ],
      "metadata": {
        "id": "tgDoWouVB-Xq"
      }
    },
    {
      "cell_type": "code",
      "source": [
        "# print the resulting DataFrame\n",
        "#print(df)\n",
        "named = np.array(df.pop('groups'))\n",
        "transposed_df = df.T"
      ],
      "metadata": {
        "id": "TQRldAQTlqQX"
      },
      "execution_count": 49,
      "outputs": []
    },
    {
      "cell_type": "markdown",
      "source": [
        "1.3) An optional step required to abbreviate the longer latin names of the crops, so that they can fit in the graph."
      ],
      "metadata": {
        "id": "HmDAiYzDFo7v"
      }
    },
    {
      "cell_type": "code",
      "source": [
        "#ABBREVIATION\n",
        "if abbreviations:\n",
        "  try:\n",
        "      print('before: ', named)\n",
        "      import re\n",
        "      # Abbreviating the latin names from 'Aaaaa aaaaaa (L.)' to 'A. aaaaaa (L.)'\n",
        "      for i in range(len(named)):\n",
        "          c = named[i][0]\n",
        "          #named[i] = re.sub(r'[A-Z]([a-z]+ )', c + '. ', named[i])\n",
        "          named[i] = \"\".join(re.findall(r'\\b\\w', named[i]))\n",
        "\n",
        "      print('after: ', named)\n",
        "  except:\n",
        "      print(named.astype(int))\n",
        "      named=named.astype(int)\n",
        "      print('latin names not present')"
      ],
      "metadata": {
        "id": "-6W8NK9ykOte"
      },
      "execution_count": 50,
      "outputs": []
    },
    {
      "cell_type": "markdown",
      "source": [
        "1.4) Popping out the column with the desired parameter by writing the name in the 'pop' function, as well as transposing it."
      ],
      "metadata": {
        "id": "rx_-ENpXF8x7"
      }
    },
    {
      "cell_type": "markdown",
      "source": [
        "This short code is used to perform calculations, based on the compound parameters, we would like to obtain from the original data. For example we would want to find out the values of the parameter 'RC/CS$_o$'. Thus, we can use the already present in the raw data 'F$_o$', 'ABS/RC' and divide them to obtain the needed parameter."
      ],
      "metadata": {
        "id": "_0LiRBqm0GN1"
      }
    },
    {
      "cell_type": "markdown",
      "source": [
        "1.5) Converting the dataframe into a 1D numpy array"
      ],
      "metadata": {
        "id": "FhbUoeHZGg2N"
      }
    },
    {
      "cell_type": "markdown",
      "source": [
        "####2) arranging the data by samples column-wise and taking out the names of the variants in a different array"
      ],
      "metadata": {
        "id": "swp-ZiLbJIIh"
      }
    },
    {
      "cell_type": "markdown",
      "source": [
        "Converting the 2-D pandas dataframe into a 1-D numpy array. ```numpy.append(array1, array2) ``` can be used to append two arrays.\n",
        "\n",
        "Probably ```pandas.dataframe.pop()``` can be used as well."
      ],
      "metadata": {
        "id": "DVlS-hBPJjVS"
      }
    },
    {
      "cell_type": "code",
      "source": [
        "params = df.pop(parameter) #required param\n",
        "derived_params = pd.to_numeric(params.T)\n",
        "data = pd.DataFrame({\n",
        "    'Variant': named,\n",
        "    'Value': derived_params\n",
        "})"
      ],
      "metadata": {
        "id": "WXFRcohqsnpZ"
      },
      "execution_count": 51,
      "outputs": []
    },
    {
      "cell_type": "markdown",
      "source": [
        "3) performing the co-variance test\n",
        "(the following is a variant, showing the t-test)\n",
        "(currently not shown)"
      ],
      "metadata": {
        "id": "NWmrSR9_Jnbr"
      }
    },
    {
      "cell_type": "markdown",
      "source": [
        "4) This is a very simple code, showing a Tukey's test analysis and printing the summarized data\n",
        "\n",
        "# writing out the combinations of the groups:\n",
        "```\n",
        "result.pvalues[result.pvalues < 0.05]\n",
        "result.reject\n",
        "result_list = result.groupsunique.tolist()\n",
        "all_groups = []\n",
        "// writing out the all possible combinations:\n",
        "while result_list:\n",
        "  for n in result_list:\n",
        "    if result_list[0] != n:\n",
        "      print(result_list[0], n)\n",
        "      all_groups.append(str(result_list[0] + n))\n",
        "  result_list.pop(0)\n",
        "\n",
        "all_groups\n",
        "// finding out the rejected groups (p < 0.05):\n",
        "t = list(result.reject) // all groups (true or false)\n",
        "\n",
        "from itertools import compress\n",
        "ind = list(compress(range(len(t)), t)) // indeces of groups if reject == True\n",
        "\n",
        "for i in ind:\n",
        "  print(all_groups[i])\n",
        "\n",
        "// other variant:\n",
        "// find all indeces of p-values within range\n",
        "print(np.where(result.pvalues >= 0.05)[0])\n",
        "print(np.where(np.logical_and(result.pvalues < 0.05, result.pvalues >= 0.01))[0])\n",
        "print(np.where(np.logical_and(result.pvalues < 0.01, result.pvalues >= 0.001))[0])\n",
        "print(np.where(result.pvalues < 0.001)[0])\n",
        "\n",
        "ind = np.where(result.pvalues < 0.001)[0]\n",
        "\n",
        "for i in ind:\n",
        "  print(all_groups[i])\n",
        "```"
      ],
      "metadata": {
        "id": "QHDE8lztKewK"
      }
    },
    {
      "cell_type": "code",
      "source": [
        "import statsmodels.stats.multicomp as mc\n",
        "\n",
        "value = 'Value' #'8 TAC' #'Value'\n",
        "variant = 'Variant' #'8 groups' #'Variant'\n",
        "sorting_labels = variant\n",
        "if stacked: data = df\n",
        "old_data = data\n",
        "dataVariant = data #data[~data[variant].str.endswith('N')]\n",
        "\n",
        "# Perform one-way ANOVA to check for significant differences\n",
        "model = mc.MultiComparison(dataVariant[value].astype('float'), dataVariant[variant])\n",
        "#model = mc.MultiComparison(data['6 TAC'], data['6 groups'])\n",
        "result = model.tukeyhsd()\n",
        "#print(np.sum(result.reject), len(result.reject))\n",
        "#result.groups[result.pvalues < 0.05]\n",
        "#result.groups[result.reject==True]\n",
        "# The null hypothesis H0 for the test states that the means of the tested groups are equal.\n",
        "result.summary()"
      ],
      "metadata": {
        "id": "P-o5rG0hKOgv",
        "colab": {
          "base_uri": "https://localhost:8080/",
          "height": 1000
        },
        "outputId": "7d7d5749-eaea-49e0-af62-f2682a47f641"
      },
      "execution_count": 52,
      "outputs": [
        {
          "output_type": "execute_result",
          "data": {
            "text/plain": [
              "<class 'statsmodels.iolib.table.SimpleTable'>"
            ],
            "text/html": [
              "<table class=\"simpletable\">\n",
              "<caption>Multiple Comparison of Means - Tukey HSD, FWER=0.05</caption>\n",
              "<tr>\n",
              "  <th>group1</th> <th>group2</th> <th>meandiff</th>  <th>p-adj</th>  <th>lower</th>   <th>upper</th>  <th>reject</th>\n",
              "</tr>\n",
              "<tr>\n",
              "    <td>Ac</td>    <td>Ac N</td>   <td>2.9542</td>   <td>0.025</td> <td>0.2717</td>  <td>5.6366</td>   <td>True</td> \n",
              "</tr>\n",
              "<tr>\n",
              "    <td>Ac</td>     <td>Ad</td>    <td>0.7514</td>  <td>0.9944</td> <td>-1.9311</td> <td>3.4338</td>   <td>False</td>\n",
              "</tr>\n",
              "<tr>\n",
              "    <td>Ac</td>    <td>Ad N</td>    <td>4.919</td>  <td>0.0002</td> <td>2.2365</td>  <td>7.6014</td>   <td>True</td> \n",
              "</tr>\n",
              "<tr>\n",
              "    <td>Ac</td>     <td>Bi</td>    <td>2.4128</td>  <td>0.0976</td> <td>-0.2696</td> <td>5.0953</td>   <td>False</td>\n",
              "</tr>\n",
              "<tr>\n",
              "    <td>Ac</td>    <td>Bi N</td>   <td>3.4162</td>  <td>0.0077</td> <td>0.7338</td>  <td>6.0987</td>   <td>True</td> \n",
              "</tr>\n",
              "<tr>\n",
              "    <td>Ac</td>     <td>Fa</td>    <td>0.5507</td>  <td>0.9997</td> <td>-2.1318</td> <td>3.2332</td>   <td>False</td>\n",
              "</tr>\n",
              "<tr>\n",
              "    <td>Ac</td>    <td>Fa N</td>    <td>4.989</td>  <td>0.0002</td> <td>2.3065</td>  <td>7.6714</td>   <td>True</td> \n",
              "</tr>\n",
              "<tr>\n",
              "    <td>Ac</td>     <td>Fp</td>    <td>1.1014</td>  <td>0.9078</td> <td>-1.5811</td> <td>3.7839</td>   <td>False</td>\n",
              "</tr>\n",
              "<tr>\n",
              "    <td>Ac</td>    <td>Fp N</td>    <td>4.555</td>  <td>0.0005</td> <td>1.8725</td>  <td>7.2374</td>   <td>True</td> \n",
              "</tr>\n",
              "<tr>\n",
              "    <td>Ac</td>     <td>Fr</td>     <td>5.913</td>    <td>0.0</td>  <td>3.2306</td>  <td>8.5955</td>   <td>True</td> \n",
              "</tr>\n",
              "<tr>\n",
              "    <td>Ac</td>    <td>Fr N</td>   <td>3.1875</td>  <td>0.0138</td> <td>0.5051</td>   <td>5.87</td>    <td>True</td> \n",
              "</tr>\n",
              "<tr>\n",
              "    <td>Ac</td>     <td>Lp</td>    <td>2.3008</td>  <td>0.1277</td> <td>-0.3816</td> <td>4.9833</td>   <td>False</td>\n",
              "</tr>\n",
              "<tr>\n",
              "    <td>Ac</td>    <td>Lp N</td>   <td>7.0284</td>    <td>0.0</td>   <td>4.346</td>  <td>9.7109</td>   <td>True</td> \n",
              "</tr>\n",
              "<tr>\n",
              "   <td>Ac N</td>    <td>Ad</td>    <td>-2.2028</td> <td>0.1607</td> <td>-4.8853</td> <td>0.4797</td>   <td>False</td>\n",
              "</tr>\n",
              "<tr>\n",
              "   <td>Ac N</td>   <td>Ad N</td>   <td>1.9648</td>  <td>0.2716</td> <td>-0.7177</td> <td>4.6473</td>   <td>False</td>\n",
              "</tr>\n",
              "<tr>\n",
              "   <td>Ac N</td>    <td>Bi</td>    <td>-0.5414</td> <td>0.9998</td> <td>-3.2238</td> <td>2.1411</td>   <td>False</td>\n",
              "</tr>\n",
              "<tr>\n",
              "   <td>Ac N</td>   <td>Bi N</td>    <td>0.462</td>    <td>1.0</td>  <td>-2.2204</td> <td>3.1445</td>   <td>False</td>\n",
              "</tr>\n",
              "<tr>\n",
              "   <td>Ac N</td>    <td>Fa</td>    <td>-2.4035</td> <td>0.0999</td> <td>-5.0859</td>  <td>0.279</td>   <td>False</td>\n",
              "</tr>\n",
              "<tr>\n",
              "   <td>Ac N</td>   <td>Fa N</td>   <td>2.0348</td>   <td>0.234</td> <td>-0.6477</td> <td>4.7173</td>   <td>False</td>\n",
              "</tr>\n",
              "<tr>\n",
              "   <td>Ac N</td>    <td>Fp</td>    <td>-1.8528</td> <td>0.3409</td> <td>-4.5352</td> <td>0.8297</td>   <td>False</td>\n",
              "</tr>\n",
              "<tr>\n",
              "   <td>Ac N</td>   <td>Fp N</td>   <td>1.6008</td>   <td>0.533</td> <td>-1.0817</td> <td>4.2832</td>   <td>False</td>\n",
              "</tr>\n",
              "<tr>\n",
              "   <td>Ac N</td>    <td>Fr</td>    <td>2.9589</td>  <td>0.0247</td> <td>0.2764</td>  <td>5.6413</td>   <td>True</td> \n",
              "</tr>\n",
              "<tr>\n",
              "   <td>Ac N</td>   <td>Fr N</td>   <td>0.2333</td>    <td>1.0</td>  <td>-2.4491</td> <td>2.9158</td>   <td>False</td>\n",
              "</tr>\n",
              "<tr>\n",
              "   <td>Ac N</td>    <td>Lp</td>    <td>-0.6534</td> <td>0.9984</td> <td>-3.3358</td> <td>2.0291</td>   <td>False</td>\n",
              "</tr>\n",
              "<tr>\n",
              "   <td>Ac N</td>   <td>Lp N</td>   <td>4.0743</td>  <td>0.0015</td> <td>1.3918</td>  <td>6.7567</td>   <td>True</td> \n",
              "</tr>\n",
              "<tr>\n",
              "    <td>Ad</td>    <td>Ad N</td>   <td>4.1676</td>  <td>0.0012</td> <td>1.4851</td>  <td>6.8501</td>   <td>True</td> \n",
              "</tr>\n",
              "<tr>\n",
              "    <td>Ad</td>     <td>Bi</td>    <td>1.6614</td>  <td>0.4831</td> <td>-1.021</td>  <td>4.3439</td>   <td>False</td>\n",
              "</tr>\n",
              "<tr>\n",
              "    <td>Ad</td>    <td>Bi N</td>   <td>2.6648</td>  <td>0.0523</td> <td>-0.0176</td> <td>5.3473</td>   <td>False</td>\n",
              "</tr>\n",
              "<tr>\n",
              "    <td>Ad</td>     <td>Fa</td>    <td>-0.2007</td>   <td>1.0</td>  <td>-2.8831</td> <td>2.4818</td>   <td>False</td>\n",
              "</tr>\n",
              "<tr>\n",
              "    <td>Ad</td>    <td>Fa N</td>   <td>4.2376</td>   <td>0.001</td> <td>1.5551</td>  <td>6.9201</td>   <td>True</td> \n",
              "</tr>\n",
              "<tr>\n",
              "    <td>Ad</td>     <td>Fp</td>     <td>0.35</td>     <td>1.0</td>  <td>-2.3324</td> <td>3.0325</td>   <td>False</td>\n",
              "</tr>\n",
              "<tr>\n",
              "    <td>Ad</td>    <td>Fp N</td>   <td>3.8036</td>  <td>0.0029</td> <td>1.1211</td>   <td>6.486</td>   <td>True</td> \n",
              "</tr>\n",
              "<tr>\n",
              "    <td>Ad</td>     <td>Fr</td>    <td>5.1617</td>  <td>0.0001</td> <td>2.4792</td>  <td>7.8441</td>   <td>True</td> \n",
              "</tr>\n",
              "<tr>\n",
              "    <td>Ad</td>    <td>Fr N</td>   <td>2.4362</td>  <td>0.0922</td> <td>-0.2463</td> <td>5.1186</td>   <td>False</td>\n",
              "</tr>\n",
              "<tr>\n",
              "    <td>Ad</td>     <td>Lp</td>    <td>1.5494</td>  <td>0.5764</td> <td>-1.133</td>  <td>4.2319</td>   <td>False</td>\n",
              "</tr>\n",
              "<tr>\n",
              "    <td>Ad</td>    <td>Lp N</td>   <td>6.2771</td>    <td>0.0</td>  <td>3.5946</td>  <td>8.9595</td>   <td>True</td> \n",
              "</tr>\n",
              "<tr>\n",
              "   <td>Ad N</td>    <td>Bi</td>    <td>-2.5062</td> <td>0.0777</td> <td>-5.1886</td> <td>0.1763</td>   <td>False</td>\n",
              "</tr>\n",
              "<tr>\n",
              "   <td>Ad N</td>   <td>Bi N</td>   <td>-1.5028</td> <td>0.6162</td> <td>-4.1852</td> <td>1.1797</td>   <td>False</td>\n",
              "</tr>\n",
              "<tr>\n",
              "   <td>Ad N</td>    <td>Fa</td>    <td>-4.3683</td> <td>0.0007</td> <td>-7.0507</td> <td>-1.6858</td>  <td>True</td> \n",
              "</tr>\n",
              "<tr>\n",
              "   <td>Ad N</td>   <td>Fa N</td>    <td>0.07</td>     <td>1.0</td>  <td>-2.6125</td> <td>2.7525</td>   <td>False</td>\n",
              "</tr>\n",
              "<tr>\n",
              "   <td>Ad N</td>    <td>Fp</td>    <td>-3.8176</td> <td>0.0028</td>  <td>-6.5</td>   <td>-1.1351</td>  <td>True</td> \n",
              "</tr>\n",
              "<tr>\n",
              "   <td>Ad N</td>   <td>Fp N</td>   <td>-0.364</td>    <td>1.0</td>  <td>-3.0465</td> <td>2.3184</td>   <td>False</td>\n",
              "</tr>\n",
              "<tr>\n",
              "   <td>Ad N</td>    <td>Fr</td>    <td>0.9941</td>  <td>0.9515</td> <td>-1.6884</td> <td>3.6765</td>   <td>False</td>\n",
              "</tr>\n",
              "<tr>\n",
              "   <td>Ad N</td>   <td>Fr N</td>   <td>-1.7314</td> <td>0.4279</td> <td>-4.4139</td>  <td>0.951</td>   <td>False</td>\n",
              "</tr>\n",
              "<tr>\n",
              "   <td>Ad N</td>    <td>Lp</td>    <td>-2.6182</td> <td>0.0588</td> <td>-5.3006</td> <td>0.0643</td>   <td>False</td>\n",
              "</tr>\n",
              "<tr>\n",
              "   <td>Ad N</td>   <td>Lp N</td>   <td>2.1095</td>  <td>0.1986</td> <td>-0.573</td>  <td>4.7919</td>   <td>False</td>\n",
              "</tr>\n",
              "<tr>\n",
              "    <td>Bi</td>    <td>Bi N</td>   <td>1.0034</td>  <td>0.9484</td> <td>-1.6791</td> <td>3.6859</td>   <td>False</td>\n",
              "</tr>\n",
              "<tr>\n",
              "    <td>Bi</td>     <td>Fa</td>    <td>-1.8621</td> <td>0.3347</td> <td>-4.5446</td> <td>0.8203</td>   <td>False</td>\n",
              "</tr>\n",
              "<tr>\n",
              "    <td>Bi</td>    <td>Fa N</td>   <td>2.5762</td>  <td>0.0653</td> <td>-0.1063</td> <td>5.2586</td>   <td>False</td>\n",
              "</tr>\n",
              "<tr>\n",
              "    <td>Bi</td>     <td>Fp</td>    <td>-1.3114</td> <td>0.7738</td> <td>-3.9939</td>  <td>1.371</td>   <td>False</td>\n",
              "</tr>\n",
              "<tr>\n",
              "    <td>Bi</td>    <td>Fp N</td>   <td>2.1421</td>  <td>0.1845</td> <td>-0.5403</td> <td>4.8246</td>   <td>False</td>\n",
              "</tr>\n",
              "<tr>\n",
              "    <td>Bi</td>     <td>Fr</td>    <td>3.5002</td>  <td>0.0062</td> <td>0.8178</td>  <td>6.1827</td>   <td>True</td> \n",
              "</tr>\n",
              "<tr>\n",
              "    <td>Bi</td>    <td>Fr N</td>   <td>0.7747</td>  <td>0.9927</td> <td>-1.9077</td> <td>3.4572</td>   <td>False</td>\n",
              "</tr>\n",
              "<tr>\n",
              "    <td>Bi</td>     <td>Lp</td>    <td>-0.112</td>    <td>1.0</td>  <td>-2.7945</td> <td>2.5705</td>   <td>False</td>\n",
              "</tr>\n",
              "<tr>\n",
              "    <td>Bi</td>    <td>Lp N</td>   <td>4.6156</td>  <td>0.0004</td> <td>1.9332</td>  <td>7.2981</td>   <td>True</td> \n",
              "</tr>\n",
              "<tr>\n",
              "   <td>Bi N</td>    <td>Fa</td>    <td>-2.8655</td> <td>0.0314</td> <td>-5.548</td>  <td>-0.1831</td>  <td>True</td> \n",
              "</tr>\n",
              "<tr>\n",
              "   <td>Bi N</td>   <td>Fa N</td>   <td>1.5728</td>  <td>0.5566</td> <td>-1.1097</td> <td>4.2552</td>   <td>False</td>\n",
              "</tr>\n",
              "<tr>\n",
              "   <td>Bi N</td>    <td>Fp</td>    <td>-2.3148</td> <td>0.1236</td> <td>-4.9973</td> <td>0.3676</td>   <td>False</td>\n",
              "</tr>\n",
              "<tr>\n",
              "   <td>Bi N</td>   <td>Fp N</td>   <td>1.1387</td>  <td>0.8885</td> <td>-1.5437</td> <td>3.8212</td>   <td>False</td>\n",
              "</tr>\n",
              "<tr>\n",
              "   <td>Bi N</td>    <td>Fr</td>    <td>2.4968</td>  <td>0.0795</td> <td>-0.1856</td> <td>5.1793</td>   <td>False</td>\n",
              "</tr>\n",
              "<tr>\n",
              "   <td>Bi N</td>   <td>Fr N</td>   <td>-0.2287</td>   <td>1.0</td>  <td>-2.9111</td> <td>2.4538</td>   <td>False</td>\n",
              "</tr>\n",
              "<tr>\n",
              "   <td>Bi N</td>    <td>Lp</td>    <td>-1.1154</td> <td>0.9008</td> <td>-3.7979</td> <td>1.5671</td>   <td>False</td>\n",
              "</tr>\n",
              "<tr>\n",
              "   <td>Bi N</td>   <td>Lp N</td>   <td>3.6122</td>  <td>0.0047</td> <td>0.9298</td>  <td>6.2947</td>   <td>True</td> \n",
              "</tr>\n",
              "<tr>\n",
              "    <td>Fa</td>    <td>Fa N</td>   <td>4.4383</td>  <td>0.0006</td> <td>1.7558</td>  <td>7.1207</td>   <td>True</td> \n",
              "</tr>\n",
              "<tr>\n",
              "    <td>Fa</td>     <td>Fp</td>    <td>0.5507</td>  <td>0.9997</td> <td>-2.1318</td> <td>3.2332</td>   <td>False</td>\n",
              "</tr>\n",
              "<tr>\n",
              "    <td>Fa</td>    <td>Fp N</td>   <td>4.0043</td>  <td>0.0018</td> <td>1.3218</td>  <td>6.6867</td>   <td>True</td> \n",
              "</tr>\n",
              "<tr>\n",
              "    <td>Fa</td>     <td>Fr</td>    <td>5.3623</td>  <td>0.0001</td> <td>2.6799</td>  <td>8.0448</td>   <td>True</td> \n",
              "</tr>\n",
              "<tr>\n",
              "    <td>Fa</td>    <td>Fr N</td>   <td>2.6368</td>  <td>0.0561</td> <td>-0.0456</td> <td>5.3193</td>   <td>False</td>\n",
              "</tr>\n",
              "<tr>\n",
              "    <td>Fa</td>     <td>Lp</td>    <td>1.7501</td>  <td>0.4138</td> <td>-0.9323</td> <td>4.4326</td>   <td>False</td>\n",
              "</tr>\n",
              "<tr>\n",
              "    <td>Fa</td>    <td>Lp N</td>   <td>6.4777</td>    <td>0.0</td>  <td>3.7953</td>  <td>9.1602</td>   <td>True</td> \n",
              "</tr>\n",
              "<tr>\n",
              "   <td>Fa N</td>    <td>Fp</td>    <td>-3.8876</td> <td>0.0024</td>  <td>-6.57</td>  <td>-1.2051</td>  <td>True</td> \n",
              "</tr>\n",
              "<tr>\n",
              "   <td>Fa N</td>   <td>Fp N</td>   <td>-0.434</td>    <td>1.0</td>  <td>-3.1165</td> <td>2.2484</td>   <td>False</td>\n",
              "</tr>\n",
              "<tr>\n",
              "   <td>Fa N</td>    <td>Fr</td>    <td>0.9241</td>  <td>0.9708</td> <td>-1.7584</td> <td>3.6065</td>   <td>False</td>\n",
              "</tr>\n",
              "<tr>\n",
              "   <td>Fa N</td>   <td>Fr N</td>   <td>-1.8014</td> <td>0.3762</td> <td>-4.4839</td>  <td>0.881</td>   <td>False</td>\n",
              "</tr>\n",
              "<tr>\n",
              "   <td>Fa N</td>    <td>Lp</td>    <td>-2.6882</td> <td>0.0493</td> <td>-5.3706</td> <td>-0.0057</td>  <td>True</td> \n",
              "</tr>\n",
              "<tr>\n",
              "   <td>Fa N</td>   <td>Lp N</td>   <td>2.0395</td>  <td>0.2317</td> <td>-0.643</td>  <td>4.7219</td>   <td>False</td>\n",
              "</tr>\n",
              "<tr>\n",
              "    <td>Fp</td>    <td>Fp N</td>   <td>3.4536</td>   <td>0.007</td> <td>0.7711</td>   <td>6.136</td>   <td>True</td> \n",
              "</tr>\n",
              "<tr>\n",
              "    <td>Fp</td>     <td>Fr</td>    <td>4.8116</td>  <td>0.0003</td> <td>2.1292</td>  <td>7.4941</td>   <td>True</td> \n",
              "</tr>\n",
              "<tr>\n",
              "    <td>Fp</td>    <td>Fr N</td>   <td>2.0861</td>  <td>0.2092</td> <td>-0.5963</td> <td>4.7686</td>   <td>False</td>\n",
              "</tr>\n",
              "<tr>\n",
              "    <td>Fp</td>     <td>Lp</td>    <td>1.1994</td>  <td>0.8526</td> <td>-1.483</td>  <td>3.8819</td>   <td>False</td>\n",
              "</tr>\n",
              "<tr>\n",
              "    <td>Fp</td>    <td>Lp N</td>    <td>5.927</td>    <td>0.0</td>  <td>3.2446</td>  <td>8.6095</td>   <td>True</td> \n",
              "</tr>\n",
              "<tr>\n",
              "   <td>Fp N</td>    <td>Fr</td>    <td>1.3581</td>  <td>0.7372</td> <td>-1.3244</td> <td>4.0405</td>   <td>False</td>\n",
              "</tr>\n",
              "<tr>\n",
              "   <td>Fp N</td>   <td>Fr N</td>   <td>-1.3674</td> <td>0.7297</td> <td>-4.0499</td>  <td>1.315</td>   <td>False</td>\n",
              "</tr>\n",
              "<tr>\n",
              "   <td>Fp N</td>    <td>Lp</td>    <td>-2.2541</td> <td>0.1426</td> <td>-4.9366</td> <td>0.4283</td>   <td>False</td>\n",
              "</tr>\n",
              "<tr>\n",
              "   <td>Fp N</td>   <td>Lp N</td>   <td>2.4735</td>  <td>0.0842</td> <td>-0.209</td>   <td>5.156</td>   <td>False</td>\n",
              "</tr>\n",
              "<tr>\n",
              "    <td>Fr</td>    <td>Fr N</td>   <td>-2.7255</td> <td>0.0448</td> <td>-5.408</td>  <td>-0.043</td>   <td>True</td> \n",
              "</tr>\n",
              "<tr>\n",
              "    <td>Fr</td>     <td>Lp</td>    <td>-3.6122</td> <td>0.0047</td> <td>-6.2947</td> <td>-0.9298</td>  <td>True</td> \n",
              "</tr>\n",
              "<tr>\n",
              "    <td>Fr</td>    <td>Lp N</td>   <td>1.1154</td>  <td>0.9008</td> <td>-1.5671</td> <td>3.7979</td>   <td>False</td>\n",
              "</tr>\n",
              "<tr>\n",
              "   <td>Fr N</td>    <td>Lp</td>    <td>-0.8867</td> <td>0.9785</td> <td>-3.5692</td> <td>1.7957</td>   <td>False</td>\n",
              "</tr>\n",
              "<tr>\n",
              "   <td>Fr N</td>   <td>Lp N</td>   <td>3.8409</td>  <td>0.0026</td> <td>1.1585</td>  <td>6.5234</td>   <td>True</td> \n",
              "</tr>\n",
              "<tr>\n",
              "    <td>Lp</td>    <td>Lp N</td>   <td>4.7276</td>  <td>0.0003</td> <td>2.0452</td>  <td>7.4101</td>   <td>True</td> \n",
              "</tr>\n",
              "</table>"
            ],
            "text/latex": "\\begin{center}\n\\begin{tabular}{ccccccc}\n\\toprule\n\\textbf{group1} & \\textbf{group2} & \\textbf{meandiff} & \\textbf{p-adj} & \\textbf{lower} & \\textbf{upper} & \\textbf{reject}  \\\\\n\\midrule\n       Ac       &       Ac N      &       2.9542      &     0.025      &     0.2717     &     5.6366     &       True       \\\\\n       Ac       &        Ad       &       0.7514      &     0.9944     &    -1.9311     &     3.4338     &      False       \\\\\n       Ac       &       Ad N      &       4.919       &     0.0002     &     2.2365     &     7.6014     &       True       \\\\\n       Ac       &        Bi       &       2.4128      &     0.0976     &    -0.2696     &     5.0953     &      False       \\\\\n       Ac       &       Bi N      &       3.4162      &     0.0077     &     0.7338     &     6.0987     &       True       \\\\\n       Ac       &        Fa       &       0.5507      &     0.9997     &    -2.1318     &     3.2332     &      False       \\\\\n       Ac       &       Fa N      &       4.989       &     0.0002     &     2.3065     &     7.6714     &       True       \\\\\n       Ac       &        Fp       &       1.1014      &     0.9078     &    -1.5811     &     3.7839     &      False       \\\\\n       Ac       &       Fp N      &       4.555       &     0.0005     &     1.8725     &     7.2374     &       True       \\\\\n       Ac       &        Fr       &       5.913       &      0.0       &     3.2306     &     8.5955     &       True       \\\\\n       Ac       &       Fr N      &       3.1875      &     0.0138     &     0.5051     &      5.87      &       True       \\\\\n       Ac       &        Lp       &       2.3008      &     0.1277     &    -0.3816     &     4.9833     &      False       \\\\\n       Ac       &       Lp N      &       7.0284      &      0.0       &     4.346      &     9.7109     &       True       \\\\\n      Ac N      &        Ad       &      -2.2028      &     0.1607     &    -4.8853     &     0.4797     &      False       \\\\\n      Ac N      &       Ad N      &       1.9648      &     0.2716     &    -0.7177     &     4.6473     &      False       \\\\\n      Ac N      &        Bi       &      -0.5414      &     0.9998     &    -3.2238     &     2.1411     &      False       \\\\\n      Ac N      &       Bi N      &       0.462       &      1.0       &    -2.2204     &     3.1445     &      False       \\\\\n      Ac N      &        Fa       &      -2.4035      &     0.0999     &    -5.0859     &     0.279      &      False       \\\\\n      Ac N      &       Fa N      &       2.0348      &     0.234      &    -0.6477     &     4.7173     &      False       \\\\\n      Ac N      &        Fp       &      -1.8528      &     0.3409     &    -4.5352     &     0.8297     &      False       \\\\\n      Ac N      &       Fp N      &       1.6008      &     0.533      &    -1.0817     &     4.2832     &      False       \\\\\n      Ac N      &        Fr       &       2.9589      &     0.0247     &     0.2764     &     5.6413     &       True       \\\\\n      Ac N      &       Fr N      &       0.2333      &      1.0       &    -2.4491     &     2.9158     &      False       \\\\\n      Ac N      &        Lp       &      -0.6534      &     0.9984     &    -3.3358     &     2.0291     &      False       \\\\\n      Ac N      &       Lp N      &       4.0743      &     0.0015     &     1.3918     &     6.7567     &       True       \\\\\n       Ad       &       Ad N      &       4.1676      &     0.0012     &     1.4851     &     6.8501     &       True       \\\\\n       Ad       &        Bi       &       1.6614      &     0.4831     &     -1.021     &     4.3439     &      False       \\\\\n       Ad       &       Bi N      &       2.6648      &     0.0523     &    -0.0176     &     5.3473     &      False       \\\\\n       Ad       &        Fa       &      -0.2007      &      1.0       &    -2.8831     &     2.4818     &      False       \\\\\n       Ad       &       Fa N      &       4.2376      &     0.001      &     1.5551     &     6.9201     &       True       \\\\\n       Ad       &        Fp       &        0.35       &      1.0       &    -2.3324     &     3.0325     &      False       \\\\\n       Ad       &       Fp N      &       3.8036      &     0.0029     &     1.1211     &     6.486      &       True       \\\\\n       Ad       &        Fr       &       5.1617      &     0.0001     &     2.4792     &     7.8441     &       True       \\\\\n       Ad       &       Fr N      &       2.4362      &     0.0922     &    -0.2463     &     5.1186     &      False       \\\\\n       Ad       &        Lp       &       1.5494      &     0.5764     &     -1.133     &     4.2319     &      False       \\\\\n       Ad       &       Lp N      &       6.2771      &      0.0       &     3.5946     &     8.9595     &       True       \\\\\n      Ad N      &        Bi       &      -2.5062      &     0.0777     &    -5.1886     &     0.1763     &      False       \\\\\n      Ad N      &       Bi N      &      -1.5028      &     0.6162     &    -4.1852     &     1.1797     &      False       \\\\\n      Ad N      &        Fa       &      -4.3683      &     0.0007     &    -7.0507     &    -1.6858     &       True       \\\\\n      Ad N      &       Fa N      &        0.07       &      1.0       &    -2.6125     &     2.7525     &      False       \\\\\n      Ad N      &        Fp       &      -3.8176      &     0.0028     &      -6.5      &    -1.1351     &       True       \\\\\n      Ad N      &       Fp N      &       -0.364      &      1.0       &    -3.0465     &     2.3184     &      False       \\\\\n      Ad N      &        Fr       &       0.9941      &     0.9515     &    -1.6884     &     3.6765     &      False       \\\\\n      Ad N      &       Fr N      &      -1.7314      &     0.4279     &    -4.4139     &     0.951      &      False       \\\\\n      Ad N      &        Lp       &      -2.6182      &     0.0588     &    -5.3006     &     0.0643     &      False       \\\\\n      Ad N      &       Lp N      &       2.1095      &     0.1986     &     -0.573     &     4.7919     &      False       \\\\\n       Bi       &       Bi N      &       1.0034      &     0.9484     &    -1.6791     &     3.6859     &      False       \\\\\n       Bi       &        Fa       &      -1.8621      &     0.3347     &    -4.5446     &     0.8203     &      False       \\\\\n       Bi       &       Fa N      &       2.5762      &     0.0653     &    -0.1063     &     5.2586     &      False       \\\\\n       Bi       &        Fp       &      -1.3114      &     0.7738     &    -3.9939     &     1.371      &      False       \\\\\n       Bi       &       Fp N      &       2.1421      &     0.1845     &    -0.5403     &     4.8246     &      False       \\\\\n       Bi       &        Fr       &       3.5002      &     0.0062     &     0.8178     &     6.1827     &       True       \\\\\n       Bi       &       Fr N      &       0.7747      &     0.9927     &    -1.9077     &     3.4572     &      False       \\\\\n       Bi       &        Lp       &       -0.112      &      1.0       &    -2.7945     &     2.5705     &      False       \\\\\n       Bi       &       Lp N      &       4.6156      &     0.0004     &     1.9332     &     7.2981     &       True       \\\\\n      Bi N      &        Fa       &      -2.8655      &     0.0314     &     -5.548     &    -0.1831     &       True       \\\\\n      Bi N      &       Fa N      &       1.5728      &     0.5566     &    -1.1097     &     4.2552     &      False       \\\\\n      Bi N      &        Fp       &      -2.3148      &     0.1236     &    -4.9973     &     0.3676     &      False       \\\\\n      Bi N      &       Fp N      &       1.1387      &     0.8885     &    -1.5437     &     3.8212     &      False       \\\\\n      Bi N      &        Fr       &       2.4968      &     0.0795     &    -0.1856     &     5.1793     &      False       \\\\\n      Bi N      &       Fr N      &      -0.2287      &      1.0       &    -2.9111     &     2.4538     &      False       \\\\\n      Bi N      &        Lp       &      -1.1154      &     0.9008     &    -3.7979     &     1.5671     &      False       \\\\\n      Bi N      &       Lp N      &       3.6122      &     0.0047     &     0.9298     &     6.2947     &       True       \\\\\n       Fa       &       Fa N      &       4.4383      &     0.0006     &     1.7558     &     7.1207     &       True       \\\\\n       Fa       &        Fp       &       0.5507      &     0.9997     &    -2.1318     &     3.2332     &      False       \\\\\n       Fa       &       Fp N      &       4.0043      &     0.0018     &     1.3218     &     6.6867     &       True       \\\\\n       Fa       &        Fr       &       5.3623      &     0.0001     &     2.6799     &     8.0448     &       True       \\\\\n       Fa       &       Fr N      &       2.6368      &     0.0561     &    -0.0456     &     5.3193     &      False       \\\\\n       Fa       &        Lp       &       1.7501      &     0.4138     &    -0.9323     &     4.4326     &      False       \\\\\n       Fa       &       Lp N      &       6.4777      &      0.0       &     3.7953     &     9.1602     &       True       \\\\\n      Fa N      &        Fp       &      -3.8876      &     0.0024     &     -6.57      &    -1.2051     &       True       \\\\\n      Fa N      &       Fp N      &       -0.434      &      1.0       &    -3.1165     &     2.2484     &      False       \\\\\n      Fa N      &        Fr       &       0.9241      &     0.9708     &    -1.7584     &     3.6065     &      False       \\\\\n      Fa N      &       Fr N      &      -1.8014      &     0.3762     &    -4.4839     &     0.881      &      False       \\\\\n      Fa N      &        Lp       &      -2.6882      &     0.0493     &    -5.3706     &    -0.0057     &       True       \\\\\n      Fa N      &       Lp N      &       2.0395      &     0.2317     &     -0.643     &     4.7219     &      False       \\\\\n       Fp       &       Fp N      &       3.4536      &     0.007      &     0.7711     &     6.136      &       True       \\\\\n       Fp       &        Fr       &       4.8116      &     0.0003     &     2.1292     &     7.4941     &       True       \\\\\n       Fp       &       Fr N      &       2.0861      &     0.2092     &    -0.5963     &     4.7686     &      False       \\\\\n       Fp       &        Lp       &       1.1994      &     0.8526     &     -1.483     &     3.8819     &      False       \\\\\n       Fp       &       Lp N      &       5.927       &      0.0       &     3.2446     &     8.6095     &       True       \\\\\n      Fp N      &        Fr       &       1.3581      &     0.7372     &    -1.3244     &     4.0405     &      False       \\\\\n      Fp N      &       Fr N      &      -1.3674      &     0.7297     &    -4.0499     &     1.315      &      False       \\\\\n      Fp N      &        Lp       &      -2.2541      &     0.1426     &    -4.9366     &     0.4283     &      False       \\\\\n      Fp N      &       Lp N      &       2.4735      &     0.0842     &     -0.209     &     5.156      &      False       \\\\\n       Fr       &       Fr N      &      -2.7255      &     0.0448     &     -5.408     &     -0.043     &       True       \\\\\n       Fr       &        Lp       &      -3.6122      &     0.0047     &    -6.2947     &    -0.9298     &       True       \\\\\n       Fr       &       Lp N      &       1.1154      &     0.9008     &    -1.5671     &     3.7979     &      False       \\\\\n      Fr N      &        Lp       &      -0.8867      &     0.9785     &    -3.5692     &     1.7957     &      False       \\\\\n      Fr N      &       Lp N      &       3.8409      &     0.0026     &     1.1585     &     6.5234     &       True       \\\\\n       Lp       &       Lp N      &       4.7276      &     0.0003     &     2.0452     &     7.4101     &       True       \\\\\n\\bottomrule\n\\end{tabular}\n%\\caption{Multiple Comparison of Means - Tukey HSD, FWER=0.05}\n\\end{center}"
          },
          "metadata": {},
          "execution_count": 52
        }
      ]
    },
    {
      "cell_type": "code",
      "source": [
        "print(np.where(np.round(result.meandiffs, 2) == 0.34)) # 46 Bi 85 Fr"
      ],
      "metadata": {
        "colab": {
          "base_uri": "https://localhost:8080/"
        },
        "id": "ypNayqUetVmV",
        "outputId": "aefd3763-eba5-46e6-f81f-1f43f377ec55"
      },
      "execution_count": 53,
      "outputs": [
        {
          "output_type": "stream",
          "name": "stdout",
          "text": [
            "(array([], dtype=int64),)\n"
          ]
        }
      ]
    },
    {
      "cell_type": "code",
      "source": [
        "result_list = result.groupsunique.tolist()\n",
        "all_groups = []\n",
        "\n",
        "while result_list:\n",
        "  for n in result_list:\n",
        "    if result_list[0] != n:\n",
        "      all_groups.append(str(result_list[0] + n))\n",
        "  result_list.pop(0)\n",
        "\n",
        "print(np.where(result.pvalues >= 0.05)[0])\n",
        "print(np.where(np.logical_and(result.pvalues < 0.05, result.pvalues >= 0.01))[0])\n",
        "print(np.where(np.logical_and(result.pvalues < 0.01, result.pvalues >= 0.001))[0])\n",
        "print(np.where(result.pvalues < 0.001)[0])\n",
        "\n",
        "ind = np.where(result.pvalues < 0.001)[0]\n",
        "\n",
        "#for i in ind:\n",
        "#  print(all_groups[i])"
      ],
      "metadata": {
        "id": "AbVsbnNxCm5B",
        "colab": {
          "base_uri": "https://localhost:8080/"
        },
        "outputId": "b2c62255-f0d1-4edf-fdad-9455ef4f3deb"
      },
      "execution_count": 54,
      "outputs": [
        {
          "output_type": "stream",
          "name": "stdout",
          "text": [
            "[ 1  3  5  7 11 13 14 15 16 17 18 19 20 22 23 26 27 28 30 33 34 36 37 39\n",
            " 41 42 43 44 45 46 47 48 49 50 52 53 56 57 58 59 60 61 64 67 68 71 72 73\n",
            " 75 78 79 81 82 83 84 87 88]\n",
            "[ 0 10 21 55 74 85]\n",
            "[ 4 24 25 29 31 40 51 62 65 70 76 86 89]\n",
            "[ 2  6  8  9 12 32 35 38 54 63 66 69 77 80 90]\n"
          ]
        }
      ]
    },
    {
      "cell_type": "code",
      "source": [
        "import scipy.stats as stats\n",
        "import matplotlib.pyplot as plt\n",
        "\n",
        "y_ticks = np.round(np.arange(0, y_height, y_dist), 1)\n",
        "y_ticks"
      ],
      "metadata": {
        "id": "XWqL6nNh1TX1",
        "colab": {
          "base_uri": "https://localhost:8080/"
        },
        "outputId": "355f59d8-2dc8-4af4-c51a-cf4b8b0b44cc"
      },
      "execution_count": 55,
      "outputs": [
        {
          "output_type": "execute_result",
          "data": {
            "text/plain": [
              "array([ 0.,  2.,  4.,  6.,  8., 10.])"
            ]
          },
          "metadata": {},
          "execution_count": 55
        }
      ]
    },
    {
      "cell_type": "code",
      "source": [
        "# define columns for data and then grouping\n",
        "col_to_group=sorting_labels\n",
        "col_for_data=value\n",
        "data = dataVariant\n",
        "\n",
        "#Now take teh data and regroup for anova\n",
        "samples = [cols[1] for cols in data.groupby(col_to_group)[col_for_data]]\n",
        "#I am not sure how this works but it makes an numpy array for each group\n",
        "f_val, p_val = stats.f_oneway(*samples)\n",
        "# I am not sure what this star does but this passes all the numpy arrays correctly\n",
        "\n",
        "# this if statement can be uncommmented if you don't won't to go furhter with out p<0.05\n",
        "#if p_val<0.05:    #If the p value is less than 0.05 it then does the tukey\n",
        "mod = mc.MultiComparison(data[col_for_data].astype('float'), data[col_to_group])\n",
        "thsd=mod.tukeyhsd()\n",
        "\n",
        "#this is a function to do Piepho method.\n",
        "#AN Alogrithm for a letter based representation of al-pairwise comparisons.\n",
        "tot=len(thsd.groupsunique)\n",
        "print(thsd.groupsunique)\n",
        "#make an empty dataframe that is a square matrix of size of the groups. #set first column to 1\n",
        "df_ltr=pd.DataFrame(np.nan, index=np.arange(tot),columns=np.arange(tot))\n",
        "#df_ltr.iloc[:,0]=1\n",
        "df_ltr[df_ltr.columns[0]] = 1\n",
        "#df[df.columns[i]] = newvals` or, if columns are non-unique, `df.isetitem(i, newvals)\n",
        "\n",
        "count=0\n",
        "df_nms = pd.DataFrame('', index=np.arange(tot), columns=['names'])\n",
        "\n",
        "# I make a dummy dataframe to put axis labels into.  sd stands for signifcant difference\n",
        "\n",
        "for i in np.arange(tot):   #I loop through and make all pairwise comparisons.\n",
        "    for j in np.arange(i+1,tot):\n",
        "        #print('i=',i,'j=',j,thsd.reject[count])\n",
        "        if thsd.reject[count]==True:\n",
        "            for cn in np.arange(tot):\n",
        "                if df_ltr.iloc[i,cn]==1 and df_ltr.iloc[j,cn]==1:\n",
        "                  #If the column contains both i and j shift and duplicat\n",
        "                    df_ltr=pd.concat([df_ltr.iloc[:,:cn+1],df_ltr.iloc[:,cn+1:].T.shift().T],axis=1)\n",
        "                    df_ltr[df_ltr.columns[cn+1]]=df_ltr[df_ltr.columns[cn]]\n",
        "                    df_ltr.iloc[i,cn]=0\n",
        "                    df_ltr.iloc[j,cn+1]=0\n",
        "                #Now we need to check all columns for abosortpion.\n",
        "                for cleft in np.arange(len(df_ltr.columns)-1):\n",
        "                    for cright in np.arange(cleft+1,len(df_ltr.columns)):\n",
        "                        if (df_ltr[df_ltr.columns[cleft]].isna()).all()==False and (df_ltr[df_ltr.columns[cright]].isna()).all()==False:\n",
        "                            if (df_ltr[df_ltr.columns[cleft]]>=df_ltr[df_ltr.columns[cright]]).all()==True:\n",
        "                                df_ltr[df_ltr.columns[cright]]=0\n",
        "                                df_ltr=pd.concat([df_ltr[df_ltr.columns[:cright]],df_ltr[df_ltr.columns[cright:]].T.shift(-1).T],axis=1)\n",
        "                            if (df_ltr[df_ltr.columns[cleft]]<=df_ltr[df_ltr.columns[cright]]).all()==True:\n",
        "                                df_ltr[df_ltr.columns[cleft]]=0\n",
        "                                df_ltr=pd.concat([df_ltr[df_ltr.columns[:cleft]],df_ltr[df_ltr.columns[cleft:]].T.shift(-1).T],axis=1)\n",
        "\n",
        "        count+=1\n",
        "\n",
        "#I sort so that the first column becomes A\n",
        "df_ltr=df_ltr.sort_values(by=list(df_ltr.columns),axis=1,ascending=False)\n",
        "\n",
        "# I assign letters to each column\n",
        "for cn in np.arange(len(df_ltr.columns)):\n",
        "    df_ltr[df_ltr.columns[cn]]=df_ltr[df_ltr.columns[cn]].replace(1,chr(97+cn))\n",
        "    df_ltr[df_ltr.columns[cn]]=df_ltr[df_ltr.columns[cn]].replace(0,'')\n",
        "    df_ltr[df_ltr.columns[cn]]=df_ltr[df_ltr.columns[cn]].replace(np.nan,'')\n",
        "    #print(df_ltr.columns[cn])\n",
        "\n",
        "#I put all the letters into one string\n",
        "df_ltr=df_ltr.astype(str)\n",
        "df_ltr.sum(axis=1)\n"
      ],
      "metadata": {
        "id": "q1iiUvP25_C7",
        "colab": {
          "base_uri": "https://localhost:8080/",
          "height": 559
        },
        "outputId": "8a65eec5-31ee-49d4-dc25-cf0171579e49"
      },
      "execution_count": 56,
      "outputs": [
        {
          "output_type": "stream",
          "name": "stdout",
          "text": [
            "['Ac' 'Ac N' 'Ad' 'Ad N' 'Bi' 'Bi N' 'Fa' 'Fa N' 'Fp' 'Fp N' 'Fr' 'Fr N'\n",
            " 'Lp' 'Lp N']\n"
          ]
        },
        {
          "output_type": "execute_result",
          "data": {
            "text/plain": [
              "0         a\n",
              "1      bcde\n",
              "2       abc\n",
              "3      defg\n",
              "4     abcde\n",
              "5      bdef\n",
              "6        ac\n",
              "7       dfg\n",
              "8       abc\n",
              "9      defg\n",
              "10       fg\n",
              "11     bcde\n",
              "12     abce\n",
              "13        g\n",
              "dtype: object"
            ],
            "text/html": [
              "<div>\n",
              "<style scoped>\n",
              "    .dataframe tbody tr th:only-of-type {\n",
              "        vertical-align: middle;\n",
              "    }\n",
              "\n",
              "    .dataframe tbody tr th {\n",
              "        vertical-align: top;\n",
              "    }\n",
              "\n",
              "    .dataframe thead th {\n",
              "        text-align: right;\n",
              "    }\n",
              "</style>\n",
              "<table border=\"1\" class=\"dataframe\">\n",
              "  <thead>\n",
              "    <tr style=\"text-align: right;\">\n",
              "      <th></th>\n",
              "      <th>0</th>\n",
              "    </tr>\n",
              "  </thead>\n",
              "  <tbody>\n",
              "    <tr>\n",
              "      <th>0</th>\n",
              "      <td>a</td>\n",
              "    </tr>\n",
              "    <tr>\n",
              "      <th>1</th>\n",
              "      <td>bcde</td>\n",
              "    </tr>\n",
              "    <tr>\n",
              "      <th>2</th>\n",
              "      <td>abc</td>\n",
              "    </tr>\n",
              "    <tr>\n",
              "      <th>3</th>\n",
              "      <td>defg</td>\n",
              "    </tr>\n",
              "    <tr>\n",
              "      <th>4</th>\n",
              "      <td>abcde</td>\n",
              "    </tr>\n",
              "    <tr>\n",
              "      <th>5</th>\n",
              "      <td>bdef</td>\n",
              "    </tr>\n",
              "    <tr>\n",
              "      <th>6</th>\n",
              "      <td>ac</td>\n",
              "    </tr>\n",
              "    <tr>\n",
              "      <th>7</th>\n",
              "      <td>dfg</td>\n",
              "    </tr>\n",
              "    <tr>\n",
              "      <th>8</th>\n",
              "      <td>abc</td>\n",
              "    </tr>\n",
              "    <tr>\n",
              "      <th>9</th>\n",
              "      <td>defg</td>\n",
              "    </tr>\n",
              "    <tr>\n",
              "      <th>10</th>\n",
              "      <td>fg</td>\n",
              "    </tr>\n",
              "    <tr>\n",
              "      <th>11</th>\n",
              "      <td>bcde</td>\n",
              "    </tr>\n",
              "    <tr>\n",
              "      <th>12</th>\n",
              "      <td>abce</td>\n",
              "    </tr>\n",
              "    <tr>\n",
              "      <th>13</th>\n",
              "      <td>g</td>\n",
              "    </tr>\n",
              "  </tbody>\n",
              "</table>\n",
              "</div><br><label><b>dtype:</b> object</label>"
            ]
          },
          "metadata": {},
          "execution_count": 56
        }
      ]
    },
    {
      "cell_type": "code",
      "source": [
        "group_order\n",
        "print (thsd.groupsunique.tolist())"
      ],
      "metadata": {
        "colab": {
          "base_uri": "https://localhost:8080/"
        },
        "id": "mwoO_kCqm6Bz",
        "outputId": "3cbb43fa-d551-4cc6-e905-04fff2003be5"
      },
      "execution_count": 57,
      "outputs": [
        {
          "output_type": "stream",
          "name": "stdout",
          "text": [
            "['Ac', 'Ac N', 'Ad', 'Ad N', 'Bi', 'Bi N', 'Fa', 'Fa N', 'Fp', 'Fp N', 'Fr', 'Fr N', 'Lp', 'Lp N']\n"
          ]
        }
      ]
    },
    {
      "cell_type": "code",
      "source": [
        "new_df_ltr = np.array(df_ltr.sum(axis=1))\n",
        "new_ltr = []\n",
        "\n",
        "# ORDERING OF THE LETTERS!!!\n",
        "for i in range(len(group_order)):\n",
        "  ltr = [group_order[i], thsd.groupsunique.tolist().index(group_order[i]),\n",
        "  new_df_ltr[thsd.groupsunique.tolist().index(group_order[i])]]\n",
        "  print(ltr)\n",
        "  new_ltr.append(ltr[2])\n",
        "\n",
        "print(np.array(df_ltr.sum(axis=1)), new_ltr)"
      ],
      "metadata": {
        "id": "hzeRp2PX46Rw",
        "colab": {
          "base_uri": "https://localhost:8080/"
        },
        "outputId": "0628db8d-628f-400a-ba91-0c05bd557ea6"
      },
      "execution_count": 58,
      "outputs": [
        {
          "output_type": "stream",
          "name": "stdout",
          "text": [
            "['Lp', 12, 'abce']\n",
            "['Lp N', 13, 'g']\n",
            "['Ac', 0, 'a']\n",
            "['Ac N', 1, 'bcde']\n",
            "['Ad', 2, 'abc']\n",
            "['Ad N', 3, 'defg']\n",
            "['Fa', 6, 'ac']\n",
            "['Fa N', 7, 'dfg']\n",
            "['Fp', 8, 'abc']\n",
            "['Fp N', 9, 'defg']\n",
            "['Fr', 10, 'fg']\n",
            "['Fr N', 11, 'bcde']\n",
            "['Bi', 4, 'abcde']\n",
            "['Bi N', 5, 'bdef']\n",
            "['a' 'bcde' 'abc' 'defg' 'abcde' 'bdef' 'ac' 'dfg' 'abc' 'defg' 'fg'\n",
            " 'bcde' 'abce' 'g'] ['abce', 'g', 'a', 'bcde', 'abc', 'defg', 'ac', 'dfg', 'abc', 'defg', 'fg', 'bcde', 'abcde', 'bdef']\n"
          ]
        }
      ]
    },
    {
      "cell_type": "code",
      "source": [
        "stat_result = data.groupby(['Variant'], as_index=False, sort=False).agg({value:['mean','std']})\n",
        "\n",
        "print (stat_result['Value']['mean'])\n",
        "menMeans = stat_result['Value']['mean']\n",
        "menStd = stat_result['Value']['std']\n",
        "'''\n",
        "ind = np.arange(1.5, 11.6, 1)\n",
        "label_diff(6, 7, np.round(result.pvalues[39], 4), ind, menMeans)\n",
        "label_diff(8, 9, np.round(result.pvalues[0], 4), ind, menMeans)\n",
        "'''\n",
        "\n",
        "width= 0.7"
      ],
      "metadata": {
        "colab": {
          "base_uri": "https://localhost:8080/"
        },
        "id": "YKkt06gM6aZF",
        "outputId": "28e4b0a9-5bb1-45fe-a8a5-cedf71d9aa7e"
      },
      "execution_count": 69,
      "outputs": [
        {
          "output_type": "stream",
          "name": "stdout",
          "text": [
            "0     3.775575\n",
            "1     8.503211\n",
            "2     1.474761\n",
            "3     4.428950\n",
            "4     2.226142\n",
            "5     6.393743\n",
            "6     2.025463\n",
            "7     6.463747\n",
            "8     2.576165\n",
            "9     6.029719\n",
            "10    7.387806\n",
            "11    4.662298\n",
            "12    3.887582\n",
            "13    4.890980\n",
            "Name: mean, dtype: float64\n"
          ]
        }
      ]
    },
    {
      "cell_type": "code",
      "source": [
        "def draw_letters(y, follow_bars=False, bplt=0, fsize=10, rotation=0):\n",
        "\n",
        "  for i, grp in enumerate(pd.unique(data[variant].values)):   #I loop through the groups to make the scatters and figure out the axis labels.\n",
        "      if follow_bars:\n",
        "        y_pos = data[data[variant] == grp][value].max() + y * -0.05\n",
        "      else:\n",
        "        y_pos = y * 0.98 #y_pos = ax.get_ylim()[1]*1\n",
        "      ax.text(i+bplt, y_pos, new_ltr[i],\n",
        "              rotation=rotation, fontsize=fsize, verticalalignment='top', horizontalalignment='center')"
      ],
      "metadata": {
        "id": "ChOnKZpljoXG"
      },
      "execution_count": 70,
      "outputs": []
    },
    {
      "source": [
        "def label_diff(i, j, text, X, Y, bplt=0, y_text=0.1, ytcoef=0.3, left_right=True, rnd=4):\n",
        "    text = np.round(text, rnd)\n",
        "    lr = i if left_right else j\n",
        "\n",
        "    # Calculate y-coordinate based on maximum value of the groups including error bars\n",
        "    y = 1.05 * max(Y[i] + menStd[i], Y[j] + menStd[j]) # data[i].max() ???\n",
        "\n",
        "    stars = ' ***' if text < 0.001 else ' **' if text < 0.01 else ' *' if text < 0.05 else ' ns'\n",
        "\n",
        "    # Annotate above the line with adjusted vertical offset\n",
        "    ax.annotate(stars + ' \\np = ' + str(text) + '',\n",
        "                    xy = (X[lr] + bplt - 1, y + 0.2), zorder=10, va='bottom')\n",
        "\n",
        "    # Use plt.plot to draw the line\n",
        "    plt.plot([X[i], X[i], X[i+1], X[i+1]], [y, y + 0.1, y + 0.1, y], linewidth=1, color='k')"
      ],
      "cell_type": "code",
      "metadata": {
        "id": "PcPoQfsFGOxw"
      },
      "execution_count": 71,
      "outputs": []
    },
    {
      "cell_type": "code",
      "source": [
        "import textwrap\n",
        "def wrap_labels(ax, width, break_long_words=False):\n",
        "    labels = []\n",
        "    for label in ax.get_xticklabels():\n",
        "        text = label.get_text()\n",
        "        labels.append(textwrap.fill(text, width=width,\n",
        "                      break_long_words=break_long_words))\n",
        "    ax.set_xticklabels(labels, rotation=0)"
      ],
      "metadata": {
        "id": "JI7zagrBaVCl"
      },
      "execution_count": 63,
      "outputs": []
    },
    {
      "cell_type": "code",
      "source": [
        "# Pull the formatting out here\n",
        "bar_kwargs = {'width':width,'color':['blue', 'red'],'linewidth':1,'zorder':5,'edgecolor':'black'}\n",
        "err_kwargs = {'linewidth':1,'ecolor':'black','capsize':5, 'capthick':1}\n",
        "#'zorder':0, - only up err bars\n",
        "#for matplotlib >= v1.4 use 'fmt':'none' instead\n",
        "\n",
        "fig, ax = plt.subplots()\n",
        "ind = [ 0,  0.7,  2,  2.7,  4,  4.7,  6,  6.7,  8,  8.7, 10, 10.7, 12, 12.7]\n",
        "#ind = np.arange(0, 13, 2)\n",
        "\n",
        "ax.p1 = plt.bar(ind, menMeans, yerr=menStd, error_kw=err_kwargs, **bar_kwargs)\n",
        "\n",
        "if True: #labels or letters\n",
        "  label_diff(10,11,np.round(result.pvalues[85], 4),ind,menMeans)\n",
        "  label_diff(12,13,np.round(result.pvalues[46], 4),ind,menMeans)\n",
        "elif False:\n",
        "  draw_letters(y_height, rotation=90)\n",
        "\n",
        "from matplotlib.ticker import (MultipleLocator, AutoMinorLocator)\n",
        "minor_locator = AutoMinorLocator(2)\n",
        "ax.xaxis.set_minor_locator(minor_locator)\n",
        "# Hide X and Y axes label marks\n",
        "ax.xaxis.set_tick_params(labelbottom=False)\n",
        "\n",
        "# Hide X and Y axes tick marks\n",
        "ax.set_xticks([])\n",
        "\n",
        "# label the classes:\n",
        "sec = ax.secondary_xaxis(location=0)\n",
        "labels_secondary = pd.unique(data[~data[variant].str.endswith('N')]['Variant']).astype(str)\n",
        "\n",
        "sec.set_xticks(list(map(lambda x:x+0.4, ind[::2])),\n",
        "               labels=labels_secondary, fontsize=10, weight=\"bold\", rotation=0)\n",
        "sec.tick_params('x', length=0)\n",
        "\n",
        "ax.set(title=title_main, ylabel=y_label, xlabel=x_label)\n",
        "#plt.xticks(range(len(group_order)), group_order, color='k')\n",
        "\n",
        "#ax.set_xticklabels(group_order, fontsize=12\n",
        "#                   , style='normal', weight='bold', rotation=90)\n",
        "plt.ylim(ymax=y_height)\n",
        "ax.set_yticks(y_ticks)\n",
        "ax.set_ylabel(y_label, fontsize=16)\n",
        "ax.set_yticklabels(y_ticks.astype(int), fontsize=16)\n",
        "# format y ticks to 2 digits after decimal\n",
        "#from matplotlib.ticker import FormatStrFormatter\n",
        "#ax.yaxis.set_major_formatter(FormatStrFormatter('%.2f'))\n",
        "ax.set_title(title_main, fontsize=24)\n",
        "\n",
        "children = [ax.p1.get_children()[0], ax.p1.get_children()[7]]\n",
        "\n",
        "#dataVariant = data #data[~data[variant].str.endswith('N')]\n",
        "ax.legend(handles=children, labels=['8:30 h (24$^o$C)', '12:30 h (34$^o$C)'],\n",
        "          loc='upper left', ncols=2, fontsize=10)\n",
        "\n",
        "# minor ticks\n",
        "from matplotlib.ticker import (MultipleLocator, AutoMinorLocator)\n",
        "ax.yaxis.set_minor_locator(MultipleLocator(1))\n",
        "ax.tick_params(which=\"major\", direction=\"inout\")\n",
        "ax.tick_params(which=\"minor\", direction=\"in\")\n",
        "\n",
        "#wrap_labels(ax, 11)\n",
        "fig.suptitle('')\n",
        "plt.show()\n",
        "fig.savefig('anovatest.jpg',dpi=600,bbox_inches='tight')"
      ],
      "metadata": {
        "id": "Ejt3pb0XDM36",
        "colab": {
          "base_uri": "https://localhost:8080/",
          "height": 425
        },
        "outputId": "cae28bad-243d-40bb-c163-52269c69ef1a"
      },
      "execution_count": 72,
      "outputs": [
        {
          "output_type": "display_data",
          "data": {
            "text/plain": [
              "<Figure size 640x480 with 1 Axes>"
            ],
            "image/png": "[encoded data removed]"
          },
          "metadata": {}
        }
      ]
    }
  ]
}