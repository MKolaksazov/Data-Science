{
  "nbformat": 4,
  "nbformat_minor": 0,
  "metadata": {
    "colab": {
      "provenance": [],
      "authorship_tag": "ABX9TyO6QzkuXS3U3453BQSYpq06",
      "include_colab_link": true
    },
    "kernelspec": {
      "name": "python3",
      "display_name": "Python 3"
    },
    "language_info": {
      "name": "python"
    }
  },
  "cells": [
    {
      "cell_type": "markdown",
      "metadata": {
        "id": "view-in-github",
        "colab_type": "text"
      },
      "source": [
        "<a href=\"https://colab.research.google.com/github/MKolaksazov/Data-Science/blob/main/Colab%20code%20(graphs)/Gouped_bars_grasses_1002.ipynb\" target=\"_parent\"><img src=\"https://colab.research.google.com/assets/colab-badge.svg\" alt=\"Open In Colab\"/></a>"
      ]
    },
    {
      "cell_type": "code",
      "source": [
        "# PARAMETERS\n",
        "csv_file = '/content/gr_bca_240813_all.csv' #\"/content/lupin_PM_0602_ew.csv\" #/content/lupina-params-1.csv\n"
      ],
      "metadata": {
        "id": "6naqjRVPB6_m"
      },
      "execution_count": 31,
      "outputs": []
    },
    {
      "cell_type": "code",
      "source": [
        "import pandas as pd\n",
        "import numpy as np\n",
        "\n",
        "df = pd.read_csv(csv_file, delimiter='\\t', decimal=',') # delimiter '\\t' or ';'\n",
        "\n",
        "# Convert 'rep1' and 'rep2' columns to numeric, handling errors\n",
        "df['rep1'] = pd.to_numeric(df['rep1'], errors='coerce')\n",
        "df['rep2'] = pd.to_numeric(df['rep2'], errors='coerce')\n",
        "\n",
        "# Check for missing values in 'rep1' and 'rep2'\n",
        "print(df.isnull().sum())"
      ],
      "metadata": {
        "id": "LBlsO6VoCHXd",
        "colab": {
          "base_uri": "https://localhost:8080/"
        },
        "outputId": "00f4bee4-dce2-4ba0-d529-1f9e5aac573d"
      },
      "execution_count": 32,
      "outputs": [
        {
          "output_type": "stream",
          "name": "stdout",
          "text": [
            "species    0\n",
            "month      0\n",
            "method     0\n",
            "rep1       0\n",
            "rep2       0\n",
            "dtype: int64\n"
          ]
        }
      ]
    },
    {
      "cell_type": "code",
      "source": [
        "df_long = pd.melt(df, id_vars=['species', 'month', 'method'], value_vars=['rep1', 'rep2'], var_name='replicate', value_name='value')"
      ],
      "metadata": {
        "id": "ut0JNVpcBGX4"
      },
      "execution_count": 33,
      "outputs": []
    },
    {
      "cell_type": "code",
      "source": [
        "value = 'value'\n",
        "variant = 'species'\n",
        "condition = (df_long['method'] == 'PM') & (df_long['month'] == 'morning')\n",
        "\n",
        "import statsmodels.stats.multicomp as mc\n",
        "\n",
        "def multi_comparison(dataVariant):\n",
        "  list_unique = dataVariant[variant].unique().tolist()\n",
        "\n",
        "  model = mc.MultiComparison(dataVariant[value].astype('float'), dataVariant[variant])\n",
        "  result = model.tukeyhsd()\n",
        "  return result, list_unique"
      ],
      "metadata": {
        "id": "u-bunv268XiR"
      },
      "execution_count": 34,
      "outputs": []
    },
    {
      "cell_type": "code",
      "source": [
        "print(df_long.dtypes)"
      ],
      "metadata": {
        "colab": {
          "base_uri": "https://localhost:8080/"
        },
        "id": "mNtYU3tUPsqS",
        "outputId": "67f5cc0c-2778-4c6d-919e-e5c536988527"
      },
      "execution_count": 35,
      "outputs": [
        {
          "output_type": "stream",
          "name": "stdout",
          "text": [
            "species       object\n",
            "month         object\n",
            "method        object\n",
            "replicate     object\n",
            "value        float64\n",
            "dtype: object\n"
          ]
        }
      ]
    },
    {
      "cell_type": "code",
      "source": [
        "result, list_unique = multi_comparison(df_long[condition])"
      ],
      "metadata": {
        "id": "_4ihNXujCHIk"
      },
      "execution_count": 36,
      "outputs": []
    },
    {
      "cell_type": "code",
      "source": [
        "def letter_ordering(df_ltr, thsd, list_u):\n",
        "  new_df_ltr = np.array(df_ltr.sum(axis=1))\n",
        "  new_ltr = []\n",
        "\n",
        "  # ORDERING OF THE LETTERS!!!\n",
        "  for i in range(len(list_u)):\n",
        "    ltr = [list_u[i], thsd.groupsunique.tolist().index(list_u[i]),\n",
        "    new_df_ltr[thsd.groupsunique.tolist().index(list_u[i])]]\n",
        "    new_ltr.append(ltr[2])\n",
        "    print(ltr)\n",
        "  #print(np.array(df_ltr.sum(axis=1)), new_ltr)\n",
        "  return new_ltr"
      ],
      "metadata": {
        "id": "cuPFD6kFGz8-"
      },
      "execution_count": 37,
      "outputs": []
    },
    {
      "cell_type": "code",
      "source": [
        "import scipy.stats as stats\n",
        "\n",
        "def letters_calculate(col_to_group, col_for_data, data, list_u):\n",
        "  #Now take teh data and regroup for anova\n",
        "  samples = [cols[1] for cols in data.groupby(col_to_group)[col_for_data]]\n",
        "  #samples = np.asarray(samples).astype('float')\n",
        "  #print (np.asarray(samples).astype('float'))\n",
        "  #I am not sure how this works but it makes an numpy array for each group\n",
        "  print(samples)\n",
        "  f_val, p_val = stats.f_oneway(*samples)\n",
        "  # I am not sure what this star does but this passes all the numpy arrays correctly\n",
        "\n",
        "  # this if statement can be uncommmented if you don't won't to go furhter with out p<0.05\n",
        "  #if p_val<0.05:    #If the p value is less than 0.05 it then does the tukey\n",
        "  mod = mc.MultiComparison(data[col_for_data].astype('float'), data[col_to_group])\n",
        "  thsd=mod.tukeyhsd()\n",
        "\n",
        "  #this is a function to do Piepho method.\n",
        "  #AN Alogrithm for a letter based representation of al-pairwise comparisons.\n",
        "  tot=len(thsd.groupsunique)\n",
        "  #make an empty dataframe that is a square matrix of size of the groups. #set first column to 1\n",
        "  df_ltr=pd.DataFrame(np.nan, index=np.arange(tot),columns=np.arange(tot))\n",
        "  #df_ltr.iloc[:,0]=1\n",
        "  df_ltr[df_ltr.columns[0]] = 1\n",
        "  #df[df.columns[i]] = newvals` or, if columns are non-unique, `df.isetitem(i, newvals)\n",
        "\n",
        "  count=0\n",
        "  df_nms = pd.DataFrame('', index=np.arange(tot), columns=['names'])\n",
        "  # I make a dummy dataframe to put axis labels into.  sd stands for signifcant difference\n",
        "  for i in np.arange(tot):   #I loop through and make all pairwise comparisons.\n",
        "      for j in np.arange(i+1,tot):\n",
        "          #print('i=',i,'j=',j,thsd.reject[count])\n",
        "          if thsd.reject[count]==True:\n",
        "              for cn in np.arange(tot):\n",
        "                  if df_ltr.iloc[i,cn]==1 and df_ltr.iloc[j,cn]==1:\n",
        "                    #If the column contains both i and j shift and duplicat\n",
        "                      df_ltr=pd.concat([df_ltr.iloc[:,:cn+1],df_ltr.iloc[:,cn+1:].T.shift().T],axis=1)\n",
        "                      df_ltr[df_ltr.columns[cn+1]]=df_ltr[df_ltr.columns[cn]]\n",
        "                      df_ltr.iloc[i,cn]=0\n",
        "                      df_ltr.iloc[j,cn+1]=0\n",
        "                  #Now we need to check all columns for abosortpion.\n",
        "                  for cleft in np.arange(len(df_ltr.columns)-1):\n",
        "                      for cright in np.arange(cleft+1,len(df_ltr.columns)):\n",
        "                          if (df_ltr[df_ltr.columns[cleft]].isna()).all()==False and (df_ltr[df_ltr.columns[cright]].isna()).all()==False:\n",
        "                              if (df_ltr[df_ltr.columns[cleft]]>=df_ltr[df_ltr.columns[cright]]).all()==True:\n",
        "                                  df_ltr[df_ltr.columns[cright]]=0\n",
        "                                  df_ltr=pd.concat([df_ltr[df_ltr.columns[:cright]],df_ltr[df_ltr.columns[cright:]].T.shift(-1).T],axis=1)\n",
        "                              if (df_ltr[df_ltr.columns[cleft]]<=df_ltr[df_ltr.columns[cright]]).all()==True:\n",
        "                                  df_ltr[df_ltr.columns[cleft]]=0\n",
        "                                  df_ltr=pd.concat([df_ltr[df_ltr.columns[:cleft]],df_ltr[df_ltr.columns[cleft:]].T.shift(-1).T],axis=1)\n",
        "\n",
        "          count+=1\n",
        "\n",
        "  #I sort so that the first column becomes A\n",
        "  df_ltr=df_ltr.sort_values(by=list(df_ltr.columns),axis=1,ascending=False)\n",
        "\n",
        "  # I assign letters to each column\n",
        "  for cn in np.arange(len(df_ltr.columns)):\n",
        "      df_ltr[df_ltr.columns[cn]]=df_ltr[df_ltr.columns[cn]].replace(1,chr(97+cn))\n",
        "      df_ltr[df_ltr.columns[cn]]=df_ltr[df_ltr.columns[cn]].replace(0,'')\n",
        "      df_ltr[df_ltr.columns[cn]]=df_ltr[df_ltr.columns[cn]].replace(np.nan,'')\n",
        "      #print(df_ltr.columns[cn])\n",
        "\n",
        "  #I put all the letters into one string\n",
        "  df_ltr=df_ltr.astype(str)\n",
        "  df_ltr.sum(axis=1)\n",
        "\n",
        "  letter_order = letter_ordering(df_ltr, thsd, list_u)\n",
        "  #print (letter_order, list_u)\n",
        "  return letter_order, df_ltr"
      ],
      "metadata": {
        "id": "KoRi8wNBG0xu"
      },
      "execution_count": 38,
      "outputs": []
    },
    {
      "cell_type": "code",
      "source": [
        "months = pd.unique(df['month'].values).tolist()\n",
        "methods = pd.unique(df['method'].values).tolist()\n",
        "combinations = np.array(np.meshgrid(months, methods)).T.reshape(-1, 2)"
      ],
      "metadata": {
        "id": "zAI6-SqwVxdY"
      },
      "execution_count": 39,
      "outputs": []
    },
    {
      "cell_type": "code",
      "source": [
        "stat_result = df_long.groupby(['species','method','month'], as_index=False, sort=False).agg({value:['mean','std']})\n",
        "menMeans = stat_result['value']['mean']\n",
        "menStd = stat_result['value']['std']"
      ],
      "metadata": {
        "id": "1LJuNXUHKhyZ"
      },
      "execution_count": 40,
      "outputs": []
    },
    {
      "cell_type": "markdown",
      "source": [
        "```\n",
        "new_ltr = {}\n",
        "\n",
        "combined_col = df_long.copy()\n",
        "combined_col['combined'] = df_long['month'] + df_long['method']\n",
        "list_unique = combined_col['combined'].unique().tolist()\n",
        "\n",
        "for species in df_long['species'].unique():\n",
        "  condition = (combined_col['species'] == species)\n",
        "  new_ltr[species], _ = letters_calculate('combined', value, combined_col[condition], list_unique)\n",
        "#print (new_ltr)\n",
        "```"
      ],
      "metadata": {
        "id": "Zrbo9Rpann7o"
      }
    },
    {
      "source": [
        "# Създаване на combined колона\n",
        "df_long['combined'] = df_long['month'] + df_long['method']\n",
        "\n",
        "# Получаване на списък с уникални стойности в combined колоната\n",
        "unique_combined_values = df_long['combined'].unique().tolist()\n",
        "\n",
        "# Функция за изчисляване на букви за всяка група\n",
        "def calculate_letters_for_group(group):\n",
        "  return letters_calculate('combined', value, group, unique_combined_values)\n",
        "\n",
        "# Изчисляване на букви за всяка species група\n",
        "# Този подход използва groupby за групиране по species\n",
        "# и след това прилага функцията calculate_letters към всяка група.\n",
        "# Резултатите се запазват в речник letters_by_species.\n",
        "\n",
        "letters_by_species = df_long.groupby('species').apply(calculate_letters_for_group).to_dict()"
      ],
      "cell_type": "code",
      "metadata": {
        "colab": {
          "base_uri": "https://localhost:8080/"
        },
        "id": "Ti3HskJtUqGm",
        "outputId": "1c7a726c-3e3a-4498-a1d6-fd099eceee83"
      },
      "execution_count": 41,
      "outputs": [
        {
          "output_type": "stream",
          "name": "stdout",
          "text": [
            "[15    2.416248\n",
            "57    2.411843\n",
            "Name: value, dtype: float64, 29    1.977688\n",
            "71    2.112914\n",
            "Name: value, dtype: float64, 1     2.988716\n",
            "43    2.966974\n",
            "Name: value, dtype: float64, 22    2.676155\n",
            "64    2.671750\n",
            "Name: value, dtype: float64, 36    1.817106\n",
            "78    2.991886\n",
            "Name: value, dtype: float64, 8     3.630095\n",
            "50    3.765980\n",
            "Name: value, dtype: float64]\n",
            "['morningPM', 2, 'ab']\n",
            "['noonPM', 5, 'b']\n",
            "['morningFRAP', 0, 'ab']\n",
            "['noonFRAP', 3, 'ab']\n",
            "['morningFolin', 1, 'a']\n",
            "['noonFolin', 4, 'ab']\n",
            "[16    2.319334\n",
            "58    2.425059\n",
            "Name: value, dtype: float64, 30    1.580460\n",
            "72    2.079108\n",
            "Name: value, dtype: float64, 2     2.852831\n",
            "44    2.765864\n",
            "Name: value, dtype: float64, 23    3.766440\n",
            "65    3.678336\n",
            "Name: value, dtype: float64, 37    2.662272\n",
            "79    2.696078\n",
            "Name: value, dtype: float64, 9     4.249732\n",
            "51    4.353005\n",
            "Name: value, dtype: float64]\n",
            "['morningPM', 2, 'b']\n",
            "['noonPM', 5, 'c']\n",
            "['morningFRAP', 0, 'ab']\n",
            "['noonFRAP', 3, 'c']\n",
            "['morningFolin', 1, 'a']\n",
            "['noonFolin', 4, 'b']\n",
            "[20     6.858886\n",
            "62    11.186988\n",
            "Name: value, dtype: float64, 34    5.265382\n",
            "76    9.558824\n",
            "Name: value, dtype: float64, 6     5.537925\n",
            "48    7.587075\n",
            "Name: value, dtype: float64, 27    7.638605\n",
            "69    7.764153\n",
            "Name: value, dtype: float64, 41    6.338742\n",
            "83    5.814740\n",
            "Name: value, dtype: float64, 13    5.967322\n",
            "55    5.766212\n",
            "Name: value, dtype: float64]\n",
            "['morningPM', 2, 'a']\n",
            "['noonPM', 5, 'a']\n",
            "['morningFRAP', 0, 'a']\n",
            "['noonFRAP', 3, 'a']\n",
            "['morningFolin', 1, 'a']\n",
            "['noonFolin', 4, 'a']\n",
            "[17    2.704789\n",
            "59    2.709194\n",
            "Name: value, dtype: float64, 31    1.884719\n",
            "73    1.926978\n",
            "Name: value, dtype: float64, 3     3.543128\n",
            "45    3.390937\n",
            "Name: value, dtype: float64, 24    2.843552\n",
            "66    2.867781\n",
            "Name: value, dtype: float64, 38    1.969236\n",
            "80    2.112914\n",
            "Name: value, dtype: float64, 10    3.967090\n",
            "52    4.298651\n",
            "Name: value, dtype: float64]\n",
            "['morningPM', 2, 'c']\n",
            "['noonPM', 5, 'd']\n",
            "['morningFRAP', 0, 'a']\n",
            "['noonFRAP', 3, 'a']\n",
            "['morningFolin', 1, 'b']\n",
            "['noonFolin', 4, 'b']\n",
            "[18    2.436072\n",
            "60    2.469111\n",
            "Name: value, dtype: float64, 32    1.597363\n",
            "74    1.741041\n",
            "Name: value, dtype: float64, 4     3.515951\n",
            "46    3.407243\n",
            "Name: value, dtype: float64, 25    2.160747\n",
            "67    2.173963\n",
            "Name: value, dtype: float64, 39    1.614266\n",
            "81    1.639621\n",
            "Name: value, dtype: float64, 11    4.081234\n",
            "53    3.923607\n",
            "Name: value, dtype: float64]\n",
            "['morningPM', 2, 'c']\n",
            "['noonPM', 5, 'e']\n",
            "['morningFRAP', 0, 'a']\n",
            "['noonFRAP', 3, 'd']\n",
            "['morningFolin', 1, 'b']\n",
            "['noonFolin', 4, 'b']\n",
            "[19    4.127666\n",
            "61    4.376559\n",
            "Name: value, dtype: float64, 33    3.101758\n",
            "75    3.279243\n",
            "Name: value, dtype: float64, 5     5.233542\n",
            "47    4.516067\n",
            "Name: value, dtype: float64, 26    3.455874\n",
            "68    2.834742\n",
            "Name: value, dtype: float64, 40    2.400270\n",
            "82    2.019946\n",
            "Name: value, dtype: float64, 12    4.597598\n",
            "54    3.755109\n",
            "Name: value, dtype: float64]\n",
            "['morningPM', 2, 'b']\n",
            "['noonPM', 5, 'ab']\n",
            "['morningFRAP', 0, 'ab']\n",
            "['noonFRAP', 3, 'ac']\n",
            "['morningFolin', 1, 'ac']\n",
            "['noonFolin', 4, 'c']\n",
            "[14    1.951501\n",
            "56    1.973527\n",
            "Name: value, dtype: float64, 28    2.129817\n",
            "70    1.673428\n",
            "Name: value, dtype: float64, 0     4.064928\n",
            "42    4.200813\n",
            "Name: value, dtype: float64, 21    1.625516\n",
            "63    1.614503\n",
            "Name: value, dtype: float64, 35    1.386072\n",
            "77    1.707235\n",
            "Name: value, dtype: float64, 7     3.793157\n",
            "49    4.227990\n",
            "Name: value, dtype: float64]\n",
            "['morningPM', 2, 'b']\n",
            "['noonPM', 5, 'b']\n",
            "['morningFRAP', 0, 'a']\n",
            "['noonFRAP', 3, 'a']\n",
            "['morningFolin', 1, 'a']\n",
            "['noonFolin', 4, 'a']\n"
          ]
        },
        {
          "output_type": "stream",
          "name": "stderr",
          "text": [
            "<ipython-input-41-27185488bfc0>:16: DeprecationWarning: DataFrameGroupBy.apply operated on the grouping columns. This behavior is deprecated, and in a future version of pandas the grouping columns will be excluded from the operation. Either pass `include_groups=False` to exclude the groupings or explicitly select the grouping columns after groupby to silence this warning.\n",
            "  letters_by_species = df_long.groupby('species').apply(calculate_letters_for_group).to_dict()\n"
          ]
        }
      ]
    },
    {
      "source": [
        "result_values = {}\n",
        "result_errors = {}\n",
        "new_ltr = {}\n",
        "month_labels = months\n",
        "method_labels = methods\n",
        "i = 1\n",
        "\n",
        "\n",
        "for method in method_labels:\n",
        "  for month in month_labels:\n",
        "\n",
        "    result_values[f'y{i}'] = stat_result[stat_result['method'] == method]\\\n",
        "     [stat_result['month'] == month]['value']['mean'].values\n",
        "\n",
        "    result_errors[f'y{i}err'] = stat_result[stat_result['method'] == method]\\\n",
        "     [stat_result['month'] == month]['value']['std'].values\n",
        "\n",
        "    condition = (df_long['method'] == method) & (df_long['month'] == month)\n",
        "    list_unique = df_long[condition][variant].unique().tolist()\n",
        "\n",
        "    print (df_long[condition].dtypes, list_unique)\n",
        "    new_ltr[f'y{i}'], _ = letters_calculate(variant, value, df_long[condition], list_unique)\n",
        "\n",
        "    i += 1\n",
        "#print (result_values)"
      ],
      "cell_type": "code",
      "metadata": {
        "colab": {
          "base_uri": "https://localhost:8080/"
        },
        "id": "5Bz6gnUh3C6q",
        "outputId": "8cc8cdca-aabf-4a03-edc7-be2413c8f439"
      },
      "execution_count": 42,
      "outputs": [
        {
          "output_type": "stream",
          "name": "stdout",
          "text": [
            "species       object\n",
            "month         object\n",
            "method        object\n",
            "replicate     object\n",
            "value        float64\n",
            "combined      object\n",
            "dtype: object ['L. perenne', 'A. cristatum', 'A. desertorum', 'F. arundinacea', 'F. pratensis', 'F. rubra', 'B. inermis']\n",
            "[1     2.988716\n",
            "43    2.966974\n",
            "Name: value, dtype: float64, 2     2.852831\n",
            "44    2.765864\n",
            "Name: value, dtype: float64, 6     5.537925\n",
            "48    7.587075\n",
            "Name: value, dtype: float64, 3     3.543128\n",
            "45    3.390937\n",
            "Name: value, dtype: float64, 4     3.515951\n",
            "46    3.407243\n",
            "Name: value, dtype: float64, 5     5.233542\n",
            "47    4.516067\n",
            "Name: value, dtype: float64, 0     4.064928\n",
            "42    4.200813\n",
            "Name: value, dtype: float64]\n"
          ]
        },
        {
          "output_type": "stream",
          "name": "stderr",
          "text": [
            "<ipython-input-42-b9bb29eeeee5>:12: UserWarning: Boolean Series key will be reindexed to match DataFrame index.\n",
            "  result_values[f'y{i}'] = stat_result[stat_result['method'] == method]\\\n",
            "<ipython-input-42-b9bb29eeeee5>:15: UserWarning: Boolean Series key will be reindexed to match DataFrame index.\n",
            "  result_errors[f'y{i}err'] = stat_result[stat_result['method'] == method]\\\n"
          ]
        },
        {
          "output_type": "stream",
          "name": "stdout",
          "text": [
            "['L. perenne', 6, 'a']\n",
            "['A. cristatum', 0, 'a']\n",
            "['A. desertorum', 1, 'a']\n",
            "['F. arundinacea', 3, 'a']\n",
            "['F. pratensis', 4, 'a']\n",
            "['F. rubra', 5, 'ab']\n",
            "['B. inermis', 2, 'b']\n",
            "species       object\n",
            "month         object\n",
            "method        object\n",
            "replicate     object\n",
            "value        float64\n",
            "combined      object\n",
            "dtype: object ['L. perenne', 'A. cristatum', 'A. desertorum', 'F. arundinacea', 'F. pratensis', 'F. rubra', 'B. inermis']\n",
            "[8     3.630095\n",
            "50    3.765980\n",
            "Name: value, dtype: float64, 9     4.249732\n",
            "51    4.353005\n",
            "Name: value, dtype: float64, 13    5.967322\n",
            "55    5.766212\n",
            "Name: value, dtype: float64, 10    3.967090\n",
            "52    4.298651\n",
            "Name: value, dtype: float64, 11    4.081234\n",
            "53    3.923607\n",
            "Name: value, dtype: float64, 12    4.597598\n",
            "54    3.755109\n",
            "Name: value, dtype: float64, 7     3.793157\n",
            "49    4.227990\n",
            "Name: value, dtype: float64]\n"
          ]
        },
        {
          "output_type": "stream",
          "name": "stderr",
          "text": [
            "<ipython-input-42-b9bb29eeeee5>:12: UserWarning: Boolean Series key will be reindexed to match DataFrame index.\n",
            "  result_values[f'y{i}'] = stat_result[stat_result['method'] == method]\\\n",
            "<ipython-input-42-b9bb29eeeee5>:15: UserWarning: Boolean Series key will be reindexed to match DataFrame index.\n",
            "  result_errors[f'y{i}err'] = stat_result[stat_result['method'] == method]\\\n"
          ]
        },
        {
          "output_type": "stream",
          "name": "stdout",
          "text": [
            "['L. perenne', 6, 'a']\n",
            "['A. cristatum', 0, 'a']\n",
            "['A. desertorum', 1, 'a']\n",
            "['F. arundinacea', 3, 'a']\n",
            "['F. pratensis', 4, 'a']\n",
            "['F. rubra', 5, 'a']\n",
            "['B. inermis', 2, 'b']\n",
            "species       object\n",
            "month         object\n",
            "method        object\n",
            "replicate     object\n",
            "value        float64\n",
            "combined      object\n",
            "dtype: object ['L. perenne', 'A. cristatum', 'A. desertorum', 'F. arundinacea', 'F. pratensis', 'F. rubra', 'B. inermis']\n",
            "[15    2.416248\n",
            "57    2.411843\n",
            "Name: value, dtype: float64, 16    2.319334\n",
            "58    2.425059\n",
            "Name: value, dtype: float64, 20     6.858886\n",
            "62    11.186988\n",
            "Name: value, dtype: float64, 17    2.704789\n",
            "59    2.709194\n",
            "Name: value, dtype: float64, 18    2.436072\n",
            "60    2.469111\n",
            "Name: value, dtype: float64, 19    4.127666\n",
            "61    4.376559\n",
            "Name: value, dtype: float64, 14    1.951501\n",
            "56    1.973527\n",
            "Name: value, dtype: float64]\n"
          ]
        },
        {
          "output_type": "stream",
          "name": "stderr",
          "text": [
            "<ipython-input-42-b9bb29eeeee5>:12: UserWarning: Boolean Series key will be reindexed to match DataFrame index.\n",
            "  result_values[f'y{i}'] = stat_result[stat_result['method'] == method]\\\n",
            "<ipython-input-42-b9bb29eeeee5>:15: UserWarning: Boolean Series key will be reindexed to match DataFrame index.\n",
            "  result_errors[f'y{i}err'] = stat_result[stat_result['method'] == method]\\\n"
          ]
        },
        {
          "output_type": "stream",
          "name": "stdout",
          "text": [
            "['L. perenne', 6, 'a']\n",
            "['A. cristatum', 0, 'a']\n",
            "['A. desertorum', 1, 'a']\n",
            "['F. arundinacea', 3, 'a']\n",
            "['F. pratensis', 4, 'a']\n",
            "['F. rubra', 5, 'a']\n",
            "['B. inermis', 2, 'b']\n",
            "species       object\n",
            "month         object\n",
            "method        object\n",
            "replicate     object\n",
            "value        float64\n",
            "combined      object\n",
            "dtype: object ['L. perenne', 'A. cristatum', 'A. desertorum', 'F. arundinacea', 'F. pratensis', 'F. rubra', 'B. inermis']\n",
            "[22    2.676155\n",
            "64    2.671750\n",
            "Name: value, dtype: float64, 23    3.766440\n",
            "65    3.678336\n",
            "Name: value, dtype: float64, 27    7.638605\n",
            "69    7.764153\n",
            "Name: value, dtype: float64, 24    2.843552\n",
            "66    2.867781\n",
            "Name: value, dtype: float64, 25    2.160747\n",
            "67    2.173963\n",
            "Name: value, dtype: float64, 26    3.455874\n",
            "68    2.834742\n",
            "Name: value, dtype: float64, 21    1.625516\n",
            "63    1.614503\n",
            "Name: value, dtype: float64]\n"
          ]
        },
        {
          "output_type": "stream",
          "name": "stderr",
          "text": [
            "<ipython-input-42-b9bb29eeeee5>:12: UserWarning: Boolean Series key will be reindexed to match DataFrame index.\n",
            "  result_values[f'y{i}'] = stat_result[stat_result['method'] == method]\\\n",
            "<ipython-input-42-b9bb29eeeee5>:15: UserWarning: Boolean Series key will be reindexed to match DataFrame index.\n",
            "  result_errors[f'y{i}err'] = stat_result[stat_result['method'] == method]\\\n"
          ]
        },
        {
          "output_type": "stream",
          "name": "stdout",
          "text": [
            "['L. perenne', 6, 'e']\n",
            "['A. cristatum', 0, 'ab']\n",
            "['A. desertorum', 1, 'c']\n",
            "['F. arundinacea', 3, 'a']\n",
            "['F. pratensis', 4, 'be']\n",
            "['F. rubra', 5, 'ac']\n",
            "['B. inermis', 2, 'd']\n",
            "species       object\n",
            "month         object\n",
            "method        object\n",
            "replicate     object\n",
            "value        float64\n",
            "combined      object\n",
            "dtype: object ['L. perenne', 'A. cristatum', 'A. desertorum', 'F. arundinacea', 'F. pratensis', 'F. rubra', 'B. inermis']\n",
            "[29    1.977688\n",
            "71    2.112914\n",
            "Name: value, dtype: float64, 30    1.580460\n",
            "72    2.079108\n",
            "Name: value, dtype: float64, 34    5.265382\n",
            "76    9.558824\n",
            "Name: value, dtype: float64, 31    1.884719\n",
            "73    1.926978\n",
            "Name: value, dtype: float64, 32    1.597363\n",
            "74    1.741041\n",
            "Name: value, dtype: float64, 33    3.101758\n",
            "75    3.279243\n",
            "Name: value, dtype: float64, 28    2.129817\n",
            "70    1.673428\n",
            "Name: value, dtype: float64]\n"
          ]
        },
        {
          "output_type": "stream",
          "name": "stderr",
          "text": [
            "<ipython-input-42-b9bb29eeeee5>:12: UserWarning: Boolean Series key will be reindexed to match DataFrame index.\n",
            "  result_values[f'y{i}'] = stat_result[stat_result['method'] == method]\\\n",
            "<ipython-input-42-b9bb29eeeee5>:15: UserWarning: Boolean Series key will be reindexed to match DataFrame index.\n",
            "  result_errors[f'y{i}err'] = stat_result[stat_result['method'] == method]\\\n"
          ]
        },
        {
          "output_type": "stream",
          "name": "stdout",
          "text": [
            "['L. perenne', 6, 'a']\n",
            "['A. cristatum', 0, 'a']\n",
            "['A. desertorum', 1, 'a']\n",
            "['F. arundinacea', 3, 'a']\n",
            "['F. pratensis', 4, 'a']\n",
            "['F. rubra', 5, 'ab']\n",
            "['B. inermis', 2, 'b']\n",
            "species       object\n",
            "month         object\n",
            "method        object\n",
            "replicate     object\n",
            "value        float64\n",
            "combined      object\n",
            "dtype: object ['L. perenne', 'A. cristatum', 'A. desertorum', 'F. arundinacea', 'F. pratensis', 'F. rubra', 'B. inermis']\n",
            "[36    1.817106\n",
            "78    2.991886\n",
            "Name: value, dtype: float64, 37    2.662272\n",
            "79    2.696078\n",
            "Name: value, dtype: float64, 41    6.338742\n",
            "83    5.814740\n",
            "Name: value, dtype: float64, 38    1.969236\n",
            "80    2.112914\n",
            "Name: value, dtype: float64, 39    1.614266\n",
            "81    1.639621\n",
            "Name: value, dtype: float64, 40    2.400270\n",
            "82    2.019946\n",
            "Name: value, dtype: float64, 35    1.386072\n",
            "77    1.707235\n",
            "Name: value, dtype: float64]\n"
          ]
        },
        {
          "output_type": "stream",
          "name": "stderr",
          "text": [
            "<ipython-input-42-b9bb29eeeee5>:12: UserWarning: Boolean Series key will be reindexed to match DataFrame index.\n",
            "  result_values[f'y{i}'] = stat_result[stat_result['method'] == method]\\\n",
            "<ipython-input-42-b9bb29eeeee5>:15: UserWarning: Boolean Series key will be reindexed to match DataFrame index.\n",
            "  result_errors[f'y{i}err'] = stat_result[stat_result['method'] == method]\\\n"
          ]
        },
        {
          "output_type": "stream",
          "name": "stdout",
          "text": [
            "['L. perenne', 6, 'a']\n",
            "['A. cristatum', 0, 'a']\n",
            "['A. desertorum', 1, 'a']\n",
            "['F. arundinacea', 3, 'a']\n",
            "['F. pratensis', 4, 'a']\n",
            "['F. rubra', 5, 'a']\n",
            "['B. inermis', 2, 'b']\n"
          ]
        }
      ]
    },
    {
      "cell_type": "markdown",
      "source": [
        "```\n",
        "# water extracts\n",
        "y1w = [1.02809021335807, 0.730954313543599, 0.930252782931354, 0.701965445269017, 0.701965445269017, 0.923005565862709, 1.13679846938776]\n",
        "y2w = [0.875898654916512, 0.923005565862709, 1.19839981447124, 0.792555658627087, 0.767190398886828, 0.53890306122449, 0.803426484230056]\n",
        "\n",
        "csv_file = '/content/gr_BCA_all_240826_w.csv' #\"/content/lupin_PM_0602_ew.csv\" #/content/lupina-params-1.csv\n",
        "dfw = pd.read_csv(csv_file, delimiter='\\t', decimal=',') # delimiter '\\t' or ';'\n",
        "\n",
        "y1w = dfw['y1w'].values\n",
        "y2w = dfw['y2w'].values\n",
        "y1werr = dfw['y1werr'].values\n",
        "y2werr = dfw['y2werr'].values\n",
        "```"
      ],
      "metadata": {
        "id": "op0i3LOrn4pZ"
      }
    },
    {
      "cell_type": "code",
      "source": [
        "def draw_letters(y, xx, data, new_l, follow_bars=False, bplt=0, fsize=10):\n",
        "\n",
        "  for i, grp in enumerate(pd.unique(data)):   #I loop through the groups to make the scatters and figure out the axis labels.\n",
        "      if follow_bars:\n",
        "        y_pos = data[i] + .7 #+ y * 0.25\n",
        "      else:\n",
        "        y_pos = y * 0.98 #y_pos = ax.get_ylim()[1]*1\n",
        "\n",
        "      #print (i, xx, y_pos, new_l[i], pd.unique(data))\n",
        "      plt.text(i*0.1+xx+bplt, y_pos, new_l[i],\n",
        "              rotation=90, fontsize=fsize, verticalalignment='top', horizontalalignment='center')"
      ],
      "metadata": {
        "id": "23_cAvJ0Mx62"
      },
      "execution_count": 50,
      "outputs": []
    },
    {
      "cell_type": "code",
      "source": [
        "import matplotlib.pyplot as plt\n",
        "# create data\n",
        "x = np.arange(len(pd.unique(df['species'].values))) # N of samples\n",
        "\n",
        "fig, ax = plt.subplots(figsize=(12, 5))\n",
        "bar_kwargs = {'width':0.1,'linewidth':1,'zorder':5,'edgecolor':'black'}\n",
        "err_kwargs = {'linewidth':1,'ecolor':'black','capsize':5,'capthick':1,'lolims':False}\n",
        "# plot data in grouped manner of bar type\n",
        "\n",
        "import re\n",
        "\n",
        "colors = ['blue', 'lightblue', 'red', 'lightsalmon', 'green', 'yellowgreen']\n",
        "i = 0\n",
        "xx = -0.3\n",
        "for y in result_values:\n",
        "  \"\"\"\n",
        "  y_w = 0\n",
        "  if y == 'y1':\n",
        "    y_w = y1w + y1werr\n",
        "  if y == 'y2':\n",
        "    y_w = y2w + y2werr\n",
        "  y_pos = result_values[y] + result_errors[y + 'err'] + y_w\n",
        "  draw_letters(10, xx, y_pos, new_ltr[y], True, 0, fsize=10)\n",
        "  \"\"\"\n",
        "  plt.bar(x+xx, result_values[y], color=colors[i],\n",
        "          yerr=result_errors[y + 'err'], **bar_kwargs,  error_kw=err_kwargs)\n",
        "  xx += 0.1\n",
        "  i += 1 # increment the color index\n",
        "\n",
        "\n",
        "new_result_values = {}\n",
        "xx = -0.3\n",
        "for i, species in enumerate(df['species'].unique()):\n",
        "  new_result_values[species] = []\n",
        "  for j, (month, method) in enumerate(combinations):\n",
        "    key = f'y{j+1}'\n",
        "    new_result_values[species].append(result_values[key][i]+result_errors[key+'err'][i])\n",
        "\n",
        "for species in df_long['species'].unique().tolist():\n",
        "  print (letters_by_species[species][0], new_result_values[species])\n",
        "  draw_letters(10, xx, new_result_values[species], letters_by_species[species][0],\n",
        "               True, 0, fsize=10)\n",
        "  xx += 1.\n",
        "\n",
        "\n",
        "\n",
        "#p1w = plt.bar(x-0.3, y1w, bottom=result_values['y1'], color='violet', yerr=y1werr, **bar_kwargs,  error_kw=err_kwargs)\n",
        "\n",
        "#p2w = plt.bar(x-0.2, y2w, bottom=result_values['y2'], color='violet', yerr=y2werr, **bar_kwargs,  error_kw=err_kwargs)\n",
        "\n",
        "# minor ticks\n",
        "from matplotlib.ticker import (MultipleLocator, AutoMinorLocator)\n",
        "ax.yaxis.set_minor_locator(MultipleLocator(2/2))\n",
        "ax.tick_params(which=\"major\", direction=\"inout\")\n",
        "ax.tick_params(which=\"minor\", direction=\"in\")\n",
        "\n",
        "\n",
        "label = pd.unique(df['species'].values)\n",
        "plt.rc('font', size=12)\n",
        "plt.xticks(x, label, fontsize=12, fontstyle='italic')\n",
        "import re\n",
        "plt.ylabel('[mM / mg] AAE; GAE')\n",
        "plt.legend((), ncols=3, labels=['PM, 8:30',\n",
        "                                'PM, 12:30',\n",
        "                                'FRAP, 8:30',\n",
        "                                'FRAP, 12:30',\n",
        "                                'Folin, 8:30',\n",
        "                                'Folin, 12:30 '])\n",
        "# [re.sub(r'[\\[\\]\\']', '', str(i)) for i in combinations.tolist()], loc='upper left') # automatic labeling\n",
        "plt.savefig('anovatest.jpg',dpi=600,bbox_inches='tight')"
      ],
      "metadata": {
        "id": "rzN3eGNbD-f2",
        "colab": {
          "base_uri": "https://localhost:8080/",
          "height": 645
        },
        "outputId": "558292d3-64bc-41d2-8d42-a1c74651c36a"
      },
      "execution_count": 59,
      "outputs": [
        {
          "output_type": "stream",
          "name": "stdout",
          "text": [
            "['b', 'b', 'a', 'a', 'a', 'a'] [4.22895590899849, 4.318047069741362, 1.9780882778951485, 1.6277971520997145, 2.224338794659179, 1.7737496423689108]\n",
            "['ab', 'b', 'ab', 'ab', 'a', 'ab'] [2.9932189264230633, 3.794122884879748, 2.417160812375718, 2.677067210830726, 2.1409204572260383, 3.235191367350662]\n",
            "['b', 'c', 'ab', 'c', 'a', 'b'] [2.870842136582777, 4.374393202341635, 2.4469551425717695, 3.7846870886594988, 2.1823808324037, 2.703080012886633]\n",
            "['c', 'd', 'a', 'a', 'b', 'b'] [3.5746480925681063, 4.367318930015689, 2.710106159786865, 2.872798668999622, 1.9357296645193838, 2.142670852604559]\n",
            "['c', 'e', 'a', 'd', 'b', 'b'] [3.538465341762802, 4.113879670764792, 2.475953375694695, 2.176699877463208, 1.770797965518689, 1.64487255192325]\n",
            "['b', 'ab', 'ab', 'ac', 'ac', 'c'] [5.382135402202204, 4.772083453972459, 4.4281069525271715, 3.5845147598081755, 3.316001034524322, 2.479038245042214]\n",
            "['a', 'a', 'a', 'a', 'a', 'a'] [8.011468303430084, 6.0089735996776845, 12.083367455295097, 7.790154848108126, 10.44802438170018, 6.447266906977403]\n"
          ]
        },
        {
          "output_type": "stream",
          "name": "stderr",
          "text": [
            "<ipython-input-50-0778a2187680>:3: FutureWarning: unique with argument that is not not a Series, Index, ExtensionArray, or np.ndarray is deprecated and will raise in a future version.\n",
            "  for i, grp in enumerate(pd.unique(data)):   #I loop through the groups to make the scatters and figure out the axis labels.\n",
            "<ipython-input-59-df542ae5ce6d>:63: UserWarning: You have mixed positional and keyword arguments, some input may be discarded.\n",
            "  plt.legend((), ncols=3, labels=['PM, 8:30',\n"
          ]
        },
        {
          "output_type": "display_data",
          "data": {
            "text/plain": [
              "<Figure size 1200x500 with 1 Axes>"
            ],
            "image/png": "[encoded data removed]"
          },
          "metadata": {}
        }
      ]
    }
  ]
}