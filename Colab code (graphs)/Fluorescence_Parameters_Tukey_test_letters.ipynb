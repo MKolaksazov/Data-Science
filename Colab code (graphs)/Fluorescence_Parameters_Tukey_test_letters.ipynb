{
  "nbformat": 4,
  "nbformat_minor": 0,
  "metadata": {
    "colab": {
      "provenance": [],
      "authorship_tag": "ABX9TyNfH3mUL8JmvM6V/TCHZF6Y",
      "include_colab_link": true
    },
    "kernelspec": {
      "name": "python3",
      "display_name": "Python 3"
    },
    "language_info": {
      "name": "python"
    }
  },
  "cells": [
    {
      "cell_type": "markdown",
      "metadata": {
        "id": "view-in-github",
        "colab_type": "text"
      },
      "source": [
        "<a href=\"https://colab.research.google.com/github/MKolaksazov/Data-Science/blob/main/Colab%20code%20(graphs)/Fluorescence_Parameters_Tukey_test_letters.ipynb\" target=\"_parent\"><img src=\"https://colab.research.google.com/assets/colab-badge.svg\" alt=\"Open In Colab\"/></a>"
      ]
    },
    {
      "cell_type": "markdown",
      "source": [
        "# Drawing a 'BOXPLOT' graph\n",
        "\n",
        "Includes letters, showing the significant differences between variants, derived by the means of the Tukey's test."
      ],
      "metadata": {
        "id": "C7JWMKLnIUEw"
      }
    },
    {
      "cell_type": "markdown",
      "source": [
        "Before everything else, parameters used inside this code should be defined. This is done to make corrections easier and avoid setting them inside the code."
      ],
      "metadata": {
        "id": "KLabpQhvJeKm"
      }
    },
    {
      "cell_type": "code",
      "source": [
        "# THIS COLAB NOTEBOOK SHOULD BE USED TO CALCULATE AND DRAW THE PARAMETERS OF THE PROMPT FLUORESCENCE\n",
        "\n",
        "#!sudo locale-gen en_US.UTF-8\n",
        "#!sudo update-locale"
      ],
      "metadata": {
        "id": "Dw6AZPBHBQv3"
      },
      "execution_count": 186,
      "outputs": []
    },
    {
      "cell_type": "code",
      "source": [
        "# PARAMETERS\n",
        "# export (converted csv)_(plant species)_(method)_(date).csv\n",
        "csv_file = '/content/export_gr_ojip_240711.csv'\n",
        "\n",
        "stacked = False\n",
        "sorting = True\n",
        "abbreviations = False\n",
        "parameter = 'Pi_Abs' # required column\n",
        "\n",
        "y_height = 6.5 # height of the graph\n",
        "y_dist = 2 # distance between labels\n",
        "x_label = '' #grass forage species' #'$\\it{L.}$ $\\it{albus}$ cultivars' # 'Chickpea ($\\mathit{Cicer}$ $\\it{arietinum}$) cultivars' # 'grass forage species' # 'L. albus cultivars' # 'Sorghum cultivars' # 'grass forage species' #\n",
        "y_label = '[a.u.]'\n",
        "title_main =  '' #'GOX activity (Production of glyoxylate)' #"
      ],
      "metadata": {
        "id": "uSUU6kTvr0e1"
      },
      "execution_count": 187,
      "outputs": []
    },
    {
      "cell_type": "code",
      "source": [
        "group_order = [\n",
        "    'Lp M', 'Lp N',\n",
        "    #'Ac M', 'Ac N', 'Ad M', 'Ad N',\n",
        "    'Fa M', 'Fa N', 'Fp M', 'Fp N', 'Fr M', 'Fr N', 'Bi M', 'Bi N',\n",
        "]"
      ],
      "metadata": {
        "id": "DhNlwIq7MyR_"
      },
      "execution_count": 188,
      "outputs": []
    },
    {
      "cell_type": "markdown",
      "source": [
        "####1) importing of the libraries and the **.csv** file\n",
        "\n",
        "The columns of this table file should containt parameters, whereas the group variants written as indexes of the rows. These indexes will be shown in the first column, named *'groups'*.\n",
        "\n",
        "the delimiter is usually a semicolon ```;```, but can be a tabulation ```\\t```\n"
      ],
      "metadata": {
        "id": "Oosa1hRlI8vI"
      }
    },
    {
      "cell_type": "code",
      "execution_count": 189,
      "metadata": {
        "id": "R3e1yglf-DMD"
      },
      "outputs": [],
      "source": [
        "import pandas as pd\n",
        "import numpy as np\n",
        "\n",
        "df = pd.read_csv(csv_file, delimiter='\\t', decimal='.') # delimiter '\\t' or ';'"
      ]
    },
    {
      "cell_type": "code",
      "source": [
        "df = df.dropna()\n",
        "if (sorting):\n",
        "  df.sort_values(by=\"groups\", key=lambda column: column.map(lambda e: group_order.index(e)), inplace=True)"
      ],
      "metadata": {
        "id": "1a1Cvjs9u-Rd"
      },
      "execution_count": 190,
      "outputs": []
    },
    {
      "cell_type": "markdown",
      "source": [
        "1.2) Popping out the labels of the variation groups in a dataframe, called *'names'*.\n",
        "Transposing the dataframe, so that it can be easily processed by the covariance test analysis and matplotlib. Converting it into numpy array."
      ],
      "metadata": {
        "id": "tgDoWouVB-Xq"
      }
    },
    {
      "cell_type": "code",
      "source": [
        "# print the resulting DataFrame\n",
        "#print(df)\n",
        "named = np.array(df.pop('groups'))\n",
        "transposed_df = df.T"
      ],
      "metadata": {
        "id": "TQRldAQTlqQX"
      },
      "execution_count": 191,
      "outputs": []
    },
    {
      "cell_type": "markdown",
      "source": [
        "1.3) An optional step required to abbreviate the longer latin names of the crops, so that they can fit in the graph."
      ],
      "metadata": {
        "id": "HmDAiYzDFo7v"
      }
    },
    {
      "cell_type": "code",
      "source": [
        "#ABBREVIATION\n",
        "if abbreviations:\n",
        "  try:\n",
        "      print('before: ', named)\n",
        "      import re\n",
        "      # Abbreviating the latin names from 'Aaaaa aaaaaa (L.)' to 'A. aaaaaa (L.)'\n",
        "      for i in range(len(named)):\n",
        "          c = named[i][0]\n",
        "          #named[i] = re.sub(r'[A-Z]([a-z]+ )', c + '. ', named[i])\n",
        "          named[i] = \"\".join(re.findall(r'\\b\\w', named[i]))\n",
        "\n",
        "      print('after: ', named)\n",
        "  except:\n",
        "      print(named.astype(int))\n",
        "      named=named.astype(int)\n",
        "      print('latin names not present')"
      ],
      "metadata": {
        "id": "-6W8NK9ykOte"
      },
      "execution_count": 192,
      "outputs": []
    },
    {
      "cell_type": "markdown",
      "source": [
        "1.4) Popping out the column with the desired parameter by writing the name in the 'pop' function, as well as transposing it."
      ],
      "metadata": {
        "id": "rx_-ENpXF8x7"
      }
    },
    {
      "cell_type": "markdown",
      "source": [
        "This short code is used to perform calculations, based on the compound parameters, we would like to obtain from the original data. For example we would want to find out the values of the parameter 'RC/CS$_o$'. Thus, we can use the already present in the raw data 'F$_o$', 'ABS/RC' and divide them to obtain the needed parameter."
      ],
      "metadata": {
        "id": "_0LiRBqm0GN1"
      }
    },
    {
      "cell_type": "code",
      "source": [
        "from logging import exception\n",
        "#DERIVED PARAMETERS\n",
        "def derivations(params, y_height, y_dist, title_main):\n",
        "    Fi_params = df.pop('Fi')\n",
        "    Fo_params = df.pop('Fo')\n",
        "    Fm_params = df.pop('Fm')\n",
        "    ABS_params = df.pop('ABS/RC')\n",
        "    #index = np.array(df.pop('index'))\n",
        "\n",
        "    if params == 'Phi_Ro':\n",
        "        y_height = 0.4 # height of the graph\n",
        "        y_dist = 0.1 # distance between labels\n",
        "        title_main = '\\u03C6$_{Ro}$ '\n",
        "        derived_params = (Fm_params - Fi_params)/Fm_params\n",
        "\n",
        "    elif params == 'Phi_Eo':\n",
        "        y_height = 0.7 # height of the graph\n",
        "        y_dist = 0.1 # distance between labels\n",
        "        title_main = '\\u03C6$_{Eo}$ '\n",
        "        derived_params = transposed_df.loc[params]\n",
        "\n",
        "    elif params == 'Phi_Po':\n",
        "        y_height = 1 # height of the graph\n",
        "        y_dist = 0.2 # distance between labels\n",
        "        title_main = '\\u03C6$_{Po}$ '\n",
        "        derived_params = transposed_df.loc[params]\n",
        "\n",
        "    elif params == 'Phi_Do':\n",
        "        derived_params = transposed_df.loc[params]\n",
        "        y_height = np.round(derived_params.max(), 2)+0.02 # height of the graph\n",
        "        y_dist = 0.1 # distance between labels\n",
        "        title_main = '\\u03C6$_{Do}$ '\n",
        "\n",
        "    elif params == 'Pi_Abs':\n",
        "        derived_params = transposed_df.loc[params]\n",
        "        y_height = np.round(derived_params.max())+0.5 # height of the graph\n",
        "        y_dist = 2 # distance between labels\n",
        "        title_main = 'PI $_{ABS}$ '\n",
        "\n",
        "    elif params == 'gamma_chl':\n",
        "        y_height = 0.5 # height of the graph\n",
        "        y_dist = 0.1 # distance between labels\n",
        "        title_main = '\\u03B3$_{chl}$'\n",
        "        #transp_p = pd.to_numeric(compound_params.T)\n",
        "        derived_params = 1/(ABS_params + 1)\n",
        "\n",
        "    elif params == 'RC/CSo':\n",
        "        y_height = 8000 # height of the graph\n",
        "        y_dist = 2000 # distance between labels\n",
        "        title_main = 'RC/CS$_O$'\n",
        "        derived_params = Fo_params/ABS_params\n",
        "\n",
        "    elif params == 'RC/CSm':\n",
        "        y_height = 45000 # height of the graph\n",
        "        y_dist = 5000 # distance between labels\n",
        "        title_main = 'RC/CS$_M$'\n",
        "        derived_params = Fm_params/ABS_params\n",
        "\n",
        "    elif params == 'Fo':\n",
        "        y_height = 17000 # height of the graph\n",
        "        y_dist = 2000 # distance between labels\n",
        "        title_main = 'ABS/CS$_O$ (F$_{O}$)'\n",
        "        derived_params = Fo_params\n",
        "\n",
        "    elif params == 'Fm':\n",
        "        y_height = 90000 # height of the graph\n",
        "        y_dist = 20000 # distance between labels\n",
        "        title_main = 'ABS/CS$_M$ (F$_{M}$)'\n",
        "        derived_params = Fm_params\n",
        "\n",
        "    elif params == 'ABS/RC':\n",
        "        y_height = np.round(ABS_params.max())+0.5 # height of the graph\n",
        "        y_dist = 1 # distance between labels\n",
        "        title_main = 'ABS/RC'\n",
        "        derived_params = ABS_params\n",
        "\n",
        "    else:\n",
        "        params = df.pop(parameter) #required param\n",
        "        derived_params = pd.to_numeric(params.T)\n",
        "\n",
        "    data = pd.DataFrame({\n",
        "        #'Index': index,\n",
        "        'Variant': named,\n",
        "        'Value': derived_params\n",
        "    })\n",
        "\n",
        "    return data, y_height, y_dist, title_main"
      ],
      "metadata": {
        "id": "LvrviCPsqjH-"
      },
      "execution_count": 193,
      "outputs": []
    },
    {
      "cell_type": "code",
      "source": [
        "# NORMALISING the very large values of the parameters\n",
        "'''\n",
        "compound_params = df.pop('Fm')\n",
        "transp_p = pd.to_numeric(compound_params.T)\n",
        "\n",
        "max_p1 = max(transp_df)\n",
        "max_p2 = max(transp_p)\n",
        "min_p1 = min(transp_df)\n",
        "min_p2 = min(transp_p)\n",
        "\n",
        "df_norm = (transp_df - min_p1) / (max_p1 - min_p1)\n",
        "p_norm = (transp_p - min_p2) / (max_p2 - min_p2)\n",
        "p_norm\n",
        "'''"
      ],
      "metadata": {
        "id": "pd9LPKlW1Mam",
        "colab": {
          "base_uri": "https://localhost:8080/",
          "height": 72
        },
        "outputId": "300c804d-b265-490f-a5bc-7bd708f089ad"
      },
      "execution_count": 194,
      "outputs": [
        {
          "output_type": "execute_result",
          "data": {
            "text/plain": [
              "\"\\ncompound_params = df.pop('Fm')\\ntransp_p = pd.to_numeric(compound_params.T)\\n\\nmax_p1 = max(transp_df)\\nmax_p2 = max(transp_p)\\nmin_p1 = min(transp_df)\\nmin_p2 = min(transp_p)\\n\\ndf_norm = (transp_df - min_p1) / (max_p1 - min_p1)\\np_norm = (transp_p - min_p2) / (max_p2 - min_p2)\\np_norm\\n\""
            ],
            "application/vnd.google.colaboratory.intrinsic+json": {
              "type": "string"
            }
          },
          "metadata": {},
          "execution_count": 194
        }
      ]
    },
    {
      "cell_type": "markdown",
      "source": [
        "1.5) Converting the dataframe into a 1D numpy array"
      ],
      "metadata": {
        "id": "FhbUoeHZGg2N"
      }
    },
    {
      "cell_type": "code",
      "source": [
        "'''\n",
        "from matplotlib.patches import namedtuple\n",
        "#convert dataframe to matrix\n",
        "conv_arr= transp_df.values # df - one param ; cp - comp param\n",
        "\n",
        "#converting into 1D array\n",
        "one_D_array = conv_arr.ravel()\n",
        "\n",
        "print(one_D_array, named)\n",
        "'''"
      ],
      "metadata": {
        "id": "LWXXonmvTvjI",
        "colab": {
          "base_uri": "https://localhost:8080/",
          "height": 72
        },
        "outputId": "69f18212-8692-4ee0-e4ae-4deb6b4a9df0"
      },
      "execution_count": 195,
      "outputs": [
        {
          "output_type": "execute_result",
          "data": {
            "text/plain": [
              "'\\nfrom matplotlib.patches import namedtuple\\n#convert dataframe to matrix\\nconv_arr= transp_df.values # df - one param ; cp - comp param\\n\\n#converting into 1D array\\none_D_array = conv_arr.ravel()\\n\\nprint(one_D_array, named)\\n'"
            ],
            "application/vnd.google.colaboratory.intrinsic+json": {
              "type": "string"
            }
          },
          "metadata": {},
          "execution_count": 195
        }
      ]
    },
    {
      "cell_type": "markdown",
      "source": [
        "####2) arranging the data by samples column-wise and taking out the names of the variants in a different array"
      ],
      "metadata": {
        "id": "swp-ZiLbJIIh"
      }
    },
    {
      "cell_type": "markdown",
      "source": [
        "Converting the 2-D pandas dataframe into a 1-D numpy array. ```numpy.append(array1, array2) ``` can be used to append two arrays.\n",
        "\n",
        "Probably ```pandas.dataframe.pop()``` can be used as well."
      ],
      "metadata": {
        "id": "DVlS-hBPJjVS"
      }
    },
    {
      "cell_type": "code",
      "source": [
        "try:\n",
        "    data, y_height, y_dist, title_main = derivations(parameter, y_height, y_dist, title_main)\n",
        "except Exception as e:\n",
        "    print(e)\n",
        "    params = df.pop(parameter) #required param\n",
        "    derived_params = pd.to_numeric(params.T)\n",
        "    print('no params')\n",
        "    data = pd.DataFrame({\n",
        "        'Variant': named,\n",
        "        'Value': derived_params\n",
        "    })"
      ],
      "metadata": {
        "id": "WXFRcohqsnpZ"
      },
      "execution_count": 196,
      "outputs": []
    },
    {
      "cell_type": "markdown",
      "source": [
        "3) performing the co-variance test\n",
        "(the following is a variant, showing the t-test)\n",
        "(currently not shown)"
      ],
      "metadata": {
        "id": "NWmrSR9_Jnbr"
      }
    },
    {
      "cell_type": "markdown",
      "source": [
        "4) This is a very simple code, showing a Tukey's test analysis and printing the summarized data\n",
        "\n",
        "# writing out the combinations of the groups:\n",
        "```\n",
        "result.pvalues[result.pvalues < 0.05]\n",
        "result.reject\n",
        "result_list = result.groupsunique.tolist()\n",
        "all_groups = []\n",
        "// writing out the all possible combinations:\n",
        "while result_list:\n",
        "  for n in result_list:\n",
        "    if result_list[0] != n:\n",
        "      print(result_list[0], n)\n",
        "      all_groups.append(str(result_list[0] + n))\n",
        "  result_list.pop(0)\n",
        "\n",
        "all_groups\n",
        "// finding out the rejected groups (p < 0.05):\n",
        "t = list(result.reject) // all groups (true or false)\n",
        "\n",
        "from itertools import compress\n",
        "ind = list(compress(range(len(t)), t)) // indeces of groups if reject == True\n",
        "\n",
        "for i in ind:\n",
        "  print(all_groups[i])\n",
        "\n",
        "// other variant:\n",
        "// find all indeces of p-values within range\n",
        "print(np.where(result.pvalues >= 0.05)[0])\n",
        "print(np.where(np.logical_and(result.pvalues < 0.05, result.pvalues >= 0.01))[0])\n",
        "print(np.where(np.logical_and(result.pvalues < 0.01, result.pvalues >= 0.001))[0])\n",
        "print(np.where(result.pvalues < 0.001)[0])\n",
        "\n",
        "ind = np.where(result.pvalues < 0.001)[0]\n",
        "\n",
        "for i in ind:\n",
        "  print(all_groups[i])\n",
        "```"
      ],
      "metadata": {
        "id": "QHDE8lztKewK"
      }
    },
    {
      "cell_type": "code",
      "source": [
        "import statsmodels.stats.multicomp as mc\n",
        "\n",
        "value = 'Value' #'8 TAC' #'Value'\n",
        "variant = 'Variant' #'8 groups' #'Variant'\n",
        "sorting_labels = variant\n",
        "if stacked: data = df\n",
        "old_data = data\n",
        "dataVariant = data #data[~data[variant].str.endswith('N')]\n",
        "\n",
        "# Perform one-way ANOVA to check for significant differences\n",
        "model = mc.MultiComparison(dataVariant[value].astype('float'), dataVariant[variant])\n",
        "#model = mc.MultiComparison(data['6 TAC'], data['6 groups'])\n",
        "result = model.tukeyhsd()\n",
        "#print(np.sum(result.reject), len(result.reject))\n",
        "#result.groups[result.pvalues < 0.05]\n",
        "#result.groups[result.reject==True]\n",
        "# The null hypothesis H0 for the test states that the means of the tested groups are equal.\n",
        "result.summary()"
      ],
      "metadata": {
        "id": "P-o5rG0hKOgv",
        "colab": {
          "base_uri": "https://localhost:8080/",
          "height": 1000
        },
        "outputId": "7769fc0f-a216-4a48-c634-4a380a2fa0e3"
      },
      "execution_count": 197,
      "outputs": [
        {
          "output_type": "execute_result",
          "data": {
            "text/plain": [
              "<class 'statsmodels.iolib.table.SimpleTable'>"
            ],
            "text/html": [
              "<table class=\"simpletable\">\n",
              "<caption>Multiple Comparison of Means - Tukey HSD, FWER=0.05</caption>\n",
              "<tr>\n",
              "  <th>group1</th> <th>group2</th> <th>meandiff</th>  <th>p-adj</th>  <th>lower</th>   <th>upper</th>  <th>reject</th>\n",
              "</tr>\n",
              "<tr>\n",
              "   <td>Bi M</td>   <td>Bi N</td>   <td>0.5332</td>  <td>0.9838</td> <td>-1.1445</td> <td>2.2109</td>   <td>False</td>\n",
              "</tr>\n",
              "<tr>\n",
              "   <td>Bi M</td>   <td>Fa M</td>   <td>2.0797</td>  <td>0.0005</td> <td>0.7098</td>  <td>3.4495</td>   <td>True</td> \n",
              "</tr>\n",
              "<tr>\n",
              "   <td>Bi M</td>   <td>Fa N</td>   <td>1.6218</td>   <td>0.065</td> <td>-0.0559</td> <td>3.2995</td>   <td>False</td>\n",
              "</tr>\n",
              "<tr>\n",
              "   <td>Bi M</td>   <td>Fp M</td>   <td>2.5198</td>    <td>0.0</td>   <td>1.15</td>   <td>3.8897</td>   <td>True</td> \n",
              "</tr>\n",
              "<tr>\n",
              "   <td>Bi M</td>   <td>Fp N</td>   <td>1.4598</td>  <td>0.1324</td> <td>-0.2179</td> <td>3.1375</td>   <td>False</td>\n",
              "</tr>\n",
              "<tr>\n",
              "   <td>Bi M</td>   <td>Fr M</td>   <td>-1.4961</td>  <td>0.06</td>  <td>-3.0276</td> <td>0.0354</td>   <td>False</td>\n",
              "</tr>\n",
              "<tr>\n",
              "   <td>Bi M</td>   <td>Fr N</td>   <td>-1.0158</td> <td>0.5716</td> <td>-2.6935</td> <td>0.6619</td>   <td>False</td>\n",
              "</tr>\n",
              "<tr>\n",
              "   <td>Bi M</td>   <td>Lp M</td>   <td>0.3705</td>  <td>0.9948</td> <td>-0.9993</td> <td>1.7403</td>   <td>False</td>\n",
              "</tr>\n",
              "<tr>\n",
              "   <td>Bi M</td>   <td>Lp N</td>   <td>-1.0508</td> <td>0.5259</td> <td>-2.7285</td> <td>0.6269</td>   <td>False</td>\n",
              "</tr>\n",
              "<tr>\n",
              "   <td>Bi N</td>   <td>Fa M</td>   <td>1.5465</td>  <td>0.0913</td> <td>-0.1312</td> <td>3.2242</td>   <td>False</td>\n",
              "</tr>\n",
              "<tr>\n",
              "   <td>Bi N</td>   <td>Fa N</td>   <td>1.0887</td>  <td>0.6665</td> <td>-0.8486</td> <td>3.0259</td>   <td>False</td>\n",
              "</tr>\n",
              "<tr>\n",
              "   <td>Bi N</td>   <td>Fp M</td>   <td>1.9867</td>  <td>0.0105</td>  <td>0.309</td>  <td>3.6644</td>   <td>True</td> \n",
              "</tr>\n",
              "<tr>\n",
              "   <td>Bi N</td>   <td>Fp N</td>   <td>0.9267</td>  <td>0.8287</td> <td>-1.0106</td> <td>2.8639</td>   <td>False</td>\n",
              "</tr>\n",
              "<tr>\n",
              "   <td>Bi N</td>   <td>Fr M</td>   <td>-2.0292</td> <td>0.0184</td> <td>-3.8414</td> <td>-0.2171</td>  <td>True</td> \n",
              "</tr>\n",
              "<tr>\n",
              "   <td>Bi N</td>   <td>Fr N</td>   <td>-1.549</td>  <td>0.2114</td> <td>-3.4862</td> <td>0.3882</td>   <td>False</td>\n",
              "</tr>\n",
              "<tr>\n",
              "   <td>Bi N</td>   <td>Lp M</td>   <td>-0.1627</td>   <td>1.0</td>  <td>-1.8404</td>  <td>1.515</td>   <td>False</td>\n",
              "</tr>\n",
              "<tr>\n",
              "   <td>Bi N</td>   <td>Lp N</td>   <td>-1.584</td>  <td>0.1884</td> <td>-3.5212</td> <td>0.3532</td>   <td>False</td>\n",
              "</tr>\n",
              "<tr>\n",
              "   <td>Fa M</td>   <td>Fa N</td>   <td>-0.4578</td> <td>0.9944</td> <td>-2.1355</td> <td>1.2199</td>   <td>False</td>\n",
              "</tr>\n",
              "<tr>\n",
              "   <td>Fa M</td>   <td>Fp M</td>   <td>0.4402</td>  <td>0.9825</td> <td>-0.9297</td>  <td>1.81</td>    <td>False</td>\n",
              "</tr>\n",
              "<tr>\n",
              "   <td>Fa M</td>   <td>Fp N</td>   <td>-0.6198</td> <td>0.9574</td> <td>-2.2975</td> <td>1.0579</td>   <td>False</td>\n",
              "</tr>\n",
              "<tr>\n",
              "   <td>Fa M</td>   <td>Fr M</td>   <td>-3.5758</td>   <td>0.0</td>  <td>-5.1073</td> <td>-2.0442</td>  <td>True</td> \n",
              "</tr>\n",
              "<tr>\n",
              "   <td>Fa M</td>   <td>Fr N</td>   <td>-3.0955</td>   <td>0.0</td>  <td>-4.7732</td> <td>-1.4178</td>  <td>True</td> \n",
              "</tr>\n",
              "<tr>\n",
              "   <td>Fa M</td>   <td>Lp M</td>   <td>-1.7092</td> <td>0.0059</td> <td>-3.079</td>  <td>-0.3393</td>  <td>True</td> \n",
              "</tr>\n",
              "<tr>\n",
              "   <td>Fa M</td>   <td>Lp N</td>   <td>-3.1305</td>   <td>0.0</td>  <td>-4.8082</td> <td>-1.4528</td>  <td>True</td> \n",
              "</tr>\n",
              "<tr>\n",
              "   <td>Fa N</td>   <td>Fp M</td>    <td>0.898</td>  <td>0.7224</td> <td>-0.7797</td> <td>2.5757</td>   <td>False</td>\n",
              "</tr>\n",
              "<tr>\n",
              "   <td>Fa N</td>   <td>Fp N</td>   <td>-0.162</td>    <td>1.0</td>  <td>-2.0992</td> <td>1.7752</td>   <td>False</td>\n",
              "</tr>\n",
              "<tr>\n",
              "   <td>Fa N</td>   <td>Fr M</td>   <td>-3.1179</td> <td>0.0001</td>  <td>-4.93</td>  <td>-1.3058</td>  <td>True</td> \n",
              "</tr>\n",
              "<tr>\n",
              "   <td>Fa N</td>   <td>Fr N</td>   <td>-2.6377</td>  <td>0.002</td> <td>-4.5749</td> <td>-0.7004</td>  <td>True</td> \n",
              "</tr>\n",
              "<tr>\n",
              "   <td>Fa N</td>   <td>Lp M</td>   <td>-1.2513</td> <td>0.2916</td> <td>-2.929</td>  <td>0.4264</td>   <td>False</td>\n",
              "</tr>\n",
              "<tr>\n",
              "   <td>Fa N</td>   <td>Lp N</td>   <td>-2.6727</td> <td>0.0017</td> <td>-4.6099</td> <td>-0.7354</td>  <td>True</td> \n",
              "</tr>\n",
              "<tr>\n",
              "   <td>Fp M</td>   <td>Fp N</td>    <td>-1.06</td>  <td>0.5141</td> <td>-2.7377</td> <td>0.6177</td>   <td>False</td>\n",
              "</tr>\n",
              "<tr>\n",
              "   <td>Fp M</td>   <td>Fr M</td>   <td>-4.0159</td>   <td>0.0</td>  <td>-5.5474</td> <td>-2.4844</td>  <td>True</td> \n",
              "</tr>\n",
              "<tr>\n",
              "   <td>Fp M</td>   <td>Fr N</td>   <td>-3.5357</td>   <td>0.0</td>  <td>-5.2134</td> <td>-1.858</td>   <td>True</td> \n",
              "</tr>\n",
              "<tr>\n",
              "   <td>Fp M</td>   <td>Lp M</td>   <td>-2.1493</td> <td>0.0003</td> <td>-3.5192</td> <td>-0.7795</td>  <td>True</td> \n",
              "</tr>\n",
              "<tr>\n",
              "   <td>Fp M</td>   <td>Lp N</td>   <td>-3.5707</td>   <td>0.0</td>  <td>-5.2484</td> <td>-1.893</td>   <td>True</td> \n",
              "</tr>\n",
              "<tr>\n",
              "   <td>Fp N</td>   <td>Fr M</td>   <td>-2.9559</td> <td>0.0002</td> <td>-4.768</td>  <td>-1.1438</td>  <td>True</td> \n",
              "</tr>\n",
              "<tr>\n",
              "   <td>Fp N</td>   <td>Fr N</td>   <td>-2.4757</td> <td>0.0045</td> <td>-4.4129</td> <td>-0.5384</td>  <td>True</td> \n",
              "</tr>\n",
              "<tr>\n",
              "   <td>Fp N</td>   <td>Lp M</td>   <td>-1.0893</td> <td>0.4765</td> <td>-2.767</td>  <td>0.5884</td>   <td>False</td>\n",
              "</tr>\n",
              "<tr>\n",
              "   <td>Fp N</td>   <td>Lp N</td>   <td>-2.5107</td> <td>0.0038</td> <td>-4.4479</td> <td>-0.5734</td>  <td>True</td> \n",
              "</tr>\n",
              "<tr>\n",
              "   <td>Fr M</td>   <td>Fr N</td>   <td>0.4802</td>  <td>0.9955</td> <td>-1.3319</td> <td>2.2924</td>   <td>False</td>\n",
              "</tr>\n",
              "<tr>\n",
              "   <td>Fr M</td>   <td>Lp M</td>   <td>1.8666</td>  <td>0.0077</td> <td>0.3351</td>  <td>3.3981</td>   <td>True</td> \n",
              "</tr>\n",
              "<tr>\n",
              "   <td>Fr M</td>   <td>Lp N</td>   <td>0.4453</td>  <td>0.9974</td> <td>-1.3669</td> <td>2.2574</td>   <td>False</td>\n",
              "</tr>\n",
              "<tr>\n",
              "   <td>Fr N</td>   <td>Lp M</td>   <td>1.3863</td>   <td>0.178</td> <td>-0.2914</td>  <td>3.064</td>   <td>False</td>\n",
              "</tr>\n",
              "<tr>\n",
              "   <td>Fr N</td>   <td>Lp N</td>   <td>-0.035</td>    <td>1.0</td>  <td>-1.9722</td> <td>1.9022</td>   <td>False</td>\n",
              "</tr>\n",
              "<tr>\n",
              "   <td>Lp M</td>   <td>Lp N</td>   <td>-1.4213</td>  <td>0.155</td> <td>-3.099</td>  <td>0.2564</td>   <td>False</td>\n",
              "</tr>\n",
              "</table>"
            ],
            "text/latex": "\\begin{center}\n\\begin{tabular}{ccccccc}\n\\toprule\n\\textbf{group1} & \\textbf{group2} & \\textbf{meandiff} & \\textbf{p-adj} & \\textbf{lower} & \\textbf{upper} & \\textbf{reject}  \\\\\n\\midrule\n      Bi M      &       Bi N      &       0.5332      &     0.9838     &    -1.1445     &     2.2109     &      False       \\\\\n      Bi M      &       Fa M      &       2.0797      &     0.0005     &     0.7098     &     3.4495     &       True       \\\\\n      Bi M      &       Fa N      &       1.6218      &     0.065      &    -0.0559     &     3.2995     &      False       \\\\\n      Bi M      &       Fp M      &       2.5198      &      0.0       &      1.15      &     3.8897     &       True       \\\\\n      Bi M      &       Fp N      &       1.4598      &     0.1324     &    -0.2179     &     3.1375     &      False       \\\\\n      Bi M      &       Fr M      &      -1.4961      &      0.06      &    -3.0276     &     0.0354     &      False       \\\\\n      Bi M      &       Fr N      &      -1.0158      &     0.5716     &    -2.6935     &     0.6619     &      False       \\\\\n      Bi M      &       Lp M      &       0.3705      &     0.9948     &    -0.9993     &     1.7403     &      False       \\\\\n      Bi M      &       Lp N      &      -1.0508      &     0.5259     &    -2.7285     &     0.6269     &      False       \\\\\n      Bi N      &       Fa M      &       1.5465      &     0.0913     &    -0.1312     &     3.2242     &      False       \\\\\n      Bi N      &       Fa N      &       1.0887      &     0.6665     &    -0.8486     &     3.0259     &      False       \\\\\n      Bi N      &       Fp M      &       1.9867      &     0.0105     &     0.309      &     3.6644     &       True       \\\\\n      Bi N      &       Fp N      &       0.9267      &     0.8287     &    -1.0106     &     2.8639     &      False       \\\\\n      Bi N      &       Fr M      &      -2.0292      &     0.0184     &    -3.8414     &    -0.2171     &       True       \\\\\n      Bi N      &       Fr N      &       -1.549      &     0.2114     &    -3.4862     &     0.3882     &      False       \\\\\n      Bi N      &       Lp M      &      -0.1627      &      1.0       &    -1.8404     &     1.515      &      False       \\\\\n      Bi N      &       Lp N      &       -1.584      &     0.1884     &    -3.5212     &     0.3532     &      False       \\\\\n      Fa M      &       Fa N      &      -0.4578      &     0.9944     &    -2.1355     &     1.2199     &      False       \\\\\n      Fa M      &       Fp M      &       0.4402      &     0.9825     &    -0.9297     &      1.81      &      False       \\\\\n      Fa M      &       Fp N      &      -0.6198      &     0.9574     &    -2.2975     &     1.0579     &      False       \\\\\n      Fa M      &       Fr M      &      -3.5758      &      0.0       &    -5.1073     &    -2.0442     &       True       \\\\\n      Fa M      &       Fr N      &      -3.0955      &      0.0       &    -4.7732     &    -1.4178     &       True       \\\\\n      Fa M      &       Lp M      &      -1.7092      &     0.0059     &     -3.079     &    -0.3393     &       True       \\\\\n      Fa M      &       Lp N      &      -3.1305      &      0.0       &    -4.8082     &    -1.4528     &       True       \\\\\n      Fa N      &       Fp M      &       0.898       &     0.7224     &    -0.7797     &     2.5757     &      False       \\\\\n      Fa N      &       Fp N      &       -0.162      &      1.0       &    -2.0992     &     1.7752     &      False       \\\\\n      Fa N      &       Fr M      &      -3.1179      &     0.0001     &     -4.93      &    -1.3058     &       True       \\\\\n      Fa N      &       Fr N      &      -2.6377      &     0.002      &    -4.5749     &    -0.7004     &       True       \\\\\n      Fa N      &       Lp M      &      -1.2513      &     0.2916     &     -2.929     &     0.4264     &      False       \\\\\n      Fa N      &       Lp N      &      -2.6727      &     0.0017     &    -4.6099     &    -0.7354     &       True       \\\\\n      Fp M      &       Fp N      &       -1.06       &     0.5141     &    -2.7377     &     0.6177     &      False       \\\\\n      Fp M      &       Fr M      &      -4.0159      &      0.0       &    -5.5474     &    -2.4844     &       True       \\\\\n      Fp M      &       Fr N      &      -3.5357      &      0.0       &    -5.2134     &     -1.858     &       True       \\\\\n      Fp M      &       Lp M      &      -2.1493      &     0.0003     &    -3.5192     &    -0.7795     &       True       \\\\\n      Fp M      &       Lp N      &      -3.5707      &      0.0       &    -5.2484     &     -1.893     &       True       \\\\\n      Fp N      &       Fr M      &      -2.9559      &     0.0002     &     -4.768     &    -1.1438     &       True       \\\\\n      Fp N      &       Fr N      &      -2.4757      &     0.0045     &    -4.4129     &    -0.5384     &       True       \\\\\n      Fp N      &       Lp M      &      -1.0893      &     0.4765     &     -2.767     &     0.5884     &      False       \\\\\n      Fp N      &       Lp N      &      -2.5107      &     0.0038     &    -4.4479     &    -0.5734     &       True       \\\\\n      Fr M      &       Fr N      &       0.4802      &     0.9955     &    -1.3319     &     2.2924     &      False       \\\\\n      Fr M      &       Lp M      &       1.8666      &     0.0077     &     0.3351     &     3.3981     &       True       \\\\\n      Fr M      &       Lp N      &       0.4453      &     0.9974     &    -1.3669     &     2.2574     &      False       \\\\\n      Fr N      &       Lp M      &       1.3863      &     0.178      &    -0.2914     &     3.064      &      False       \\\\\n      Fr N      &       Lp N      &       -0.035      &      1.0       &    -1.9722     &     1.9022     &      False       \\\\\n      Lp M      &       Lp N      &      -1.4213      &     0.155      &     -3.099     &     0.2564     &      False       \\\\\n\\bottomrule\n\\end{tabular}\n%\\caption{Multiple Comparison of Means - Tukey HSD, FWER=0.05}\n\\end{center}"
          },
          "metadata": {},
          "execution_count": 197
        }
      ]
    },
    {
      "cell_type": "code",
      "source": [
        "print(np.where(np.round(result.meandiffs, 2) == 0.53)) # 46 Bi 85 Fr"
      ],
      "metadata": {
        "colab": {
          "base_uri": "https://localhost:8080/"
        },
        "id": "ypNayqUetVmV",
        "outputId": "8a263e1f-ee28-4040-94d7-cb3c63aadd94"
      },
      "execution_count": 198,
      "outputs": [
        {
          "output_type": "stream",
          "name": "stdout",
          "text": [
            "(array([0]),)\n"
          ]
        }
      ]
    },
    {
      "cell_type": "code",
      "source": [
        "result_list = result.groupsunique.tolist()\n",
        "all_groups = []\n",
        "\n",
        "while result_list:\n",
        "  for n in result_list:\n",
        "    if result_list[0] != n:\n",
        "      all_groups.append(str(result_list[0] + n))\n",
        "  result_list.pop(0)\n",
        "\n",
        "print(np.where(result.pvalues >= 0.05)[0])\n",
        "print(np.where(np.logical_and(result.pvalues < 0.05, result.pvalues >= 0.01))[0])\n",
        "print(np.where(np.logical_and(result.pvalues < 0.01, result.pvalues >= 0.001))[0])\n",
        "print(np.where(result.pvalues < 0.001)[0])\n",
        "\n",
        "ind = np.where(result.pvalues < 0.001)[0]\n",
        "\n",
        "#for i in ind:\n",
        "#  print(all_groups[i])"
      ],
      "metadata": {
        "id": "AbVsbnNxCm5B",
        "colab": {
          "base_uri": "https://localhost:8080/"
        },
        "outputId": "9b33f24a-ac66-4d2b-a671-5488489afafa"
      },
      "execution_count": 199,
      "outputs": [
        {
          "output_type": "stream",
          "name": "stdout",
          "text": [
            "[ 0  2  4  5  6  7  8  9 10 12 14 15 16 17 18 19 24 25 28 30 37 39 41 42\n",
            " 43 44]\n",
            "[11 13]\n",
            "[22 27 29 36 38 40]\n",
            "[ 1  3 20 21 23 26 31 32 33 34 35]\n"
          ]
        }
      ]
    },
    {
      "cell_type": "code",
      "source": [
        "import scipy.stats as stats\n",
        "import matplotlib.pyplot as plt\n",
        "\n",
        "y_ticks = np.round(np.arange(0, y_height, y_dist), 1)\n",
        "y_ticks"
      ],
      "metadata": {
        "id": "XWqL6nNh1TX1",
        "colab": {
          "base_uri": "https://localhost:8080/"
        },
        "outputId": "59231a8b-4d22-4307-bbb7-8b59abd027d5"
      },
      "execution_count": 200,
      "outputs": [
        {
          "output_type": "execute_result",
          "data": {
            "text/plain": [
              "array([0., 2., 4., 6.])"
            ]
          },
          "metadata": {},
          "execution_count": 200
        }
      ]
    },
    {
      "cell_type": "code",
      "source": [
        "# define columns for data and then grouping\n",
        "col_to_group=sorting_labels\n",
        "col_for_data=value\n",
        "data = dataVariant\n",
        "\n",
        "#Now take teh data and regroup for anova\n",
        "samples = [cols[1] for cols in data.groupby(col_to_group)[col_for_data]]\n",
        "#I am not sure how this works but it makes an numpy array for each group\n",
        "f_val, p_val = stats.f_oneway(*samples)\n",
        "# I am not sure what this star does but this passes all the numpy arrays correctly\n",
        "\n",
        "# this if statement can be uncommmented if you don't won't to go furhter with out p<0.05\n",
        "#if p_val<0.05:    #If the p value is less than 0.05 it then does the tukey\n",
        "mod = mc.MultiComparison(data[col_for_data].astype('float'), data[col_to_group])\n",
        "thsd=mod.tukeyhsd()\n",
        "\n",
        "#this is a function to do Piepho method.\n",
        "#AN Alogrithm for a letter based representation of al-pairwise comparisons.\n",
        "tot=len(thsd.groupsunique)\n",
        "print(thsd.groupsunique)\n",
        "#make an empty dataframe that is a square matrix of size of the groups. #set first column to 1\n",
        "df_ltr=pd.DataFrame(np.nan, index=np.arange(tot),columns=np.arange(tot))\n",
        "#df_ltr.iloc[:,0]=1\n",
        "df_ltr[df_ltr.columns[0]] = 1\n",
        "#df[df.columns[i]] = newvals` or, if columns are non-unique, `df.isetitem(i, newvals)\n",
        "\n",
        "count=0\n",
        "df_nms = pd.DataFrame('', index=np.arange(tot), columns=['names'])\n",
        "\n",
        "# I make a dummy dataframe to put axis labels into.  sd stands for signifcant difference\n",
        "\n",
        "for i in np.arange(tot):   #I loop through and make all pairwise comparisons.\n",
        "    for j in np.arange(i+1,tot):\n",
        "        #print('i=',i,'j=',j,thsd.reject[count])\n",
        "        if thsd.reject[count]==True:\n",
        "            for cn in np.arange(tot):\n",
        "                if df_ltr.iloc[i,cn]==1 and df_ltr.iloc[j,cn]==1:\n",
        "                  #If the column contains both i and j shift and duplicat\n",
        "                    df_ltr=pd.concat([df_ltr.iloc[:,:cn+1],df_ltr.iloc[:,cn+1:].T.shift().T],axis=1)\n",
        "                    df_ltr[df_ltr.columns[cn+1]]=df_ltr[df_ltr.columns[cn]]\n",
        "                    df_ltr.iloc[i,cn]=0\n",
        "                    df_ltr.iloc[j,cn+1]=0\n",
        "                #Now we need to check all columns for abosortpion.\n",
        "                for cleft in np.arange(len(df_ltr.columns)-1):\n",
        "                    for cright in np.arange(cleft+1,len(df_ltr.columns)):\n",
        "                        if (df_ltr[df_ltr.columns[cleft]].isna()).all()==False and (df_ltr[df_ltr.columns[cright]].isna()).all()==False:\n",
        "                            if (df_ltr[df_ltr.columns[cleft]]>=df_ltr[df_ltr.columns[cright]]).all()==True:\n",
        "                                df_ltr[df_ltr.columns[cright]]=0\n",
        "                                df_ltr=pd.concat([df_ltr[df_ltr.columns[:cright]],df_ltr[df_ltr.columns[cright:]].T.shift(-1).T],axis=1)\n",
        "                            if (df_ltr[df_ltr.columns[cleft]]<=df_ltr[df_ltr.columns[cright]]).all()==True:\n",
        "                                df_ltr[df_ltr.columns[cleft]]=0\n",
        "                                df_ltr=pd.concat([df_ltr[df_ltr.columns[:cleft]],df_ltr[df_ltr.columns[cleft:]].T.shift(-1).T],axis=1)\n",
        "\n",
        "        count+=1\n",
        "\n",
        "#I sort so that the first column becomes A\n",
        "df_ltr=df_ltr.sort_values(by=list(df_ltr.columns),axis=1,ascending=False)\n",
        "\n",
        "# I assign letters to each column\n",
        "for cn in np.arange(len(df_ltr.columns)):\n",
        "    df_ltr[df_ltr.columns[cn]]=df_ltr[df_ltr.columns[cn]].replace(1,chr(97+cn))\n",
        "    df_ltr[df_ltr.columns[cn]]=df_ltr[df_ltr.columns[cn]].replace(0,'')\n",
        "    df_ltr[df_ltr.columns[cn]]=df_ltr[df_ltr.columns[cn]].replace(np.nan,'')\n",
        "    #print(df_ltr.columns[cn])\n",
        "\n",
        "#I put all the letters into one string\n",
        "df_ltr=df_ltr.astype(str)\n",
        "df_ltr.sum(axis=1)\n"
      ],
      "metadata": {
        "id": "q1iiUvP25_C7",
        "colab": {
          "base_uri": "https://localhost:8080/",
          "height": 416
        },
        "outputId": "41f8110a-9271-4bcd-e191-120db247daae"
      },
      "execution_count": 201,
      "outputs": [
        {
          "output_type": "stream",
          "name": "stdout",
          "text": [
            "['Bi M' 'Bi N' 'Fa M' 'Fa N' 'Fp M' 'Fp N' 'Fr M' 'Fr N' 'Lp M' 'Lp N']\n"
          ]
        },
        {
          "output_type": "execute_result",
          "data": {
            "text/plain": [
              "0    abc\n",
              "1    abd\n",
              "2     de\n",
              "3    ade\n",
              "4      e\n",
              "5    ade\n",
              "6      c\n",
              "7     bc\n",
              "8     ab\n",
              "9     bc\n",
              "dtype: object"
            ],
            "text/html": [
              "<div>\n",
              "<style scoped>\n",
              "    .dataframe tbody tr th:only-of-type {\n",
              "        vertical-align: middle;\n",
              "    }\n",
              "\n",
              "    .dataframe tbody tr th {\n",
              "        vertical-align: top;\n",
              "    }\n",
              "\n",
              "    .dataframe thead th {\n",
              "        text-align: right;\n",
              "    }\n",
              "</style>\n",
              "<table border=\"1\" class=\"dataframe\">\n",
              "  <thead>\n",
              "    <tr style=\"text-align: right;\">\n",
              "      <th></th>\n",
              "      <th>0</th>\n",
              "    </tr>\n",
              "  </thead>\n",
              "  <tbody>\n",
              "    <tr>\n",
              "      <th>0</th>\n",
              "      <td>abc</td>\n",
              "    </tr>\n",
              "    <tr>\n",
              "      <th>1</th>\n",
              "      <td>abd</td>\n",
              "    </tr>\n",
              "    <tr>\n",
              "      <th>2</th>\n",
              "      <td>de</td>\n",
              "    </tr>\n",
              "    <tr>\n",
              "      <th>3</th>\n",
              "      <td>ade</td>\n",
              "    </tr>\n",
              "    <tr>\n",
              "      <th>4</th>\n",
              "      <td>e</td>\n",
              "    </tr>\n",
              "    <tr>\n",
              "      <th>5</th>\n",
              "      <td>ade</td>\n",
              "    </tr>\n",
              "    <tr>\n",
              "      <th>6</th>\n",
              "      <td>c</td>\n",
              "    </tr>\n",
              "    <tr>\n",
              "      <th>7</th>\n",
              "      <td>bc</td>\n",
              "    </tr>\n",
              "    <tr>\n",
              "      <th>8</th>\n",
              "      <td>ab</td>\n",
              "    </tr>\n",
              "    <tr>\n",
              "      <th>9</th>\n",
              "      <td>bc</td>\n",
              "    </tr>\n",
              "  </tbody>\n",
              "</table>\n",
              "</div><br><label><b>dtype:</b> object</label>"
            ]
          },
          "metadata": {},
          "execution_count": 201
        }
      ]
    },
    {
      "cell_type": "code",
      "source": [
        "new_df_ltr = np.array(df_ltr.sum(axis=1))\n",
        "new_ltr = []\n",
        "# ORDERING OF THE LETTERS!!!\n",
        "for i in range(len(group_order)):\n",
        "  ltr = [group_order[i], thsd.groupsunique.tolist().index(group_order[i]),\n",
        "  new_df_ltr[thsd.groupsunique.tolist().index(group_order[i])]]\n",
        "  print(ltr)\n",
        "  new_ltr.append(ltr[2])\n",
        "#print(np.array(df_ltr.sum(axis=1)), new_ltr)"
      ],
      "metadata": {
        "id": "hzeRp2PX46Rw",
        "colab": {
          "base_uri": "https://localhost:8080/"
        },
        "outputId": "80fc61a4-64b4-4009-d880-d514a67a765e"
      },
      "execution_count": 202,
      "outputs": [
        {
          "output_type": "stream",
          "name": "stdout",
          "text": [
            "['Lp M', 8, 'ab']\n",
            "['Lp N', 9, 'bc']\n",
            "['Fa M', 2, 'de']\n",
            "['Fa N', 3, 'ade']\n",
            "['Fp M', 4, 'e']\n",
            "['Fp N', 5, 'ade']\n",
            "['Fr M', 6, 'c']\n",
            "['Fr N', 7, 'bc']\n",
            "['Bi M', 0, 'abc']\n",
            "['Bi N', 1, 'abd']\n"
          ]
        }
      ]
    },
    {
      "cell_type": "code",
      "source": [
        "def draw_letters(y, follow_bars=False, bplt=0, fsize=10, rotation=0):\n",
        "\n",
        "  for i, grp in enumerate(pd.unique(data[variant].values)):   #I loop through the groups to make the scatters and figure out the axis labels.\n",
        "      if follow_bars:\n",
        "        y_pos = data[data[variant] == grp][value].max() + y * -0.05\n",
        "      else:\n",
        "        y_pos = y * 0.98 #y_pos = ax.get_ylim()[1]*1\n",
        "      ax.text(i+bplt, y_pos, new_ltr[i],\n",
        "              rotation=rotation, fontsize=fsize, verticalalignment='top', horizontalalignment='center')"
      ],
      "metadata": {
        "id": "ChOnKZpljoXG"
      },
      "execution_count": 203,
      "outputs": []
    },
    {
      "cell_type": "code",
      "source": [
        "import textwrap\n",
        "def wrap_labels(ax, width, break_long_words=False):\n",
        "    labels = []\n",
        "    for label in ax.get_xticklabels():\n",
        "        text = label.get_text()\n",
        "        labels.append(textwrap.fill(text, width=width,\n",
        "                      break_long_words=break_long_words))\n",
        "    ax.set_xticklabels(labels, rotation=0)"
      ],
      "metadata": {
        "id": "JI7zagrBaVCl"
      },
      "execution_count": 204,
      "outputs": []
    },
    {
      "cell_type": "code",
      "source": [
        "#Now to plot like R with a violing plot\n",
        "fig,ax=plt.subplots(figsize=(12,8))\n",
        "'''\n",
        "# For sorting !\n",
        "labels = pd.unique(data[variant]).astype(str)\n",
        "# create categorical data type and set categorical column as new data type\n",
        "dtype = pd.CategoricalDtype(labels, ordered=False)\n",
        "data[sorting_labels] = data[sorting_labels].astype(dtype)\n",
        "labels_new = [i[5:] for i in labels]\n",
        "'''\n",
        "\n",
        "#print(dtype)\n",
        "bp_dict = data.boxplot(column=col_for_data, by=sorting_labels, ax=ax, fontsize=18, patch_artist = True,\n",
        "             medianprops=dict(color='black'), # the median line\n",
        "             boxprops=dict(color='black'),\n",
        "             whiskerprops=dict(color='black')\n",
        "             )\n",
        "\n",
        "draw_letters(y_height, False, 1, fsize=26, rotation=90)\n",
        "\n",
        "fill_colors = ['tomato', 'dodgerblue', 'navy', 'dodgerblue']\n",
        "colors = ['tomato', 'dodgerblue', 'navy', 'dodgerblue']\n",
        "children = []\n",
        "\n",
        "for b in range(7):\n",
        "  for a in range(2):\n",
        "    repeated = np.tile(np.concatenate([np.repeat(i, j) for i, j\n",
        "                                       # the median line\n",
        "          in zip([fill_colors[a], 'black', 'black', 'black'], [1, 4, 1, 1])]), 1)\n",
        "    colors = np.append(repeated, colors)\n",
        "\n",
        "# OJIP graph\n",
        "from matplotlib.patches import PathPatch\n",
        "\n",
        "for patch, color in zip(bp_dict.get_children(), colors):\n",
        "  if isinstance(patch, PathPatch):\n",
        "    patch.set(facecolor = color)\n",
        "\n",
        "# OJIP graph\n",
        "children = [bp_dict.get_children()[0], bp_dict.get_children()[7],\n",
        "            bp_dict.get_children()[14], bp_dict.get_children()[28]]\n",
        "\n",
        "labels1=['$\\it{L. albus}$ mono', '$\\it{L. albus}$ mixed',\n",
        "        '$\\it{H. vulgare}$ mono', '$\\it{H. vulgare}$ mixed']\n",
        "\n",
        "labels=['8:30 h (24$^{o}$C)', '12:30 h (34$^{o}$C)']\n",
        "\n",
        "#ax.set_xticklabels([i[5:] for i in group_order], fontsize=24, style='normal', weight='bold', rotation=90)\n",
        "ax.set_xticks(np.arange(1.5, 9.6, 2), labels=group_order[::2], fontsize=16)\n",
        "ax.set_xticklabels([i[:2] for i in group_order[::2]], fontsize=32, style='normal', weight='bold', rotation=0)\n",
        "\n",
        "plt.ylim(ymax=y_height)\n",
        "ax.set_yticks(y_ticks)\n",
        "ax.set_yticklabels(y_ticks, fontsize=28, rotation=0)\n",
        "ax.set_ylabel(y_label, fontsize=28)\n",
        "\n",
        "ax.set(title='', ylabel=y_label, xlabel=x_label)\n",
        "ax.set_title(title_main, fontsize=38, rotation=0)\n",
        "\n",
        "# OJIP graph\n",
        "ax.legend(handles=children, labels=labels,\n",
        "          loc='lower left', fontsize=22)\n",
        "\n",
        "from matplotlib.ticker import (MultipleLocator, AutoMinorLocator)\n",
        "minor_locator = AutoMinorLocator(2)\n",
        "ax.xaxis.set_minor_locator(minor_locator)\n",
        "\n",
        "# OJIP graph\n",
        "plt.grid(False)\n",
        "ax.yaxis.grid(False)\n",
        "ax.xaxis.grid(True, linestyle='-', which='minor', color='lightgrey', alpha=1)\n",
        "fig.suptitle('')\n",
        "fig.savefig('anovatest.jpg',dpi=600,bbox_inches='tight')"
      ],
      "metadata": {
        "id": "pgvR10gb8nio",
        "colab": {
          "base_uri": "https://localhost:8080/",
          "height": 647
        },
        "outputId": "1a61bf19-68ad-4fdd-d305-c9c9e6ff0895"
      },
      "execution_count": 205,
      "outputs": [
        {
          "output_type": "display_data",
          "data": {
            "text/plain": [
              "<Figure size 1200x800 with 1 Axes>"
            ],
            "image/png": "[encoded data removed]"
          },
          "metadata": {}
        }
      ]
    }
  ]
}